{
 "cells": [
  {
   "cell_type": "markdown",
   "metadata": {
    "colab_type": "text",
    "id": "76JOHigzdcWD"
   },
   "source": [
    "<h1>Tutorial: Fancy Tools for Exploring Data Science with Python</h1>"
   ]
  },
  {
   "cell_type": "markdown",
   "metadata": {
    "colab_type": "text",
    "id": "nLW9TQkjfC4P"
   },
   "source": [
    "*Colab에서 열어보려면 뱃지를 클릭하세요!*"
   ]
  },
  {
   "cell_type": "markdown",
   "metadata": {},
   "source": [
    "<a href=\"https://colab.research.google.com/github/teboozas/python_tutorial_for_data_science/blob/master/Kor/Tutorial_Kor_Chap2_3 (object in Python_basic types).ipynb\" target=\"_parent\"><img align=\"left\" src=\"https://colab.research.google.com/assets/colab-badge.svg\" alt=\"Open In Colab\"/></a>"
   ]
  },
  {
   "cell_type": "markdown",
   "metadata": {
    "colab_type": "text",
    "id": "XtJ_5emycKNn"
   },
   "source": [
    "## 2. Python & object-oriented programming(OOP)"
   ]
  },
  {
   "cell_type": "markdown",
   "metadata": {
    "colab_type": "text",
    "id": "R3frjoWfhnom"
   },
   "source": [
    "### 2.3 Python의 객체 - 기본형"
   ]
  },
  {
   "cell_type": "markdown",
   "metadata": {
    "colab_type": "text",
    "id": "h-VrsW1vgF_c"
   },
   "source": [
    "#### 클래스와 인스턴스(1): Python의 객체들"
   ]
  },
  {
   "cell_type": "markdown",
   "metadata": {
    "colab_type": "text",
    "id": "9ev3OxQf7k2Y"
   },
   "source": [
    "**Python의 객체 구분 -내/외장 기준**\n",
    "\n",
    "* **내장형 객체** - Python을 설치하면 기본적으로 내장된 객체들로, 기본 자료형(숫자, 문자, 리스트 등)과 내장 함수(`print()`, `help()` 등)를 포함합니다.\n",
    "* **외장형 객체** - Python 커뮤니티에 다른 사용자들이 등록한 패키지 및 모듈에 포함된 객체들로, `Numpy` 패키지의 array 객체, `Tensorflow` 패키지의 dense layer 객체 등을 예로 들 수 있습니다.\n",
    "* **사용자 정의 객체** - Python 사용자가 필요에 의해 정의하는 객체로, `class`문과 `def`문을 사용해 만들 수 있습니다. <u>이 때 필요한 속성과 메소드는 내장형, 외장형, 사용자 정의 객체를 모두 포함</u>할 수 있습니다."
   ]
  },
  {
   "cell_type": "markdown",
   "metadata": {
    "colab_type": "text",
    "id": "rJop9KLlAPEM"
   },
   "source": [
    "**Python의 객체 구분 - 타입(type) 기준**\n",
    "\n",
    "* **자료형(data type)** - 프로그래밍에 사용할 데이터를 저장/가공하기 위한 객체들로, 일변량 자료형(숫자, 부울 변수 등)과 다변량 자료형(리스트, 튜플, 어레이, 딕셔너리 등)으로 구분할 수 있습니다.\n",
    "\n",
    "    다변량 자료형 객체는 그 안에 포함된 메소드를 자주 사용하게 됩니다. 특히 <u>리스트형(list type) 객체 메소드 문법은 데이터 사이언스를 구현할 때 매우 유용</u>합니다.\n",
    "\n",
    "* **함수형(function type)** - 프로그래밍에 사용할 기능성(functionality)을 표현하는 객체로, 입력 객체/출력 객체 사이의 관계를 정의하는 객체입니다. 사전에 Python 내부에 정의된 내장함수와 `def`문을 사용해 만드는 사용자 정의 함수가 있습니다.\n",
    "    \n",
    "    함수형 객체는 그 자체로도 사용할 수 있고, 사용자 정의 객체(클래스 및 함수)의 메소드로 활용할 수도 있습니다."
   ]
  },
  {
   "cell_type": "markdown",
   "metadata": {
    "colab_type": "text",
    "id": "Ag_X6hZtszrT"
   },
   "source": [
    "**객체의 정보를 확인하는 유용한 내장 함수들**\n",
    "\n",
    "* **`type(객체명)`** - 객체의 type 정보를 출력합니다.\n",
    "* **`dir(객체명)`** - 객체가 가진 속성과 메소드 목록을 출력합니다.\n",
    "* **`help(객체명)`** - 객체가 가진 전반적인 정보, 특히 메소드에 대한 자세한 정보를 출력합니다."
   ]
  },
  {
   "cell_type": "code",
   "execution_count": 0,
   "metadata": {
    "colab": {},
    "colab_type": "code",
    "id": "QK2HEIugK5it"
   },
   "outputs": [],
   "source": [
    "# 한 개의 code cell에서 여러 개의 print문을 출력하기 위한 옵셔입니다.\n",
    "from IPython.core.interactiveshell import InteractiveShell\n",
    "InteractiveShell.ast_node_interactivity = \"all\""
   ]
  },
  {
   "cell_type": "code",
   "execution_count": 0,
   "metadata": {
    "colab": {},
    "colab_type": "code",
    "id": "RYx9YKmJtaAW"
   },
   "outputs": [],
   "source": [
    "# 객체 정보를 출력하는 내장 함수 예제입니다.\n",
    "# 리스트형(list type) 자료형을 예시로 사용하겠습니다.\n",
    "# type() 함수 예제입니다.\n",
    "type([1,2,3,4,5])"
   ]
  },
  {
   "cell_type": "code",
   "execution_count": 0,
   "metadata": {
    "colab": {},
    "colab_type": "code",
    "id": "SZ2fSNgEuVjb"
   },
   "outputs": [],
   "source": [
    "# dir() 함수 예제입니다.\n",
    "# 특수 메소드를 제외한 리스트형의 메소드들을 확인할 수 있습니다.\n",
    "dir([1,2,3,4,5])"
   ]
  },
  {
   "cell_type": "code",
   "execution_count": 0,
   "metadata": {
    "colab": {},
    "colab_type": "code",
    "id": "1Y6zy517uVzd"
   },
   "outputs": [],
   "source": [
    "# help() 함수 예제입니다.\n",
    "# 리스트형의 특징과 속성, 메소드 사용 방법이 자세하게 출력됩니다.\n",
    "help([1,2,3,4,5])"
   ]
  },
  {
   "cell_type": "markdown",
   "metadata": {
    "colab_type": "text",
    "id": "_3xQhxZ1gUH1"
   },
   "source": [
    "#### 클래스와 인스턴스(2): 변수(variable)와 할당(assignment)"
   ]
  },
  {
   "cell_type": "markdown",
   "metadata": {
    "colab_type": "text",
    "id": "KdWje3e7zF-6"
   },
   "source": [
    "Python에서는 객체를 직접 다루기 보다는 변수(variable)를 사용해 프로그램을 작성합니다.\n",
    "\n",
    "* Python의 변수는 C언어의 포인터(pointer)와 같습니다. 즉 실제 객체가 저장된 주소가 기록된 공간이 변수입니다.\n",
    "* 변수는 이름과 객체사이를 할당 연산자(assignment opterator)인 `=`로 이어 지정합니다.\n",
    "> variable_name = target_object\n",
    "    \n",
    "    변수 이름은 원하는 대로 자유롭게 지정할 수 있고, 위에서 설명한 이름 규칙을 따라 짓는 것이 관례입니다.\n",
    "\n",
    "* 변수는 함수나 명령어, 그리고 또 다른 할당 연산자로 변경할 수 있습니다. 이 때 할당된 객체도 함께 변경되며 새로운 주소가 할당되어 변수에 재저장됩니다."
   ]
  },
  {
   "cell_type": "code",
   "execution_count": 0,
   "metadata": {
    "colab": {},
    "colab_type": "code",
    "id": "I7CnroMM9MZb"
   },
   "outputs": [],
   "source": [
    "# 클래스와 인스턴스, 그리고 변수의 관계를 알아보는 예제입니다.\n",
    "# 내장형 함수 `sum`은 클래스입니다.\n",
    "sum"
   ]
  },
  {
   "cell_type": "code",
   "execution_count": 0,
   "metadata": {
    "colab": {},
    "colab_type": "code",
    "id": "5qXK6izgJa2I"
   },
   "outputs": [],
   "source": [
    "# 내장형 함수 `sum`에 [1,2,3]을 대입한 것은 인스턴스입니다.\n",
    "sum([1,2,3])"
   ]
  },
  {
   "cell_type": "code",
   "execution_count": 0,
   "metadata": {
    "colab": {},
    "colab_type": "code",
    "id": "ektQCsh8Jz94"
   },
   "outputs": [],
   "source": [
    "# x, y는 인스턴스 `sum([1,2,3])`을 할당받은 변수들이며, 서로 같은 주소를 공유합니다.\n",
    "# id() 함수는 객체가 저장된 주소를 출력하는 함수입니다.\n",
    "x = sum([1,2,3])\n",
    "y = sum([1,2,3])\n",
    "print(id(x))\n",
    "print(id(y))\n",
    "print(id(sum([1,2,3])))"
   ]
  },
  {
   "cell_type": "markdown",
   "metadata": {
    "colab_type": "text",
    "id": "E7iG9flqgu91"
   },
   "source": [
    "#### 속성: Python의 자료형(data type)"
   ]
  },
  {
   "cell_type": "markdown",
   "metadata": {
    "colab_type": "text",
    "id": "KskMNEOrRd9W"
   },
   "source": [
    "Python은 데이터를 저장, 가공하기 위해 다양한 자료형(data type)을 제공하고 있습니다. 이런 자료형은 내장 함수와 클래스의 인스턴스를 만들기 위해서도 사용되고, 동시에 뒤에서 알아볼 사용자 지정 클래스의 속성(attribute)을 정의하기 위해서도 사용됩니다. 이 챕터의 제목을 '속성'으로 시작하는 것도 이런 이유 때문입니다.\n",
    "\n",
    "여기서는 Python의 주요 내장 자료형을 **일변량**과 **다변량**으로 나누어 알아보고, 이에 포함된 주요 속성/메소드를 간단히 살펴보도록 하겠습니다."
   ]
  },
  {
   "cell_type": "markdown",
   "metadata": {
    "colab_type": "text",
    "id": "3jDSCayGewDY"
   },
   "source": [
    "**일변량 자료형(simple data type)**\n",
    "\n",
    "Python의 일변량 자료형은 R의 일변량 자료형과 대부분 비슷하나, 부울형 값 표현과 `None`형은 차이가 있습니다.\n",
    "\n",
    "* **숫자형(numbers)** - 크게 정수형(integer), 실수형(float), 복소수형(complex)으로 구분할 수 있습니다.\n",
    "    > 정수형 변수 : `x = 1`<br>\n",
    "    > 실수형 변수 : `x = 1.0`<br>\n",
    "    > 복소수형 변수 : `x = 1 + 2j` (복소수부는 `j` 또는 `J`를 뒤에 기입합니다.)\n",
    "* **문자형(string)** - `' '` 또는 `\" \"` 사이에 기입된 값은 문자 자료형으로 저장됩니다.\n",
    "    > 문자형 변수 : `x = \"this is string.\"`\n",
    "* **불리언(Boolean)** - `True` 또는 `False` 값을 가집니다.\n",
    "    > 불리언 변수 : `x = True` (첫 글자만 대문자로 표기합니다.)\n",
    "* **`None`(`None` type)** - 일변량 자료형이 아무 값도 가지지 않을 경우(null) Python은 `None`값을 저장합니다.\n",
    "    > `None` 변수 : `x = None` (아무 값도 존재하지 않는 null 상태를 표현합니다.)"
   ]
  },
  {
   "cell_type": "markdown",
   "metadata": {
    "colab_type": "text",
    "id": "6cPPjzLIhLnL"
   },
   "source": [
    "**다변량 자료형(compound data type)**\n",
    "    \n",
    "Python은 여러 개의 값을 저장/가공하기 위한 다양한 다변량 자료형을 제공하고 있습니다. 다변량 자료형을 다루는 것은 Python을 활용하는 데이터 사이언스의 핵심입니다.특히 리스트형과 딕셔너리형은 그 활용도가 매우 높습니다.\n",
    "* **리스트형(list)** - 순서가 있는(ordered) 가변(mutable) 자료형입니다.즉 리스트 안의 값들은 순서가 있으며 사용자가 변경할 수 있습니다.\n",
    "    > 리스트형 변수 : `x = [1,2,3]` (대괄호로 정의)\n",
    "* **튜플형(tuple)** - 순서가 있는(ordered) 불변(immutable) 자료형입니다. 한 번 인스턴스를 지정하면 사용자가 그 값을 바꿀 수 없습니다.\n",
    "    > 튜플형 변수 : `x = (1,2,3)` 또는 `x = 1,2,3` (소괄호 또는 콤마로 정의)\n",
    "* **딕셔너리형(dictionary)** - 키(key)와 값(value)의 매핑을 저장하는 자료형입니다. 키는 중복된 값이 없도록 유지됩니다.\n",
    "    > 딕셔너리형 변수 : `x = {'a' : 1, 'b' : 2, 'c' : 3}` (키 : 값 쌍을 중괄호로 정의)\n",
    "* **집합형(set)** - 순서가 없는(unordered) 가변(mutable) 자료형입니다. 중복된 값이 없도록 유지됩니다.\n",
    "    > 집합형 변수 : `x = {1,2,3}` (중괄호로 정의)\n",
    "\n"
   ]
  },
  {
   "cell_type": "markdown",
   "metadata": {
    "colab_type": "text",
    "id": "sSmzMf9VqzRE"
   },
   "source": [
    "**자료형의 속성과 메소드**\n",
    "\n",
    "Python의 자료형은 객체이기 때문에 그 자체로 속성과 메소드가 있으며, 특히 다변량 자료형은 두 가지를 적절히 사용하는 것이 중요합니다.\n",
    "* 리스트형 변수 - `append()` (새 요소 추가), `extend()` (새 요소들 추가) 등\n",
    "* 딕셔너리형 변수 - `keys()` (키들을 인스턴스로 출력), `values()` (값들을 인스턴스로 출력) 등\n",
    "* 집합형 변수 - `union()` (합집합 인스턴스 출력), `intersection()` (교집합 인스턴스 출력) 등"
   ]
  },
  {
   "cell_type": "markdown",
   "metadata": {
    "colab_type": "text",
    "id": "nOiHfsbBhJh8"
   },
   "source": [
    "#### 메소드(1): 연산자(operator)와 흐름 제어(control flow), 그리고 예외 처리(exception)"
   ]
  },
  {
   "cell_type": "markdown",
   "metadata": {
    "colab_type": "text",
    "id": "zPvlm6C5ElK8"
   },
   "source": [
    "함수가 프로그래밍의 꽃이라 불리듯 객체 지향 프로그래밍의 메소드(method) 역시 핵심적인 요소입니다.\n",
    "\n",
    "메소드는 입력과 출력의 관계를 정의하고, 객체의 기능성을 부여합니다. 특히 연산과 제어, 예외 처리는 함수와 메소드를 구성하는 필수 요소입니다. 여기서는 Python의 **연산자(operator)**와 **흐름 제어(control flow)**방법, 그리고 **예외 처리(exception)** 방법에 대해 간략히 살펴보도록 하겠습니다."
   ]
  },
  {
   "cell_type": "markdown",
   "metadata": {
    "colab_type": "text",
    "id": "bujWOMLGFQWV"
   },
   "source": [
    "**연산자(operator)**\n",
    "\n",
    "* **산술 연산자(arithmetic operator)**\n",
    "\n",
    "    산술 연산자의 쓰임새는 매우 직관적이며, 일부 기능은 문자형, 리스트형 등 다른 객체들에도 적용할 수 있습니다.\n",
    "    > `a + b` (addition, 두 객체의 합)<br>\n",
    "    > `a - b` (subtraction, 두 객체의 차)<br>\n",
    "    > `a * b` (multiplication, 두 객체의 곱)<br>\n",
    "    > `a / b` (true division, 두 객체의 나눗셈)<br>\n",
    "    > `a // b` (floor division, 몫 연산)<br>\n",
    "    > `a % b` (modulus, 나머지 연산)<br>\n",
    "    > `a ** b` (exponentiation, 거듭제곱 연산)<br>\n",
    "    > `-a` (negation, 부호 변환)\n",
    "    \n",
    "* **비트 연산자(bitwise operator)**\n",
    "\n",
    "    비트 연산자는 이진수로 표현된 객체들에 대한 연산을 수행합니다. 일부 표현이 다른 프로그래밍 언어에서의 쓰임새와 다름에 신경써야합니다. (`&`, `^` 등)\n",
    "    > `a & b` (bitwise AND)<br>\n",
    "    > `a | b` (bitwise OR)<br>\n",
    "    > `a ^ b` (bitwise XOR)<br>\n",
    "    > `a << b` (bit shift left)<br>\n",
    "    > `a >> b` (bit shift right)<br>\n",
    "    > `~a` (bitwise NOT)\n",
    "    \n",
    "* **할당 연산자(assignment operator)**\n",
    "    \n",
    "    할당 연산자는 변수 할당과 동시에 산술 연산, 또는 비트 연산을 수행하는 연산자입니다. 연산자 `=` 앞에 산술 연산자와 비트 연산자를 덧붙여 사용하면 됩니다.\n",
    "    > 예시) 이 두 연산자는 같은 기능을 가지고 있습니다<br>\n",
    "    > `a += 2`<br>\n",
    "    > `a = a + 2`\n",
    "\n",
    "* **비교 연산자(comparison operator)**\n",
    "\n",
    "    비교 연산자는 두 객체의 '값(value)'을 비교하여 불리언(`True` 또는 `False`)을 출력합니다.\n",
    "    > `a == b` (`a`와 `b`의 값이 같은지 확인)<br>\n",
    "    > `a != b` (`a`와 `b`의 값이 같지 않은지 확인)<br>\n",
    "    > `a < b` (`a`값이 `b`값보다 작은지 확인)<br>\n",
    "    > `a > b` (`a`값이 `b`값보다 큰지 확인)<br>\n",
    "    > `a <= b` (`a`값이 `b`값보다 이상인지 확인)<br>\n",
    "    > `a >= b` (`a`값이 `b`값보다 이하인지 확인)<br>\n",
    "\n",
    "* **불리언 연산자(Boolean operator)**\n",
    "    \n",
    "    불리언 연산자는 두 불리언 값을 비교하여 또 다른 불리언을 출력하는 논리 연산자입니다.\n",
    "    > `a and b` (`a`와 `b`가 모두 `True`인지 확인)<br>\n",
    "    > `a or b` (`a`와 `b` 둘 중에 하나가 `True`인지 확인)<br>\n",
    "    > `not a` (`a`가 `False`인지 확인)\n",
    "\n",
    "* **동일 객체 확인(identity) 및 포함 관계 확인(membership) 연산자**\n",
    "\n",
    "    두 객체가 동일한 객체인지 확인하는 identity 연산자는 불리언 값을 출력합니다.\n",
    "    > `a is b` (`a` 객체가 `b` 객체와 같은지 확인)<br>\n",
    "    > `a is not b` (`a` 객체가 `b` 객체와 같지 않은지 확인)\n",
    "    \n",
    "    또한 다변량 자료형 객체에 특정 값이 포함되는지 확인하는 membership 연산자 역시 불리언 값을 출력합니다.\n",
    "    > `a in b` (`a`가 `b`에 포함되는지 확인)<br>\n",
    "    > `a not in b` (`a`가 `b`에 포함되지 않는지 확인)\n",
    "\n",
    "* **연산자 중첩과 상위 관계(precedence)**\n",
    "\n",
    "    Python에서도 여러 개의 연산자를 한 구문에서 사용할 수 있습니다. 그 연산의 우선순위는 상위 관계(precedence)로 지정되어 있습니다.\n",
    "    > 예시: `a > b or c < d and e > f`\n"
   ]
  },
  {
   "cell_type": "markdown",
   "metadata": {
    "colab_type": "text",
    "id": "QaXK54tzcTN6"
   },
   "source": [
    "**흐름 제어(control flow)**\n",
    "\n",
    "흐름 제어는 코드 블록의 실행 조건(condition)과 루프(loop)를 구현하는 것을 의미합니다. Python의 흐름 제어 명령문 다른 언어와 비슷하지만, 좀 더 직관적인 표현을 사용합니다.\n",
    "\n",
    "* **조건문(conditional statement) - `if`, `elif`, `else`**\n",
    "    \n",
    "    조건문은 불리언(Boolean) 값을 입력으로 받고, 불리언이 `True`일 때 조건문에 속하는(포함되는) 코드 블록을 실행합니다. 이 때 포함관계는 앞서 언급한 들여쓰기(indentation)로 구분합니다.\n",
    "\n",
    "    조건문 명령어는 크게 `if`, `elif`, `else`로 나뉩니다. 조건 명령어를 사용하기 위해서는 `True` 또는 `False`를 출력하는 코드를 명령어 뒤에 적은 뒤, 콜론(`:`)으로 줄바꿈 후 들여쓰기로 실행할 코드 블록을 작성합니다.\n",
    "\n",
    "    `elif`문은 Python에서 사용하는 명령어로 다른 언어의 `else if`를 대체합니다.\n",
    "\n",
    "    `else`문은 이전에 판정한 불리언이 모두 `False`일 경우 실행할 코드 블럭을 감싸 사용합니다. Python에서의 `else`문은 루프에서도 사용할 수 있는데, 뒤에서 다룰 `break`문과 반대의 역할을 합니다.\n",
    "\n",
    "* **루프(loop) - `for ... in ...`**\n",
    "\n",
    "    소위 `for`문 루프는 대부분의 프로그래밍 언어에서 루프를 구현하는 표준입니다. 이는 Python에서도 마찬가지로 `while`문 루프에 비해 자주 사용됩니다.\n",
    "\n",
    "    Python의 `for`문은 변수명과 이터레이터(iterator)라는 객체를 `in`문으로 연결해 사용합니다. 이터레이터는 루프가 가능한 Python의 모든 객체를 의미하며, 대표적으로는 레인지(range)와 리스트(list)가 있습니다.\n",
    "\n",
    "* **루프(loop) - `while ...`**\n",
    "\n",
    "    `while`문 루프는 특정 조건이 참일 때, 즉 입력된 불리언이 `False`일 때까지 코드 블록을 실행하는 루프입니다. 소위 무한 루프를 구현할 수 있으며, 이를 방지하기 위해 대개 제어문과 함께 사용합니다.\n",
    "\n",
    "* **루프 제어(loop control) - `break`, `continue`, `else`**\n",
    "\n",
    "    루프를 실행 중에 중단시키거나 코드 블럭을 끝까지 실행 하지 않도록 하는 등의 세부 조정이 필요할 경우 루프 제어문을 사용합니다. 루프 제어는 `if` 등의 조건문과 함께 사용하면 표현이 풍부해집니다.\n",
    "\n",
    "    `break`문은 루프로부터 즉시 빠져나오는 명령어입니다. 더 이상 루프가 실행되지 않습니다.\n",
    "\n",
    "    `continue`문은 루프의 코드 블록을 끝까지 실행하지 않고 다음 이터레이션(iteration)을 시작합니다. 루프 자체는 계속 실행됩니다.\n",
    "\n",
    "    `else`문은 루프에서도 사용할 수 있습니다. `else`에 정의된 코드 블록은 `break`가 발생하지 않고 루프가 끝까지 실행된 뒤에 종료되면 이어서 실행되며, `break`가 발생했다면 실행되지 않습니다.\n"
   ]
  },
  {
   "cell_type": "code",
   "execution_count": 0,
   "metadata": {
    "colab": {},
    "colab_type": "code",
    "id": "-jHMP58PmCVA"
   },
   "outputs": [],
   "source": [
    "# 조건문을 작성하는 예제입니다.\n",
    "# 조건문은 불리언을 출력하는 문장이 필요하며, 콜론과 들여쓰기로 포함관계를 표현합니다.\n",
    "\n",
    "x = 10\n",
    "\n",
    "if x > 20:\n",
    "    print(\"x is greater than 20\")\n",
    "    print(\"x is a large number\")\n",
    "elif x > 10:\n",
    "    print(\"x is greater than 10\")\n",
    "    print(\"x is a not large number\")\n",
    "else:\n",
    "    print(\"x is less than or equal to 10\")\n",
    "    print(\"x is a small number\")"
   ]
  },
  {
   "cell_type": "code",
   "execution_count": 0,
   "metadata": {
    "colab": {},
    "colab_type": "code",
    "id": "a1JF1Q6KHKHL"
   },
   "outputs": [],
   "source": [
    "# '에라토스테네스의 체'를 루프와 루프 제어로 구현한 예제입니다.\n",
    "# 리스트와 리스트의 `append` 메소드, 그리고 `range`함수를 활용해 루프를 작성합니다.\n",
    "\n",
    "# `[]`로 빈 리스트 인스턴스를 변수 `L`에 할당합니다.\n",
    "L = []\n",
    "nmax = 30\n",
    "\n",
    "# `else`문의 들여쓰기 위치를 눈여겨보세요!\n",
    "for n in range(2,nmax):\n",
    "    for factor in L:\n",
    "        if n % factor == 0:\n",
    "            break\n",
    "    else:\n",
    "        L.append(n)\n",
    "\n",
    "print(L)"
   ]
  },
  {
   "cell_type": "markdown",
   "metadata": {
    "colab_type": "text",
    "id": "UJMVhz3sI8gO"
   },
   "source": [
    "**예외 처리(exception)**\n",
    "\n",
    "좋은 프로그램의 조건 중 하나는 에러를 예측할 수 있다는 점일 것입니다. 실행 중 에러가 발생했을 때 그 종류와 발생 위치가 알려지는 것은 디버깅(debugging)을 위해 아주 중요하고, Python의 에러 핸들링 기능은 상당히 강력하다고 합니다.\n",
    "\n",
    "이런 기능을 합쳐 예외 처리(exception control)라 합니다. Python의 예외 처리 기능은 매우 방대하지만, 여기서는 필요한 내용만 짚고 넘어가겠습니다.\n",
    "\n",
    "* **에러의 종류 - `Syntax`, `Runtime`, `Semantic`**\n",
    "\n",
    "    `SyntaxError`는 코드를 실행할 때 가장 많이 보게 되지만 가장 쉽게 해결할 수 있는 에러입니다. Python이 지정한 문법 구문이 아닌 경우 발생하며, 들여쓰기나 괄호 위치등이 잘못된 경우가 있습니다.\n",
    "\n",
    "    `RuntimeError`는 문법적으로는 이상이 없지만 잘못된 입력 등이 발생한 경우 나타납니다. 없는 변수 이름을 참조하거나(`NameError`) 연산 불가능한 객체를 연산하거나 (`TypeError`) 산술적으로 불가능한 연산인 경우 (`ZeroDivisionError`)등이 여기에 해당합니다. \n",
    "\n",
    "    `SemanticError`는 결과가 정상적으로 나오지만 기대하던 값이 아닌 경우를 의미합니다. 디버깅이 가장 힘든 경우입니다.\n",
    "\n",
    "* **예외 처리 - `try`, `except`, `else`, `finally`**\n",
    "\n",
    "    `try`문은 에러가 발생한 경우 코드 블럭 실행을 중단하고 `except`문으로 넘어가도록 하는 연산자입니다. 에러가 발생하지 않으면 `try`문의 코드 블럭만 실행됩니다.\n",
    "\n",
    "    `except`문은 `try`문의 코드 블럭에서 에러가 발생한 경우 실행할 코드 블럭을 정의합니다. 이 때 코드를 실행시킬 에러의 종류를 지정할 수 있으며, 이에 해당하지 않는 에러는 그대로 출력되고 프로그램 실행이 중단됩니다.\n",
    "\n",
    "    `else`문은 예외 처리에서도 사용할 수 있습니다. 루프 제어에서와 마찬가지로 `try`문에서 에러가 나오지 않아 실행이 중단되지 않았을 경우 실행할 코드 블럭을 정의합니다.\n",
    "\n",
    "    `finally`문은 에러 발생 여부와 상관없이 실행할 코드 블럭을 정의할 수 있으나, 활용도가 높지는 않습니다.\n",
    "\n",
    "* **에러 발생시키기 - `raise`**\n",
    "\n",
    "    `raise`문은 함수나 클래스를 사용자가 정의할 때 의도하지 않은 입력에 대해 에러를 출력하도록 지정할 수 있습니다. 이 때 출력할 메시지도 함께 입력하여 디버깅을 도울 수 있습니다.\n",
    "\n",
    "* **자동 에러 검사 - `assert`**\n",
    "\n",
    "    `assert`문은 불리언 값으로 에러 여부를 자동으로 검사합니다. 만약 `assert`문이 `False`값을 받으면 `AssertionError`가 발생합니다.\n"
   ]
  },
  {
   "cell_type": "code",
   "execution_count": 0,
   "metadata": {
    "colab": {},
    "colab_type": "code",
    "id": "dCeUnww4RVxG"
   },
   "outputs": [],
   "source": [
    "# 예외 처리 과정을 순서대로 나타낸 예시입니다.\n",
    "\n",
    "try:\n",
    "    print(\"try something here\")\n",
    "except:\n",
    "    print(\"this happens only if it fails\")\n",
    "else:\n",
    "    print(\"this happens only if it succeeds\")\n",
    "finally:\n",
    "    print(\"this happens no matter what\")"
   ]
  },
  {
   "cell_type": "code",
   "execution_count": 0,
   "metadata": {
    "colab": {},
    "colab_type": "code",
    "id": "VTDSWBQURwMC"
   },
   "outputs": [],
   "source": [
    "# `raise`문을 사용해 에러를 발생시킨 경우 예외 처리 과정입니다.\n",
    "\n",
    "try:\n",
    "    print(\"try something here\")\n",
    "    raise RuntimeError\n",
    "    print(\"something bad not happened\")\n",
    "except:\n",
    "    print(\"this happens only if it fails\")\n",
    "else:\n",
    "    print(\"this happens only if it succeeds\")\n",
    "finally:\n",
    "    print(\"this happens no matter what\")"
   ]
  },
  {
   "cell_type": "code",
   "execution_count": 0,
   "metadata": {
    "colab": {},
    "colab_type": "code",
    "id": "W3RleSq3dJsI"
   },
   "outputs": [],
   "source": [
    "# `assert`문 사용 예제입니다.\n",
    "\n",
    "assert 1>0, \"this is true\"\n",
    "assert 1<0, \"this is false\""
   ]
  },
  {
   "cell_type": "markdown",
   "metadata": {
    "colab_type": "text",
    "id": "AD8FKqGs6aN6"
   },
   "source": [
    "#### 메소드(2): `def`문과 사용자 지정 함수"
   ]
  },
  {
   "cell_type": "markdown",
   "metadata": {
    "colab_type": "text",
    "id": "GUMjMY9UUpTB"
   },
   "source": [
    "사용자 지정 함수는 위에서 다룬 연산자, 조건과 루프, 예외 처리를 통해 다양한 자료형과 객체 간의 관계를 사용자가 직접 정의한 것입니다.\n",
    "\n",
    "Python의 사용자 지정 함수는 **`def`문**을 사용해 만듭니다. 또한 저장하지 않고 임시적으로 사용할 함수도 **`lambda`문**을 사용해 만들 수 있습니다."
   ]
  },
  {
   "cell_type": "markdown",
   "metadata": {
    "colab_type": "text",
    "id": "swIYPZ76VQui"
   },
   "source": [
    "**`def`문**\n",
    "\n",
    "`def`문으로 사용자 지정 함수를 만드는 문법은 다음과 같습니다. 이 때 콜론(`:`)을 반드시 써야하며, 인자(argument)는 지정하지 않아도 됩니다.\n",
    "> `def 함수이름(인자):`\n",
    ">     코드 블럭\n",
    "\n",
    "* **인자(argument)**\n",
    "\n",
    "    인자(argument)는 함수를 사용할 때 사용자가 입력해야 하는 값입니다. 인자를 반드시 지정하지 않아도 되지만 빈 괄호 (`()`)는 반드시 써줘야하며, 그렇지 않으면 `SyntaxError`가 발생합니다.\n",
    "\n",
    "    사전에 인자의 기본값을 설정할 수도 있습니다. 단 이 경우에 괄호 안에서의 기본값 인자들은 기본값이 없는 인자들의 뒤에 배치되어야 합니다. 그렇지 않으면 `SyntaxError`가 발생합니다.\n",
    "\n",
    "    ※ *엄밀하게는 함수의 정의에 사용되는 변수는 파라미터(parameter), 그리고 파라미터에 전달된 실제 값을 인자(argument)라고 합니다. 하지만 많이 혼용되는 용어이고, 키워드 인자와 위치 인자가 널리 사용되기 때문에 여기서는 '인자'로 통일하여 사용하겠습니다.*\n",
    "\n",
    "* **결과값 반환 - `return`**\n",
    "\n",
    "    `return`문은 함수에서 실행된 결과를 저장해 반환하는 명령어입니다. \n",
    "    \n",
    "    함수는 결과값을 반환하지 않는 경우도 있지만, 필요하다면 `return`문을 사용하면 됩니다. 이 때 `return`문은 단 하나의 결과만 반환하므로, 여러 개의 결과를 반환하는 함수의 경우 다변량 자료형으로 지정해야 합니다. (튜플, 리스트 등)\n",
    "\n",
    "    또한 여러 개의 `return`문을 사용하면 맨 위에 지정된 `return`문만 반환됨에 주의해야 합니다."
   ]
  },
  {
   "cell_type": "code",
   "execution_count": 0,
   "metadata": {
    "colab": {},
    "colab_type": "code",
    "id": "8RdhtK4-abwE"
   },
   "outputs": [],
   "source": [
    "# '피보나치 수열'을 사용자 정의 함수로 구현한 예제입니다.\n",
    "# `n`은 위치 인자, `a`와 `b`는 키워드 인자입니다.\n",
    "# 여기서는 다변량 자료형의 길이를 출력하는 `len` 함수가 사용되었습니다.\n",
    "\n",
    "def fibonacci(n, a=0, b=1):\n",
    "    L = []\n",
    "    while len(L) < n:\n",
    "        a, b = b, a + b\n",
    "        L.append(a)\n",
    "    return L\n",
    "\n",
    "fibonacci(10)"
   ]
  },
  {
   "cell_type": "markdown",
   "metadata": {
    "colab_type": "text",
    "id": "KmEWIeaaJ8oY"
   },
   "source": [
    "**`lambda`문**\n",
    "\n",
    "`lambda`문은 익명 함수(anonymous function)를 만드는 구문입니다.\n",
    "> `lambda` 인자들 : 관계식\n",
    "\n",
    "`lambda`로 만드는 익명 함수는 표현이 간결하고, 다른 구문 사이에 즉석에서 기능성을 부여할 수 있다는 장점이 있습니다.\n",
    "\n",
    "※ *람다 표현식(lambda expression)은 OOP와 같은 프로그래밍 패러다임인 함수형 프로그래밍(functional programming)을 구현하는 방식 중 하나입니다.*"
   ]
  },
  {
   "cell_type": "code",
   "execution_count": 0,
   "metadata": {
    "colab": {},
    "colab_type": "code",
    "id": "pCV17xYAhlx4"
   },
   "outputs": [],
   "source": [
    "# `lambda`문을 활용해 간단한 덧셈 함수를 만들어봅니다.\n",
    "my_add = lambda a, b : a + b\n",
    "my_add(1,2)"
   ]
  },
  {
   "cell_type": "markdown",
   "metadata": {
    "colab_type": "text",
    "id": "Br42bvTMiCXq"
   },
   "source": [
    "### 참고자료 (Python & object-oriented programming(OOP))"
   ]
  },
  {
   "cell_type": "markdown",
   "metadata": {
    "colab_type": "text",
    "id": "YKvHUd1NiHDw"
   },
   "source": [
    "* [Python 공식 documentation (한국어, 3.6.9버전)](https://docs.python.org/ko/3.6/index.html) - 자습서를 포함한 Python 관련 공식 기술문서를 열람할 수 있습니다.\n",
    "* [점프 투 파이썬 WikiDocs](https://wikidocs.net/book/1) - Python 교재 중 인지도가 높은 책이며, WikiDocs로 무료 배포되어 있습니다.\n",
    "* [a Whirlwind Tour of Python](https://jakevdp.github.io/WhirlwindTourOfPython/) - 명저인 Python data science handbook의 저자가 쓴 Python 입문서입니다.\n"
   ]
  }
 ],
 "metadata": {
  "accelerator": "GPU",
  "colab": {
   "collapsed_sections": [],
   "name": "Tutorial_Kor_Chap2_3 (object in Python_basic types).ipynb",
   "provenance": [
    {
     "file_id": "1puyr3xz0IO5HKFnb4mYNrn4DOYv91v83",
     "timestamp": 1565417897229
    }
   ],
   "toc_visible": true,
   "version": "0.3.2"
  },
  "kernelspec": {
   "display_name": "Python 3",
   "language": "python",
   "name": "python3"
  },
  "language_info": {
   "codemirror_mode": {
    "name": "ipython",
    "version": 3
   },
   "file_extension": ".py",
   "mimetype": "text/x-python",
   "name": "python",
   "nbconvert_exporter": "python",
   "pygments_lexer": "ipython3",
   "version": "3.7.3"
  }
 },
 "nbformat": 4,
 "nbformat_minor": 1
}
