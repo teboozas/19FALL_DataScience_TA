{
 "cells": [
  {
   "cell_type": "markdown",
   "metadata": {
    "colab_type": "text",
    "id": "76JOHigzdcWD"
   },
   "source": [
    "<h1>Tutorial: Fancy Tools for Exploring Data Science with Python</h1>"
   ]
  },
  {
   "cell_type": "markdown",
   "metadata": {
    "colab_type": "text",
    "id": "nLW9TQkjfC4P"
   },
   "source": [
    "*Colab에서 열어보려면 뱃지를 클릭하세요!*"
   ]
  },
  {
   "cell_type": "markdown",
   "metadata": {},
   "source": [
    "<a href=\"https://colab.research.google.com/github/teboozas/python_tutorial_for_data_science/blob/master/Kor/Tutorial_Kor_Chap2_6 (useful functionalities).ipynb\" target=\"_parent\"><img align=\"left\" src=\"https://colab.research.google.com/assets/colab-badge.svg\" alt=\"Open In Colab\"/></a>"
   ]
  },
  {
   "cell_type": "markdown",
   "metadata": {
    "colab_type": "text",
    "id": "XtJ_5emycKNn"
   },
   "source": [
    "## 2. Python & object-oriented programming(OOP)"
   ]
  },
  {
   "cell_type": "markdown",
   "metadata": {
    "colab_type": "text",
    "id": "to4UWWceBFfK"
   },
   "source": [
    "### 2.6 데이터 사이언스를 위한 유용한 기능들"
   ]
  },
  {
   "cell_type": "markdown",
   "metadata": {
    "colab_type": "text",
    "id": "6hg8OdIFs5jd"
   },
   "source": [
    "이제 Python을 활용한 객체 지향 프로그래밍의 기본적인 내용을 넘어서, 데이터 사이언스에 유용한 Python의 몇 가지 개념과 기능들을 소개하도록 하겠습니다."
   ]
  },
  {
   "cell_type": "markdown",
   "metadata": {
    "colab_type": "text",
    "id": "mPlxu6Vr5wq6"
   },
   "source": [
    "#### 시퀀스형(sequence type) 객체 다루기"
   ]
  },
  {
   "cell_type": "markdown",
   "metadata": {
    "colab_type": "text",
    "id": "XLP4JHQstb9F"
   },
   "source": [
    "**시퀀스형(sequence type)**\n",
    "\n",
    "* 시퀀스형 객체는 다변량 자료형의 일종으로, 포함된 값의 순서(index)가 있는 객체입니다.\n",
    "* 대표적으로는 리스트, 튜플, `array()`, `range()`함수로 만들어진 객체가 있으며, 문자형 객체도 시퀀스형입니다.\n",
    "* 데이터 사이언스의 데이터는 대부분의 경우 시퀀스형으로 주어지기 때문에 이 자료형을 다루는 기술이 중요합니다."
   ]
  },
  {
   "cell_type": "markdown",
   "metadata": {
    "colab_type": "text",
    "id": "TKrMiW0duVJk"
   },
   "source": [
    "**인덱싱(indexing)**\n",
    "\n",
    "* 인덱싱은 시퀀스형 객체의 특정 값을 인덱스로 호출하는 기법이며, 변수명 뒤에 대괄호(`[]`)를 사용해 수행합니다.\n",
    "* Python의 인덱스는 `0`부터 시작하므로, 첫 번째 값을 호출하려면 `[0]`을 사용해야 합니다.\n",
    "    > `my_list = [1,2,3,4,5]`\n",
    "    >\n",
    "    > `print(my_list[3])`\n",
    "    >\n",
    "    > `4`\n",
    "* 음수 인덱스는 `0`부터 거꾸로 값을 찾아 나갑니다.\n",
    "    > `print(my_list[-3])`\n",
    "    >\n",
    "    > `3`\n",
    "* 가변형(mutable) 시퀀스의 경우 인덱싱을 사용하여 그 값을 바꿀 수 있습니다.\n",
    "    > `my_list[3] = 7`\n",
    "    >\n",
    "    > `print(my_list[3])`\n",
    "    >\n",
    "    > `7`"
   ]
  },
  {
   "cell_type": "markdown",
   "metadata": {
    "colab_type": "text",
    "id": "7o_lh_yCw2xr"
   },
   "source": [
    "**슬라이싱(slicing)**\n",
    "\n",
    "* 슬라이싱은 인덱싱의 확장으로, 시퀀스의 여러 값을 한 번에 호출하는 기법입니다.\n",
    "* 대괄호 사이에 콜론(`:`)을 삽입하여 슬라이싱의 범위와 간격을 조정할 수 있습니다.\n",
    "    > `my_list2 = [1,2,3,4,5,6,7,8,9,10]`\n",
    "    >\n",
    "    > `print(my_list2[0:5:2])`\n",
    "    >\n",
    "    > `[1,3,5]`\n",
    "* 슬라이싱의 범위 `[a:b:c]`는 $a\\le \\ <b$에 해당하는 인덱스를 $c$ 간격으로 탐색하라는 의미입니다.\n",
    "\n",
    "\n",
    "    "
   ]
  },
  {
   "cell_type": "markdown",
   "metadata": {
    "colab_type": "text",
    "id": "oTiJg3EvyMyO"
   },
   "source": [
    "**시퀀스 복제(duplication)**\n",
    "\n",
    "* 슬라이싱을 활용하면 같은 시퀀스를 복제하여 사용할 수 있습니다.\n",
    "    > `새변수명 = 시퀀스명[:]`\n",
    "* 클래스와 함수에 시퀀스형을 초기화할 경우 시퀀스 복제를 사용하여 사본으로 자료를 처리하는 것이 바람직합니다."
   ]
  },
  {
   "cell_type": "markdown",
   "metadata": {
    "colab_type": "text",
    "id": "7JsQB-Hz3ANs"
   },
   "source": [
    "**`len()` 함수**\n",
    "\n",
    "* `len()` 함수는 시퀀스형 객체의 길이를 출력하는 함수입니다."
   ]
  },
  {
   "cell_type": "markdown",
   "metadata": {
    "colab_type": "text",
    "id": "KGU63LB-yzAN"
   },
   "source": [
    "#### 이터러블(iterable) 객체 다루기"
   ]
  },
  {
   "cell_type": "markdown",
   "metadata": {
    "colab_type": "text",
    "id": "n9dLu8Ijy5jz"
   },
   "source": [
    "**이터러블(iterable)**\n",
    "\n",
    "* 이터러블은 루프(loop) 연산이 가능한 객체를 의미합니다.\n",
    "* 대부분의 시퀀스형은 이터러블 객체이며, 딕셔너리와 집합도 이터러블 객체입니다."
   ]
  },
  {
   "cell_type": "markdown",
   "metadata": {
    "colab_type": "text",
    "id": "X7vFoyUs0PoP"
   },
   "source": [
    "**`range()` 함수**\n",
    "\n",
    "* `range()`는 이터러블 객체를 만들어주는 함수입니다.\n",
    "* 사용하는 방법은 슬라이싱과 같지만, 콜론이 아닌 콤마로 구분합니다. `list()` 등 자료형 생성 함수와 함께 사용할 수 있습니다.\n",
    "    > `my_list3 = list(range(1,10,2))`\n",
    "    >\n",
    "    > `print(my_list3)`\n",
    "    >\n",
    "    > `[1,3,5,7,9]`\n",
    "* `range()` 객체는 `for`문 루프에서 바로 사용할 수도 있습니다."
   ]
  },
  {
   "cell_type": "markdown",
   "metadata": {
    "colab_type": "text",
    "id": "hPkhpi4q1oHU"
   },
   "source": [
    "**`enumerate()` 함수**\n",
    "\n",
    "* `enumerate()` 함수는 인덱스와 값을 동시에 유지하는 이터러블 객체를 생성합니다.\n",
    "* 인덱스와 이에 따른 값을 동시에 관리하는 이터러블로, 루프에서 인덱스 정보를 추출해야할 때 유용합니다."
   ]
  },
  {
   "cell_type": "markdown",
   "metadata": {
    "colab_type": "text",
    "id": "sTe4cUzW2wjK"
   },
   "source": [
    "**`zip()` 함수**\n",
    "\n",
    "* `zip()` 함수는 여러 개의 이터러블 객체를 합쳐서 하나의 이터러블로 만드는 함수입니다.\n",
    "* 이 때 대상이 되는 이터러블의 길이는 모두 같아야 합니다.\n",
    "* 여러 개의 이터러블을 한 루프에서 처리해야 할 때 유용한 함수입니다."
   ]
  },
  {
   "cell_type": "markdown",
   "metadata": {
    "colab_type": "text",
    "id": "XfbDDKy04Hcs"
   },
   "source": [
    "#### 이터레이터(iterator)와 제네레이터(generator)"
   ]
  },
  {
   "cell_type": "markdown",
   "metadata": {
    "colab_type": "text",
    "id": "nkH22xpK5RlZ"
   },
   "source": [
    "**이터레이터(iterator)**\n",
    "\n",
    "* 이터레이터는 이터러블 객체를 생성하는 클래스를 의미합니다.\n",
    "* 따라서 모든 이터레이터는 이터러블입니다.\n",
    "* 이터레이터는 필요할 때만 적정 크기의 이터러블을 생성하기 위해 `next()`와 `iter()` 메소드를 사용합니다."
   ]
  },
  {
   "cell_type": "markdown",
   "metadata": {
    "colab_type": "text",
    "id": "UZXlRiPr4NJ1"
   },
   "source": [
    "**제네레이터(generator)**\n",
    "\n",
    "* 제네레이터는 `yield`문을 사용해 정의한 함수형 객체를 의미합니다.\n",
    "* 제네레이터를 사용해 이터레이터를 정의할 수 있습니다. 그러므로 이터레이터는 제네레이터의 특수한 경우라 할 수 있습니다."
   ]
  },
  {
   "cell_type": "markdown",
   "metadata": {
    "colab_type": "text",
    "id": "RiZGnAzjQ-X7"
   },
   "source": [
    "**※ 이터러블과 이터레이터, 제네레이터의 관계**"
   ]
  },
  {
   "cell_type": "markdown",
   "metadata": {
    "colab_type": "text",
    "id": "W_xBRDFs6Ry6"
   },
   "source": [
    "<img src = \"https://mingrammer.com/images/2017-01-25-iter-vs-gen-relationships.png\" width = 700>\n",
    "    \n",
    "(출처: https://mingrammer.com)"
   ]
  },
  {
   "cell_type": "markdown",
   "metadata": {
    "colab_type": "text",
    "id": "AymIEdZ_qIAw"
   },
   "source": [
    "#### 컴프리헨션(comprehension)"
   ]
  },
  {
   "cell_type": "markdown",
   "metadata": {
    "colab_type": "text",
    "id": "XkIKWnrS6qTB"
   },
   "source": [
    "* 컴프리헨션이란 루프와 조건문을 사용해 컨테이너 객체를 생성하는 문법입니다.\n",
    "* 컨테이너 객체에는 리스트, 딕셔너리, 집합형 등이 있습니다.\n",
    "    > `even_numbers = [x for x in range(5) if x % 2 == 0]` - 짝수를 포함하는 리스트형 객체를 생성합니다."
   ]
  },
  {
   "cell_type": "markdown",
   "metadata": {
    "colab_type": "text",
    "id": "x0t_FsMil9vt"
   },
   "source": [
    "#### `args`와 `kwargs`"
   ]
  },
  {
   "cell_type": "markdown",
   "metadata": {
    "colab_type": "text",
    "id": "GLzM10iH8pZI"
   },
   "source": [
    "* `args`와 `kwargs`는 함수에 정해지지 않은 갯수의 인자를 할당할 때 쓰는 문법입니다.\n",
    "* `kwargs`는 키워드 인자를, `args`는 키워드가 없는 위치 인자를 의미합니다.\n",
    "* `args`는 한 개의`*`, `kwargs`는 두 개의 `**`로 표현합니다.\n",
    "> `def my_function(*args, **kwargs)` \n",
    "* 보통 `args` 자리에는 리스트형을, `kwargs` 자리에는 딕셔너리 형을 대입합니다.\n",
    "\n",
    "※ 참고 : `*`와 `**`는 언패킹(unpaking) 연산자로도 쓰이며, 각각 리스트/튜플의 값, 딕셔너리의 키워드를 언패킹할 때 쓰입니다."
   ]
  },
  {
   "cell_type": "markdown",
   "metadata": {
    "colab_type": "text",
    "id": "EDLI5BQy71NP"
   },
   "source": [
    "#### 불리언(Boolean) 생성하기"
   ]
  },
  {
   "cell_type": "markdown",
   "metadata": {
    "colab_type": "text",
    "id": "mpPV0VJc76N6"
   },
   "source": [
    "* 불리언 객체는 `True`, `False`를 직접 할당하여 정의할수도 있지만, 객체의 값에 불리언 연산을 적용하여 할당할 수도 있습니다.\n",
    "* 아래는 `False` 값을 할당하는 자료형의 대표적 예시입니다.\n",
    "> `0` (정수형)\n",
    ">\n",
    "> `0.0` (실수형)\n",
    ">\n",
    "> `[]` (리스트형)\n",
    ">\n",
    "> `\"\"` (문자형)"
   ]
  },
  {
   "cell_type": "markdown",
   "metadata": {
    "colab_type": "text",
    "id": "hMJx7Eqf_KSo"
   },
   "source": [
    "#### `OrderedDict` 자료형"
   ]
  },
  {
   "cell_type": "markdown",
   "metadata": {
    "colab_type": "text",
    "id": "bCH3fgBz-iAh"
   },
   "source": [
    "* `OrderedDict`은 `collections` 패키지에 포함된 자료형으로, 딕셔너리에 순서를 부여하는 자료형입니다.\n",
    "> `from collections import OrderedDict`\n",
    "* 따라서 `OrderedDict`은 이터러블 객체이며, 루프 연산이 가능합니다."
   ]
  },
  {
   "cell_type": "markdown",
   "metadata": {
    "colab_type": "text",
    "id": "Br42bvTMiCXq"
   },
   "source": [
    "### 참고자료 (Python & object-oriented programming(OOP))"
   ]
  },
  {
   "cell_type": "markdown",
   "metadata": {
    "colab_type": "text",
    "id": "YKvHUd1NiHDw"
   },
   "source": [
    "* [Python 공식 documentation (한국어, 3.6.9버전)](https://docs.python.org/ko/3.6/index.html) - 자습서를 포함한 Python 관련 공식 기술문서를 열람할 수 있습니다.\n",
    "* [점프 투 파이썬 WikiDocs](https://wikidocs.net/book/1) - Python 교재 중 인지도가 높은 책이며, WikiDocs로 무료 배포되어 있습니다.\n",
    "* [a Whirlwind Tour of Python](https://jakevdp.github.io/WhirlwindTourOfPython/) - 명저인 Python data science handbook의 저자가 쓴 Python 입문서입니다.\n"
   ]
  }
 ],
 "metadata": {
  "accelerator": "GPU",
  "colab": {
   "collapsed_sections": [
    "mPlxu6Vr5wq6",
    "KGU63LB-yzAN",
    "XfbDDKy04Hcs",
    "AymIEdZ_qIAw",
    "x0t_FsMil9vt",
    "EDLI5BQy71NP",
    "hMJx7Eqf_KSo"
   ],
   "name": "Tutorial_Kor_Chap2_6 (useful functionalities).ipynb",
   "provenance": [
    {
     "file_id": "1puyr3xz0IO5HKFnb4mYNrn4DOYv91v83",
     "timestamp": 1565417897229
    }
   ],
   "toc_visible": true,
   "version": "0.3.2"
  },
  "kernelspec": {
   "display_name": "Python 3",
   "language": "python",
   "name": "python3"
  },
  "language_info": {
   "codemirror_mode": {
    "name": "ipython",
    "version": 3
   },
   "file_extension": ".py",
   "mimetype": "text/x-python",
   "name": "python",
   "nbconvert_exporter": "python",
   "pygments_lexer": "ipython3",
   "version": "3.7.3"
  }
 },
 "nbformat": 4,
 "nbformat_minor": 1
}
