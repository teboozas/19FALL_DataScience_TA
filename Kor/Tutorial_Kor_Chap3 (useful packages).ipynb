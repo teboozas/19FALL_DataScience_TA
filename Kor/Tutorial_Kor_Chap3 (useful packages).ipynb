{
 "cells": [
  {
   "cell_type": "markdown",
   "metadata": {
    "colab_type": "text",
    "id": "76JOHigzdcWD"
   },
   "source": [
    "<h1>Tutorial: Fancy Tools for Exploring Data Science with Python</h1>"
   ]
  },
  {
   "cell_type": "markdown",
   "metadata": {
    "colab_type": "text",
    "id": "nLW9TQkjfC4P"
   },
   "source": [
    "*Colab에서 열어보려면 뱃지를 클릭하세요!*"
   ]
  },
  {
   "cell_type": "markdown",
   "metadata": {},
   "source": [
    "<a href=\"https://colab.research.google.com/github/teboozas/python_tutorial_for_data_science/blob/master/Kor/Tutorial_Kor_Chap3 (useful packages).ipynb\" target=\"_parent\"><img align=\"left\" src=\"https://colab.research.google.com/assets/colab-badge.svg\" alt=\"Open In Colab\"/></a>"
   ]
  },
  {
   "cell_type": "markdown",
   "metadata": {
    "colab_type": "text",
    "id": "pGV4WU16cdq-"
   },
   "source": [
    "## 3. Useuful Packages of Python"
   ]
  },
  {
   "cell_type": "markdown",
   "metadata": {
    "colab_type": "text",
    "id": "Sn8s6v8pDss_"
   },
   "source": [
    "### 3.1 Intro: SciPy ecosystem"
   ]
  },
  {
   "cell_type": "markdown",
   "metadata": {
    "colab_type": "text",
    "id": "p0p7qeGaEcEC"
   },
   "source": [
    "SciPy ecosystem은 `scipy.org`에서 관리하는 Python의 과학 계산 패키지 생태계입니다.\n",
    "\n",
    "유명한 패키지들인 Numpy, Scipy, Pandas, Scikit-learn, Matplotlib 모두 SciPy ecosystem에 속해있으며, 주기적인 업데이트를 통해 그 활용 영역을 끊임없이 넓혀가고 있습니다."
   ]
  },
  {
   "cell_type": "markdown",
   "metadata": {
    "colab_type": "text",
    "id": "jJjEbs6HD479"
   },
   "source": [
    "### 3.2 NumPy"
   ]
  },
  {
   "cell_type": "markdown",
   "metadata": {
    "colab_type": "text",
    "id": "WvBWGWrpE7mq"
   },
   "source": [
    "`NumPy`는 Python의 수치 계산을 위해 고안된 패키지이며, 현재는 하위 자료형인 `numpy array`의 범용성으로 인해 필수 패키지로 사용되고 있습니다.\n",
    "\n",
    "* `ndarray` 자료형은 기본 자료형이 표현하지 못하는 고차원(high-dimensional) 자료 표현이 가능하며, 빠른 계산 속도를 보장합니다.\n",
    "* 또한 `range`함수와 리스트 컴프리헨션 등의 기본형 문법을 지원합니다.\n",
    "* `ndarray`를 효과적으로 다루기 위한 기본적인 선형대수 메소드를 포함하고 있습니다. (dot product, eigenvalue decomposition 등)"
   ]
  },
  {
   "cell_type": "code",
   "execution_count": 0,
   "metadata": {
    "colab": {},
    "colab_type": "code",
    "id": "fPqqYEJuF2V4"
   },
   "outputs": [],
   "source": [
    "# 표준적인 임포트 형식은 아래와 같습니다.\n",
    "import numpy as np\n",
    "dir(np)"
   ]
  },
  {
   "cell_type": "markdown",
   "metadata": {
    "colab_type": "text",
    "id": "jFM8KeNOD-j9"
   },
   "source": [
    "### 3.3 Pandas"
   ]
  },
  {
   "cell_type": "markdown",
   "metadata": {
    "colab_type": "text",
    "id": "YGsj-HQPGLKO"
   },
   "source": [
    "`Pandas`는 labeled Column-oriented data를 지원하기 위한 Python 패키지입니다.\n",
    "* `Pandas`는 `DataFrame`이라는 자료형을 제공하며, 이는 R에서의 data frame과 동일한 성질 및 기능성을 가지고 있습니다.\n",
    "* `DataFrame` 자료형에 내장된 메소드를 활용해 전처리 및 기초 통계량 계산 등의 작업을 쉽게 수행할 수 있습니다."
   ]
  },
  {
   "cell_type": "code",
   "execution_count": 0,
   "metadata": {
    "colab": {},
    "colab_type": "code",
    "id": "c2mdxVCPGoLx"
   },
   "outputs": [],
   "source": [
    "# 표준적인 임포트 형식은 아래와 같습니다.\n",
    "import pandas as pd\n",
    "dir(pd)"
   ]
  },
  {
   "cell_type": "markdown",
   "metadata": {
    "colab_type": "text",
    "id": "9X3eAMNVEBah"
   },
   "source": [
    "### 3.4 Matplotlib"
   ]
  },
  {
   "cell_type": "markdown",
   "metadata": {
    "colab_type": "text",
    "id": "bgEwnUFEGv14"
   },
   "source": [
    "`Matplotlib`은 데이터의 시각화를 위한 패키지로, MATLAB 스타일의 그래픽을 구현하기 위해 만들어진 패키지입니다.\n",
    "* `Matplotlib`은 `NumPy` 자료형과의 호환성이 뛰어난 장점이 있습니다.\n",
    "* 또한 R의 `ggplot` 스타일의 그래픽을 구현할 수 있어서 R 사용자들에게 충분한 호환성을 제공합니다."
   ]
  },
  {
   "cell_type": "code",
   "execution_count": 0,
   "metadata": {
    "colab": {},
    "colab_type": "code",
    "id": "VQ6IUUJKHUsl"
   },
   "outputs": [],
   "source": [
    "# 표준적인 임포트 형식은 아래와 같습니다.\n",
    "import matplotlib.pyplot as plt\n",
    "dir(plt)"
   ]
  },
  {
   "cell_type": "markdown",
   "metadata": {
    "colab_type": "text",
    "id": "GROdd8ftEOor"
   },
   "source": [
    "### 3.5 Scikit-learn"
   ]
  },
  {
   "cell_type": "markdown",
   "metadata": {
    "colab_type": "text",
    "id": "S9uv2t07HfcL"
   },
   "source": [
    "`Scikit-learn`은 Python의 기계학습 구현을 위한 패키지로, 회귀(regression)와 분류(classification) 문제를 해결하기 위한 대부분의 방법론이 포함되어 있습니다.\n",
    "* `Scikit-learn`은 패키지 자체를 임포트하기 보다는 그 안에 구현된 방법론을 하나씩 임포트하여 사용합니다.\n",
    "* 지도 학습과 비지도학습, 모델 평가(evaluation), 전처리(preprocessing)기능을 대부분 포함하고 있습니다.\n",
    "\n",
    "    * 지도학습 - 선형 회귀, SVM, Naive Bayes, KNN 등\n",
    "    * 비지도학습 - PCA, K means clustering 등\n",
    "    * 모델 평가 - MSE, MAE, V-measure 등"
   ]
  },
  {
   "cell_type": "code",
   "execution_count": 0,
   "metadata": {
    "colab": {},
    "colab_type": "code",
    "id": "eV1NrLTQIaWj"
   },
   "outputs": [],
   "source": [
    "from sklearn import neighbors\n",
    "knn = neighbors.KNeighborsClassifier"
   ]
  },
  {
   "cell_type": "markdown",
   "metadata": {
    "colab_type": "text",
    "id": "k3sIZf3ywgz9"
   },
   "source": [
    "### 참고자료 (Useful Packages of Python)\n",
    "\n",
    "* [SciPy Ecosystem Cookbook](https://scipy-cookbook.readthedocs.io/) - SciPy Ecosystem의 주요 라이브러리 (NumPy, SciPy, Matplotlib, Pandas) 공식 Cookbook을 열람할 수 있습니다.\n",
    "* [Python Data Science Handbook](https://jakevdp.github.io/PythonDataScienceHandbook/) - NumPy, Pandas, Matplotlib, Scikit-learn을 사용하는 방법을 개괄하는 책으로, e-book으로 무료 배포되어 있습니다. 또한 모든 코드는 Github과 Colab을 활용해 실습할 수 있도록 공개되어 있어 좋은 참고자료가 될 것입니다."
   ]
  }
 ],
 "metadata": {
  "accelerator": "GPU",
  "colab": {
   "collapsed_sections": [],
   "name": "Tutorial_Kor_Chap3 (useful packages).ipynb",
   "provenance": [
    {
     "file_id": "1puyr3xz0IO5HKFnb4mYNrn4DOYv91v83",
     "timestamp": 1565417897229
    }
   ],
   "toc_visible": true,
   "version": "0.3.2"
  },
  "kernelspec": {
   "display_name": "Python 3",
   "language": "python",
   "name": "python3"
  },
  "language_info": {
   "codemirror_mode": {
    "name": "ipython",
    "version": 3
   },
   "file_extension": ".py",
   "mimetype": "text/x-python",
   "name": "python",
   "nbconvert_exporter": "python",
   "pygments_lexer": "ipython3",
   "version": "3.7.3"
  }
 },
 "nbformat": 4,
 "nbformat_minor": 1
}
