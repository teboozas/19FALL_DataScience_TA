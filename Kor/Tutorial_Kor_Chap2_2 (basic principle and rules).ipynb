{
 "cells": [
  {
   "cell_type": "markdown",
   "metadata": {
    "colab_type": "text",
    "id": "76JOHigzdcWD"
   },
   "source": [
    "<h1>Tutorial: Fancy Tools for Exploring Data Science with Python</h1>"
   ]
  },
  {
   "cell_type": "markdown",
   "metadata": {
    "colab_type": "text",
    "id": "nLW9TQkjfC4P"
   },
   "source": [
    "*Colab에서 열어보려면 뱃지를 클릭하세요!*"
   ]
  },
  {
   "cell_type": "markdown",
   "metadata": {},
   "source": [
    "<a href=\"https://colab.research.google.com/github/teboozas/python_tutorial_for_data_science/blob/master/Kor/Tutorial_Kor_Chap2_2 (basic principle and rules).ipynb\" target=\"_parent\"><img align=\"left\" src=\"https://colab.research.google.com/assets/colab-badge.svg\" alt=\"Open In Colab\"/></a>"
   ]
  },
  {
   "cell_type": "markdown",
   "metadata": {
    "colab_type": "text",
    "id": "XtJ_5emycKNn"
   },
   "source": [
    "## 2. Python & object-oriented programming(OOP)"
   ]
  },
  {
   "cell_type": "markdown",
   "metadata": {
    "colab_type": "text",
    "id": "BbqiijsUBFWk"
   },
   "source": [
    "### 2.2 Python 기본 원리와 규칙"
   ]
  },
  {
   "cell_type": "markdown",
   "metadata": {
    "colab_type": "text",
    "id": "gY_Px1pefWlU"
   },
   "source": [
    "#### 객체 지향 프로그래밍(object-oriented programming; OOP)"
   ]
  },
  {
   "cell_type": "markdown",
   "metadata": {
    "colab_type": "text",
    "id": "HLffOVEWge3_"
   },
   "source": [
    "**\"Python의 모든 것은 객체이다(Everything is an object in Python)\"**\n",
    "\n",
    "Python은 최초 개발시 순수 객체 지향 프로그래밍(OOP) 구현을 지향하며 개발된 언어입니다. 이런 특징은 Python 곳곳에 녹아있으며, 그러므로 OOP를 이해하지 않고는 Python을 효과적으로 쓸 수 없을 뿐더러 타인의 코드 역시 이해하지 못하게 됩니다.\n",
    "\n",
    "그러므로 Python을 본격적으로 알아보기 전 OOP의 기초적인 내용을 먼저 짚고 넘어가도록 하겠습니다."
   ]
  },
  {
   "cell_type": "markdown",
   "metadata": {
    "colab_type": "text",
    "id": "zmmYvKJfU6ar"
   },
   "source": [
    "**클래스(class)와 인스턴스(instance)**\n",
    "    \n",
    "* **클래스 = 형(type) + 속성(attribute) + 메소드(method)**\n",
    "    \n",
    "    * 클래스는 형식과 속성, 메소드를 가지고 있는 그 어떤 것도 될 수 있습니다.\n",
    "    * 형(type)은 클래스의 (추상적) 정의입니다.\n",
    "        \n",
    "        ('삼각형', '원', '사람' 등)\n",
    "        \n",
    "    * 속성(attribute)은 클래스가 가진 특징이나 성질을 표현합니다.\n",
    "        \n",
    "        ('사람' 클래스의 '키', '성별' 등의 속성)\n",
    "        \n",
    "    * 메소드(method)는 클래스의 기능성(functionality), 즉 취할 수 있는 행동이나 기술을 정의한 것입니다.\n",
    "        \n",
    "        ('사람' 클래스의 '먹다', '말하다', '걷다' 등의 기능성)\n",
    "    \n",
    "* **인스턴스(instance) = 클래스의 실현된 개체**\n",
    "    \n",
    "    * 인스턴스는 특정 클래스에 속하는 실존 개체입니다.\n",
    "        \n",
    "        ('현준'이라는 개체는 '사람' 클래스의 인스턴스)\n",
    "        \n",
    "    * 인스턴스도 속성과 메소드를 가지며, 빈 항목이 없이 완전히 표현되어야 합니다.\n",
    "        \n",
    "        ('현준'의 키는 170cm, 성별은 남성, 말할 수 있음 등)\n",
    "        \n"
   ]
  },
  {
   "cell_type": "markdown",
   "metadata": {
    "colab_type": "text",
    "id": "8ehuwmmtWKF9"
   },
   "source": [
    "**객체(object)와 객체 지향 프로그래밍(OOP)**\n",
    "\n",
    "* **객체 = 인스턴스**\n",
    "    \n",
    "    * 객체란 객체 지향 프로그래밍 과정에서 실현된 클래스, 즉 인스턴스를 의미합니다.\n",
    "    \n",
    "* **객체 지향 프로그래밍(OOP)이란?**\n",
    "    \n",
    "    * OOP는 객체와 객체간 관계로 프로그램을 완전히 구현할 수 있다는 프로그래밍 패러다임(paradigm)입니다.\n",
    "    * OOP는 클래스를 활용해 중복 코딩을 막고 메모리를 절약하는 효율적 프로그래밍을 지향합니다.\n",
    "    \n",
    "* **객체 지향 프로그래밍의 구현**\n",
    "    \n",
    "    * OOP의 핵심은 속성(attribute)과 메소드(method)의 정의, 객체(object)간 관계를 <u>간결한 코드</u>로 표현하는 것입니다.\n",
    "        \n"
   ]
  },
  {
   "cell_type": "markdown",
   "metadata": {
    "colab_type": "text",
    "id": "ujvFJZjjVqRC"
   },
   "source": [
    "**객체 지향 프로그래밍의 대표적인 특징**\n",
    "\n",
    "* **캡슐화(encapsulation)**\n",
    "        \n",
    "    * 캡슐화는 변수와 함수를 하나의 코드 단위로 묶는 것을 의미합니다.\n",
    "    * 캡슐화는 주로 클래스(class) 정의로 구현하며, 변수는 속성(attribute), 함수는 메소드(method)가 됩니다.\n",
    "    * 따라서 OOP를 지원하는 프로그래밍 언어는 클래스를 정의하고 다루는 기능을 필수적으로 제공합니다.\n",
    "        \n",
    "* **상속(inheritance)**\n",
    "    \n",
    "    * 상속은 클래스의 속성과 메소드를 다른 클래스가 물려받아 '그대로' 사용할 수 있다는 개념입니다.\n",
    "    * 물려주는 클래스를 부모 클래스(parent class), 물려받는 클래스를 자식 클래스(child class)라 부릅니다.\n",
    "        \n",
    "        ('수영선수' 클래스를 새로 만들 때, '사람' 클래스의 속성과 메소드를 물려받고(상속) 일부를 추가/수정하면 간편합니다.)\n",
    "    * 자식 클래스는 부모 클래스의 역할을 온전히 대신할 수 있습니다.\n",
    "        \n",
    "        ('수영선수'는 '사람'의 속성과 기능성을 모두 가지고 있어 사람 역할을 할 수 있습니다.)\n",
    "        \n",
    "* **다형성(polymorphism)**\n",
    "    * 다형성은 같은 이름의 속성과 메소드가 동시에 존재하며 서로 다른 의미를 가질 수 있다는 개념입니다.\n",
    "        \n",
    "        ('사람' 클래스의 자식 클래스는 모두 '말하다' 메소드를 가지지만, 국적에 따라 '한국어를 말하다', '영어를 말하다' 등 다양한 의미를 표현할 수 있습니다.)\n",
    "        \n",
    "    * 다형성이 보장된다면 속성과 메소드의 이름을 불필요하게 많이 지정하지 않아도 되는 장점이 있습니다."
   ]
  },
  {
   "cell_type": "markdown",
   "metadata": {
    "colab_type": "text",
    "id": "oGysmoN8V0so"
   },
   "source": [
    "**객체 지향 프로그래밍과 Python**\n",
    "* Python은 **모든 요소를 객체로 취급하도록 코딩**되어 있습니다.\n",
    "* 따라서 명령어를 제외한 **Python의 모든 것은 형식, 속성, 메소드를 가지고 있으며**, 객체 지향 프로그래밍을 구현하기 위한 거의 모든 기능을 제공하고 있습니다.\n",
    "* 이에 맞게 Python으로 구현된 결과물은 대부분 OOP 패러다임을 따르며, 함수형 프로그래밍 등의 패러다임도 적절히 조화를 이루고 있습니다."
   ]
  },
  {
   "cell_type": "markdown",
   "metadata": {
    "colab_type": "text",
    "id": "LLtZCkrIfrRX"
   },
   "source": [
    "#### Python 문법의 기본 규칙들"
   ]
  },
  {
   "cell_type": "markdown",
   "metadata": {
    "colab_type": "text",
    "id": "xLbIYnifjZWR"
   },
   "source": [
    "Python의 별명 중 하나는  '실행 가능한 의사코드(executable pseudocode)'입니다. 그 만큼 구현 결과물이 (상대적으로) 자연 언어에 가깝게 작성되기 때문입니다.\n",
    "\n",
    "이를 위해 Python에는 규정된 문법과 관습들이 있습니다. 여기서는 코드 독해와 작성에 필요한 5가지 키워드를 소개하도록 하겠습니다."
   ]
  },
  {
   "cell_type": "markdown",
   "metadata": {
    "colab_type": "text",
    "id": "zd6vu-7_muN9"
   },
   "source": [
    "**white spacing - 들여쓰기(indentation)와 줄바꿈(end-of-line rule)**\n",
    "\n",
    "들여쓰기와 줄바꿈은 Python 문법 규칙 중에서 가장 특이한 규칙입니다.\n",
    "    \n",
    "들여쓰기는 포함 관계의 코드 블록을 만드는 규칙으로, 대부분의 프로그래밍 언어에서 사용하는 중괄호(curly braces, `{}`)를 대체하는 문법입니다. 들여쓰기는 복잡한 포함 관계의 코드를 작성해야할 경우에도 코드의 모양을 깔끔하게 유지해주고 코드 블럭의 구조를 명료하게 보이게 하는 장점이 있습니다.\n",
    "    \n",
    "줄바꿈은 실행할 코드를 구문(statement)을 구분하는 규칙으로, 다른 프로그래밍 언어의 세미콜론(`;`)을 대체합니다. 줄바꿈 규칙 역시 코드를 더 읽기 쉽게 만들어주는 장점이 있습니다.\n",
    "    \n",
    "Python 커뮤니티에서는 들여쓰기를 4개의 spacebar를 사용할 것을 권합니다. 다른 갯수의 spacebar나 Tab키를 사용해도 대부분 코드 실행이 가능하지만, 간혹 발생할 `Indentation Error`를 방지하기 위해 spacebar 4개를 사용하는 것이 바람직할 것입니다."
   ]
  },
  {
   "cell_type": "code",
   "execution_count": 0,
   "metadata": {
    "colab": {},
    "colab_type": "code",
    "id": "r57rfyvzIP-g"
   },
   "outputs": [],
   "source": [
    "# for문을 활용하여 들여쓰기, 줄바꿈 규칙을 알아봅니다.\n",
    "# 2 개 for문의 포함 관계를 표현하기 위해 spacebar 4개 들여쓰기를 사용하였습니다. (6,8째 줄)\n",
    "# print문들의 실행 단위를 구분하기 위해 줄바꿈을 사용하였습니다. (6,8,9,10번째 줄)\n",
    "\n",
    "for i in [1,2,3,4,5]:\n",
    "    print(i)\n",
    "    for j in [1,2,3,4,5]:\n",
    "        print(j)\n",
    "        print(i+j)\n",
    "    print(i)\n",
    "print(\"done looping\")"
   ]
  },
  {
   "cell_type": "code",
   "execution_count": 0,
   "metadata": {
    "colab": {},
    "colab_type": "code",
    "id": "5wldd_nRLYBS"
   },
   "outputs": [],
   "source": [
    "# 들여쓰기와 줄바꿈은 괄호 종류 (), {}, [] 내에서는 효력이 없습니다.\n",
    "# 이 규칙을 활용하면 좀 더 보기 좋은 코드를 작성할 수 있습니다.\n",
    "\n",
    "my_list = [1,2,3,4,5,6,7,8,9,10,11,12,13,14,15,16,17,18,19,20,21,22,23,24,25,26,\n",
    "          27,28,29,30]\n",
    "print(my_list)"
   ]
  },
  {
   "cell_type": "markdown",
   "metadata": {
    "colab_type": "text",
    "id": "eN0rtq27LyUz"
   },
   "source": [
    "**점 표현법(dot syntax)**\n",
    "\n",
    "점 표현법은 객체의 포함관계를 표현하기 위한 Python 규칙입니다.\n",
    "    \n",
    "객체 또는 인스턴스는 각자의 속성, 메소드를 가지는데, Python에서는 이 관계를 다음과 같은 형식으로 표현합니다.\n",
    "    \n",
    "> 객체이름.속성이름<br>\n",
    "> 객체이름.메소드이름\n",
    "    \n",
    "그러므로 포함관계를 가지지 않을 때 객체 이름에 마침표(`.`)를 사용하면 에러가 발생합니다.\n",
    "    \n",
    "점 표현법은 또한 뒤에서 살펴볼 패키지(package), 모듈(module)과 그에 포함된 객체(object), 메소드(method)의 관계도 표현할 수 있으며, 여러 개의 점으로 이어붙여 사용할 수 있습니다."
   ]
  },
  {
   "cell_type": "code",
   "execution_count": 0,
   "metadata": {
    "colab": {
     "base_uri": "https://localhost:8080/",
     "height": 190
    },
    "colab_type": "code",
    "executionInfo": {
     "elapsed": 1106,
     "status": "error",
     "timestamp": 1565622117868,
     "user": {
      "displayName": "‍이현준[ 대학원석사과정재학 / 통계학과 ]",
      "photoUrl": "",
      "userId": "15576676570650277584"
     },
     "user_tz": -540
    },
    "id": "LFpq-GTxNnoR",
    "outputId": "55b3df75-795f-4e69-92f1-23392187827a"
   },
   "outputs": [
    {
     "ename": "NameError",
     "evalue": "ignored",
     "output_type": "error",
     "traceback": [
      "\u001b[0;31m---------------------------------------------------------------------------\u001b[0m",
      "\u001b[0;31mNameError\u001b[0m                                 Traceback (most recent call last)",
      "\u001b[0;32m<ipython-input-1-5308e7a6ff34>\u001b[0m in \u001b[0;36m<module>\u001b[0;34m()\u001b[0m\n\u001b[1;32m      1\u001b[0m \u001b[0;34m\u001b[0m\u001b[0m\n\u001b[0;32m----> 2\u001b[0;31m \u001b[0mmy\u001b[0m\u001b[0;34m.\u001b[0m\u001b[0mname\u001b[0m \u001b[0;34m=\u001b[0m \u001b[0;36m1\u001b[0m\u001b[0;34m\u001b[0m\u001b[0;34m\u001b[0m\u001b[0m\n\u001b[0m",
      "\u001b[0;31mNameError\u001b[0m: name 'my' is not defined"
     ]
    }
   ],
   "source": [
    "# dot syntax가 잘못 적용된 사례를 살펴봅니다.\n",
    "\n",
    "my.name = 1"
   ]
  },
  {
   "cell_type": "markdown",
   "metadata": {
    "colab_type": "text",
    "id": "ePFgBkZ5PTlv"
   },
   "source": [
    "**괄호들(brackets)**\n",
    "    \n",
    "Python에서 괄호들(`()`, `{}`, `[]`)는 다음과 같은 제한적인 용도로 사용됩니다. 아래에 나오는 자료형과 기법들은 뒤에서 자세히 다루도록 하겠습니다.\n",
    "    \n",
    "* 소괄호(parentheses) - 클래스(class), 함수(function)의 인자(argument) 정의에 사용하거나 튜플(tuple) 자료형 정의에 사용됩니다.\n",
    "* 중괄호(curly brackets) - 딕셔너리(dictionary), 집합(set) 자료형 정의에 사용됩니다.\n",
    "* 대괄호(square brackets) - 리스트(list) 자료형 정의에 사용되거나 인덱싱(indexing)/슬라이싱(slicing) 기법에 사용됩니다."
   ]
  },
  {
   "cell_type": "markdown",
   "metadata": {
    "colab_type": "text",
    "id": "2DrLqGNsu7Ug"
   },
   "source": [
    "**언더스코어(underscore, '`_`')**\n",
    "\n",
    "Python에서 언더스코어는 특수한 기능들을 가지고 있습니다. 대표적인 기능들만 소개하도록 하겠습니다.\n",
    "    \n",
    "* '`_`' 자체를 변수로 사용할 수 있으며, 저장기능이 없거나 무시할 수 있는 변수를 지정하려 할 때 사용합니다.\n",
    "    > _ = forget_about_it()\n",
    "* 한 개의 언더스코어 '`_`'로 시작하는 이름은 OOP의 캡슐화(encapsulation)을 구현할 때 사용합니다. 이 경우는 private한 것으로 취급됩니다.\n",
    "    > _one_underscore = i_am_private()\n",
    "* 두 개의 언더스코어 '`__`'로 둘러쌓인 이름은 특수 메소드(special method)라 불리며, 클래스의 초기화, 반복연산 등의 특수 기능이 저장되어 있습니다. 대표적으로는 `__init__(self)` 특수 메소드가 있으며, 뒤에서 자세히 다루도록 하겠습니다.\n",
    "    > `__init__(self):`<br>\n",
    "    >     self.introduction = \"I love myself\""
   ]
  },
  {
   "cell_type": "markdown",
   "metadata": {
    "colab_type": "text",
    "id": "ny1Ie7zalzdz"
   },
   "source": [
    "**주석(annotation)과 독스트링(docstring)**\n",
    "    \n",
    "좋은 코더를 구별하는 방법은 주석을 쓰는 습관을 관찰하는 것이라 합니다. Python에서도 주석 사용은 매우 중요하며, 기입하려는 내용을 샵(`#`) 기호 뒤에 입력하면 주석을 삽입할 수 있습니다.\n",
    "    \n",
    "다만 커뮤니티에서는 주석은 가급적 별도의 줄로 삽입하고, 코드 뒤에 덧붙이지 말 것을 권고하고 있습니다.\n",
    "    \n",
    "또한 Python에는 독스트링(docstring)이라는 독특한 주석 표현이 있습니다. 독스트링은 클래스와 함수의 상세한 사용법을 기입해 속성으로 저장한 것이며, 세 개의 큰 따옴표(`\"\"\"`) 사이에 내용을 적어 저장합니다. 그 속성의 이름은 특수 메소드 `__doc__`으로 지정됩니다."
   ]
  },
  {
   "cell_type": "code",
   "execution_count": 0,
   "metadata": {
    "colab": {
     "base_uri": "https://localhost:8080/",
     "height": 140
    },
    "colab_type": "code",
    "executionInfo": {
     "elapsed": 719,
     "status": "ok",
     "timestamp": 1564631482628,
     "user": {
      "displayName": "‍이현준[ 대학원석사과정재학 / 통계학과 ]",
      "photoUrl": "",
      "userId": "15576676570650277584"
     },
     "user_tz": -540
    },
    "id": "vGuHvojKniEy",
    "outputId": "510838e7-2533-4ded-95a2-552784a5585f"
   },
   "outputs": [
    {
     "name": "stdout",
     "output_type": "stream",
     "text": [
      "\n",
      "    This function returns addition of two numbers.\n",
      "    This docstring is for testing.\n",
      "    \n",
      "    args:\n",
      "      a,b : numbers to add-up\n",
      "    \n"
     ]
    }
   ],
   "source": [
    "def add_numbers(a,b):\n",
    "    \"\"\"\n",
    "    This function returns addition of two numbers.\n",
    "    This docstring is for testing.\n",
    "    \n",
    "    args:\n",
    "      a,b : numbers to add-up\n",
    "    \"\"\"\n",
    "    out = a + b\n",
    "    return out\n",
    "\n",
    "# 'add_numbers' 함수의 '__doc__' 속성 내용을 출력해봅니다.\n",
    "# 'print'함수 안의 함수-속성 관계가 점 표현법(dot syntax)로 이어진 점을 눈여겨 보아주세요.\n",
    "# x.__doc__ → 객체(함수)이름.속성이름\n",
    "x = add_numbers\n",
    "print(x.__doc__)"
   ]
  },
  {
   "cell_type": "markdown",
   "metadata": {
    "colab_type": "text",
    "id": "Br42bvTMiCXq"
   },
   "source": [
    "### 참고자료 (Python & object-oriented programming(OOP))"
   ]
  },
  {
   "cell_type": "markdown",
   "metadata": {
    "colab_type": "text",
    "id": "YKvHUd1NiHDw"
   },
   "source": [
    "* [Python 공식 documentation (한국어, 3.6.9버전)](https://docs.python.org/ko/3.6/index.html) - 자습서를 포함한 Python 관련 공식 기술문서를 열람할 수 있습니다.\n",
    "* [점프 투 파이썬 WikiDocs](https://wikidocs.net/book/1) - Python 교재 중 인지도가 높은 책이며, WikiDocs로 무료 배포되어 있습니다.\n",
    "* [a Whirlwind Tour of Python](https://jakevdp.github.io/WhirlwindTourOfPython/) - 명저인 Python data science handbook의 저자가 쓴 Python 입문서입니다.\n"
   ]
  }
 ],
 "metadata": {
  "accelerator": "GPU",
  "colab": {
   "collapsed_sections": [],
   "name": "Tutorial_Kor_Chap2_2 (basic principle and rules).ipynb",
   "provenance": [
    {
     "file_id": "1puyr3xz0IO5HKFnb4mYNrn4DOYv91v83",
     "timestamp": 1565417897229
    }
   ],
   "toc_visible": true,
   "version": "0.3.2"
  },
  "kernelspec": {
   "display_name": "Python 3",
   "language": "python",
   "name": "python3"
  },
  "language_info": {
   "codemirror_mode": {
    "name": "ipython",
    "version": 3
   },
   "file_extension": ".py",
   "mimetype": "text/x-python",
   "name": "python",
   "nbconvert_exporter": "python",
   "pygments_lexer": "ipython3",
   "version": "3.7.3"
  }
 },
 "nbformat": 4,
 "nbformat_minor": 1
}
