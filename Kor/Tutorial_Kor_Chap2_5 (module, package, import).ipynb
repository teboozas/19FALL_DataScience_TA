{
 "cells": [
  {
   "cell_type": "markdown",
   "metadata": {
    "colab_type": "text",
    "id": "76JOHigzdcWD"
   },
   "source": [
    "<h1>Tutorial: Fancy Tools for Exploring Data Science with Python</h1>"
   ]
  },
  {
   "cell_type": "markdown",
   "metadata": {
    "colab_type": "text",
    "id": "nLW9TQkjfC4P"
   },
   "source": [
    "*Colab에서 열어보려면 뱃지를 클릭하세요!*"
   ]
  },
  {
   "cell_type": "markdown",
   "metadata": {},
   "source": [
    "<a href=\"https://colab.research.google.com/github/teboozas/python_tutorial_for_data_science/blob/master/Kor/Tutorial_Kor_Chap2_5 (module, package, import).ipynb\" target=\"_parent\"><img align=\"left\" src=\"https://colab.research.google.com/assets/colab-badge.svg\" alt=\"Open In Colab\"/></a>"
   ]
  },
  {
   "cell_type": "markdown",
   "metadata": {
    "colab_type": "text",
    "id": "XtJ_5emycKNn"
   },
   "source": [
    "## 2. Python & object-oriented programming(OOP)"
   ]
  },
  {
   "cell_type": "markdown",
   "metadata": {
    "colab_type": "text",
    "id": "BOXEoA4G4MSJ"
   },
   "source": [
    "### 2.5 모듈(module)과 패키지(package), 그리고 `import`문"
   ]
  },
  {
   "cell_type": "markdown",
   "metadata": {
    "colab_type": "text",
    "id": "22d2nFjzj2Gh"
   },
   "source": [
    "#### 모듈(module)과 패키지(package)"
   ]
  },
  {
   "cell_type": "markdown",
   "metadata": {
    "colab_type": "text",
    "id": "Mwq-O7ZbmSMO"
   },
   "source": [
    "이제 Python에서 객체를 정의하고, 속성과 메소드를 다루는 기본적인 방법은 모두 알아 보았습니다.\n",
    "\n",
    "프로그래머는 이런 방식으로 필요한 클래스와 함수를 직접 정의해 사용하며, 비슷한 성격의 클래스와 함수를 한 파일에 저장합니다. 그리고 비슷한 성격의 파일을 폴더에 모아 놓습니다. 이를 각각 모듈(module)과 패키지(package)라 부릅니다."
   ]
  },
  {
   "cell_type": "markdown",
   "metadata": {
    "colab_type": "text",
    "id": "QlCK9WIAC63U"
   },
   "source": [
    "**모듈(module) = `.py` 파일**\n",
    "* 모듈은 `.py` 확장자로 저장된 Python script 파일을 의미합니다.\n",
    "* 모듈에는 프로그래머가 작성한 비슷한 성격의 클래스와 함수, 변수 등을 모아 놓습니다.\n",
    "* 다른 Python script나 Jupyter Notebook 환경 등에서는 모듈을 불러들여 그 안에 정의된 클래스와 함수, 변수들을 사용할 수 있습니다.\n",
    "\n"
   ]
  },
  {
   "cell_type": "markdown",
   "metadata": {
    "colab_type": "text",
    "id": "UyjDQYBSDCws"
   },
   "source": [
    "**패키지(package) = `.py` 파일이 모여있는 폴더**\n",
    "\n",
    "* 패키지는 Python 모듈의 폴더 구조입니다.\n",
    "* `__init__.py`라는 파일을 폴더에 저장하면 Python 인터프리터는 그 폴더를 패키지로 인식합니다.\n",
    "    \n",
    "    (Github 등에 등록된 Python 패키지에 `__init__.py`라는 빈 파일이 있는 이유가 이것입니다.)\n",
    "* 패키지에 포함된 하위 폴더를 서브패키지(subpackage)라 하며, 역시 `__init__.py` 파일을 저장해 패키지로 인식하도록 합니다.\n",
    "* `__init__.py`에 초기화 명령문을 추가하면 패키지 실행시 필요한 초기 설정들을 저장할 수 있습니다.\n",
    "\n"
   ]
  },
  {
   "cell_type": "markdown",
   "metadata": {
    "colab_type": "text",
    "id": "S1d2dnmcm6hT"
   },
   "source": [
    "**패키지, 모듈과 점 표현법(dot syntax)**\n",
    "\n",
    "* 점 표현법은 객체의 속성, 메소드 포함 관계와 더불어 객체의 상위 모듈, 패키지의 포함 관계를 나타낼 수 있습니다.\n",
    "    > 예시 : `패키지이름.서브패키지이름.클래스이름.메소드이름`\n",
    "* 코드에 여러 개의 마침표로 이어진 이름은 이 포함관계를 나타내는 것이므로, 사용법을 알아보기 위해 해당 모듈과 패키지에 대해 알아보면 많은 도움이 됩니다."
   ]
  },
  {
   "cell_type": "markdown",
   "metadata": {
    "colab_type": "text",
    "id": "37k0lxeIj8zf"
   },
   "source": [
    "#### 모듈, 패키지 불러오기 - `import`문"
   ]
  },
  {
   "cell_type": "markdown",
   "metadata": {
    "colab_type": "text",
    "id": "FUsRbHwvqW7H"
   },
   "source": [
    "Python은 `import`문을 사용하여 패키지와 모듈, 그리고 그에 따른 클래스와 메소드를 불러와 사용합니다.\n",
    "\n",
    "Python 프로그래밍에서는 필요한 패키지와 기능을 코드 상단에 미리 import하는 것이 관행입니다."
   ]
  },
  {
   "cell_type": "markdown",
   "metadata": {
    "colab_type": "text",
    "id": "6pAO4_yLKkUH"
   },
   "source": [
    "**모듈과 패키지 불러오기 - `import ... as ...`**\n",
    "\n",
    "* `import`문을 바로 사용하면 Python 라이브러리 폴더, 또는 지정된 폴더에 저장된 패키지를 불러옵니다.\n",
    "* 이 때 `as`문을 추가하여 사용하려는 모듈, 패키지 이름을 지정할 수 있습니다. 유명한 패키지에는 이에 따르는 `as`문의 관행이 있습니다.\n",
    "\n",
    "    (NumPy - `np`, Tensorflow - `tf` 등)"
   ]
  },
  {
   "cell_type": "code",
   "execution_count": 0,
   "metadata": {
    "colab": {},
    "colab_type": "code",
    "id": "e66_eXchYI4b"
   },
   "outputs": [],
   "source": [
    "# 데이터 과학을 위한 Python 프로그래밍에서 가장 많이 사용하게 되는 import문\n",
    "import numpy as np"
   ]
  },
  {
   "cell_type": "markdown",
   "metadata": {
    "colab_type": "text",
    "id": "vjtRwIybqmYQ"
   },
   "source": [
    "**포함된 객체, 또는 메소드 불러오기 - `from ... import ...`**\n",
    "\n",
    "* 패키지나 모듈에 포함된 특정 객체, 메소드만이 필요할 경우 `from`문으로 해당 패키지를 지정할 수 있습니다.\n",
    "* `__future__`라는 내장 패키지는 현재 Python 버전에서 정식 지원하지 않는 기능을 담고 있으며, `from`문을 사용해 그 기능을 불러와 사용하는 것이 가능합니다.\n",
    "    > 예시 : `from __future__ import print_function`"
   ]
  },
  {
   "cell_type": "code",
   "execution_count": 0,
   "metadata": {
    "colab": {},
    "colab_type": "code",
    "id": "jPoc1fS8YhwS"
   },
   "outputs": [],
   "source": [
    "from __future__ import print_function"
   ]
  },
  {
   "cell_type": "markdown",
   "metadata": {
    "colab_type": "text",
    "id": "Br42bvTMiCXq"
   },
   "source": [
    "### 참고자료 (Python & object-oriented programming(OOP))"
   ]
  },
  {
   "cell_type": "markdown",
   "metadata": {
    "colab_type": "text",
    "id": "YKvHUd1NiHDw"
   },
   "source": [
    "* [Python 공식 documentation (한국어, 3.6.9버전)](https://docs.python.org/ko/3.6/index.html) - 자습서를 포함한 Python 관련 공식 기술문서를 열람할 수 있습니다.\n",
    "* [점프 투 파이썬 WikiDocs](https://wikidocs.net/book/1) - Python 교재 중 인지도가 높은 책이며, WikiDocs로 무료 배포되어 있습니다.\n",
    "* [a Whirlwind Tour of Python](https://jakevdp.github.io/WhirlwindTourOfPython/) - 명저인 Python data science handbook의 저자가 쓴 Python 입문서입니다.\n"
   ]
  }
 ],
 "metadata": {
  "accelerator": "GPU",
  "colab": {
   "collapsed_sections": [],
   "name": "Tutorial_Kor_Chap2_5 (module, package, import).ipynb",
   "provenance": [
    {
     "file_id": "1puyr3xz0IO5HKFnb4mYNrn4DOYv91v83",
     "timestamp": 1565417897229
    }
   ],
   "toc_visible": true,
   "version": "0.3.2"
  },
  "kernelspec": {
   "display_name": "Python 3",
   "language": "python",
   "name": "python3"
  },
  "language_info": {
   "codemirror_mode": {
    "name": "ipython",
    "version": 3
   },
   "file_extension": ".py",
   "mimetype": "text/x-python",
   "name": "python",
   "nbconvert_exporter": "python",
   "pygments_lexer": "ipython3",
   "version": "3.7.3"
  }
 },
 "nbformat": 4,
 "nbformat_minor": 1
}
