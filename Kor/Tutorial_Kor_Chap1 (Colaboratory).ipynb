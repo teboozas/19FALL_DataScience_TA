{
 "cells": [
  {
   "cell_type": "markdown",
   "metadata": {
    "colab_type": "text",
    "id": "76JOHigzdcWD"
   },
   "source": [
    "<h1>Tutorial: Fancy Tools for Exploring Data Science with Python</h1>"
   ]
  },
  {
   "cell_type": "markdown",
   "metadata": {
    "colab_type": "text",
    "id": "nLW9TQkjfC4P"
   },
   "source": [
    "*Colab에서 열어보려면 뱃지를 클릭하세요!*"
   ]
  },
  {
   "cell_type": "markdown",
   "metadata": {},
   "source": [
    "<a href=\"https://colab.research.google.com/github/teboozas/python_tutorial_for_data_science/blob/master/Kor/Tutorial_Kor_Chap1 (Colaboratory).ipynb\" target=\"_parent\"><img align=\"left\" src=\"https://colab.research.google.com/assets/colab-badge.svg\" alt=\"Open In Colab\"/></a>"
   ]
  },
  {
   "cell_type": "markdown",
   "metadata": {
    "colab_type": "text",
    "id": "CXV1aWvjdzo4"
   },
   "source": [
    "## 1. Colaboratory\n"
   ]
  },
  {
   "cell_type": "markdown",
   "metadata": {
    "colab_type": "text",
    "id": "7Bx8NsHeqZvJ"
   },
   "source": [
    "### 1.1 Google Colaboratory(이하 Colab)란?"
   ]
  },
  {
   "cell_type": "markdown",
   "metadata": {
    "colab_type": "text",
    "id": "SCIA3iP4ENoe"
   },
   "source": [
    "**Colab은 Google Drive상에서 실행되는 Jupyter Notebook 개발 환경입니다.**\n",
    "    \n",
    "Jupyter Notebook은 최근 보편적으로 사용하는 대화형 개발 환경으로, 코드 실행 결과를 즉시 확인할 수 있는 동시에 Markdown을 활용해 쉽게 문서화시킬 수 있어 편리합니다. 특히 Python 및 그 패키지(R에서의 패키지와 같습니다)와의 호환성이 높아 Python을 활용한 개발과 교육용 환경으로 각광받고 있습니다.\n",
    "    \n",
    "Colab은 Google Drive 위에서 실행되기 때문에 별도의 설치가 필요없으며, Google에서 제공하는 고성능 CPU, GPU를 무료로 사용할 수 있기 때문에 머신러닝과 데이터사이언스 교육 목적에 잘 부합하는 플랫폼이라 할 수 있습니다."
   ]
  },
  {
   "cell_type": "markdown",
   "metadata": {
    "colab_type": "text",
    "id": "PiJhboUtq0rp"
   },
   "source": [
    "### 1.2 Jupyter Notebook의 기본 구조"
   ]
  },
  {
   "cell_type": "markdown",
   "metadata": {
    "colab_type": "text",
    "id": "wOUba2I6E2Ts"
   },
   "source": [
    "먼저 작업 환경인 Jupyter Notebook의 파일 형식과 구성 요소를 간략히 소개합니다."
   ]
  },
  {
   "cell_type": "markdown",
   "metadata": {
    "colab_type": "text",
    "id": "I-VfVKZtHJd2"
   },
   "source": [
    "<h4>1) notebook의 파일 형식: .ipynb</h4>\n",
    "\n",
    "Jupyter Notebook을 사용한 문서는 `.ipynb`이라는 형식으로 저장됩니다. 이는 Jupyter Notebook이 기존 IPython project를 계승하였기 때문이며, `.py` 형식으로 저장되는 Python script와는 다릅니다.\n",
    "\n",
    "따라서 `.py` 형식으로 저장된 Script를 Jupyter Notebook으로 불러와 작업하는 것은 가능하지만, 그 반대는 일반적으로 불가능합니다. Jupyter Notebook으로 작업한 코드를 Python script로 저장하고 싶다면 아래 과정을 거쳐 파일을 저장해야합니다.\n",
    "> `Colab 메뉴바` → `파일` → `.py 다운로드`"
   ]
  },
  {
   "cell_type": "markdown",
   "metadata": {
    "colab_type": "text",
    "id": "kS3AYRMoHM-v"
   },
   "source": [
    "<h4>2) notebook의 구성 요소: cell</h4>\n",
    "\n",
    "notebook(`.ipynb`파일)은 cell 단위로 이루어져 있습니다. cell은 다시 *text cell*과 *code cell*로 나뉘는데, 각각 notebook의 문서화 / code의 작성과 실행을 맡습니다.\n",
    "\n",
    "* **text cell**\n",
    "\n",
    "    text cell은 Markdown 문법을 사용해 notebook을 문서화할 수 있는 cell입니다. 이 설명이 적힌 현재 cell 역시 text cell입니다. Markdown을 사용하면 보다 간편하게 기술 문서를 작성할 수 있어서 많은 개발자들이 튜토리얼과 코드 교육 목적으로 Jupyter Notebook을 많이 활용합니다.\n",
    "    \n",
    "    또한 text cell은 MathJax 엔진 기반의 LaTex 문법을 지원합니다. 문장 중간에 수식을 입력하거나($y=ax+b$), 아래와 같이 수식 블록을 삽입할 수 있습니다.\n",
    "    $$\n",
    "    f(x;\\mu,\\sigma^2)=\\cfrac{1}{\\sqrt{2\\pi \\sigma^2}}\\exp{\\left[ -\\cfrac{(x-\\mu)^2}{2\\sigma^2} \\right]},\\ -\\infty < \\mu < \\infty,\\ \\sigma > 0\n",
    "    $$\n",
    "    \n",
    "    Markdown 문법에 대한 더 많은 내용은 아래 참고자료의 첨부를 확인해주세요.\n",
    "* **code cell**\n",
    "\n",
    "    code cell은 코드를 작성하고 그 실행 결과를 바로 확인할 수 있는 cell입니다.\n",
    "    \n",
    "    특정 code cell에서 실행된 객체와 변수는 다른 code cell에서도 사용할 수 있어 문서의 통일성을 유지해줍니다.\n",
    "    \n",
    "    Colab의 Jupyter Notebook은 현재 <u>Python만을 지원</u>하며, Numpy, Pandas, Tensorflow, Pytorch 등 자주 사용되는 머신러닝/딥러닝 라이브러리를 기본으로 내장하고 있습니다. 이 외 패키지 관리 프롬프트(`pip`)를 사용하면 현존하는 대부분의 Python 라이브러리를 자유롭게 사용할 수 있습니다."
   ]
  },
  {
   "cell_type": "code",
   "execution_count": 0,
   "metadata": {
    "colab": {},
    "colab_type": "code",
    "id": "vu14BRzciPZg"
   },
   "outputs": [],
   "source": [
    "# code cell의 예시입니다. \"Ctrl+Enter (또는 cmd+Enter)\"로 code cell을 실행해보세요!\n",
    "# code cell 바로 아래에 실행 결과가 출력됨을 확인할 수 있습니다.\n",
    "\n",
    "print(\"hello world!\")"
   ]
  },
  {
   "cell_type": "markdown",
   "metadata": {
    "colab_type": "text",
    "id": "RSVd4OHFy4RL"
   },
   "source": [
    "### 1.3 Colab으로 Jupyter Notebook 작업 환경 만들고 확인하기"
   ]
  },
  {
   "cell_type": "markdown",
   "metadata": {
    "colab_type": "text",
    "id": "OIvsRsxoE7tc"
   },
   "source": [
    "여기서는 Colab에서 Jupyter Notebook을 생성하고 여는 방법과, 가상 환경인 런타임(runtime)에 연결하는 법, 그리고 설치된 Python Package들을 확인하는 법을 알아봅니다."
   ]
  },
  {
   "cell_type": "markdown",
   "metadata": {
    "colab_type": "text",
    "id": "nUYEPgdaHc8b"
   },
   "source": [
    "<h4>1) `.ipynb` 파일을 Colab에서 새로 만들기 / 열기</h4>\n",
    "먼저 Colab 환경에서 Jupyter Notebook 파일(`.ipynb`)을 실행합니다. 이미 만들어진 파일을 Colab에서 열거나, 새로운 notebook을 Colab에서 만들 수 있습니다.\n",
    "\n",
    "* **Colab에서 새로운 notebook을 만들려면**\n",
    "    > **`Google Drive 접속 → 새로 만들기 → 더보기 → Colaboratory`<br>**\n",
    "    > ※ `Colaboratory`가 보이지 않을 경우 `연결할 앱 더보기`에서 `Colaboratory` 검색하고 연결합니다.\n",
    "    \n",
    "    > **`Colab 메뉴바 → 파일 → 새 Python 3 노트`**<br>\n",
    "    > ※ Python 2는 2020년 이후 유지보수가 중단될 예정으로, 가급적 Python 3를 사용할 것을 권장합니다.\n",
    "    \n",
    "    두 번째 방법으로 만들어진 notebook은 개인 Google Drive의 *Colab Notebooks* 폴더에 저장됩니다.\n",
    "\n",
    "* **Colab에서 기존에 작성된 notebook을 열려면**\n",
    "    > **`Google Drive 접속 → 파일 선택 (→ Colaboratory로 열기)`**\n",
    "    \n",
    "    >**`Colab 메뉴바 → 파일 → 노트 열기`**\n",
    "    \n",
    "    이 메뉴를 활용하면 Google Drive나 Github, 또는 직접 업로드한 `.ipynb` 파일을 열 수 있습니다."
   ]
  },
  {
   "cell_type": "markdown",
   "metadata": {
    "colab_type": "text",
    "id": "O-HQCncAHgGG"
   },
   "source": [
    "<h4>2) 런타임 설정하기</h4>\n",
    "런타임(runtime)은 Colab에서 제공하는 가상 환경을 의미합니다. 이 런타임을 사용해 우리는 Jupyter Notebook을 별도로 설치하지 않고 작업할 수 있게 됩니다.\n",
    "\n",
    "보통 code cell을 실행하면 자동으로 런타임에 연결되지만, 작업 전 미리 런타임을 설정할수도 있습니다. 이 설정에서는 사용할 Python 버전과 하드웨어 가속기 (GPU / TPU) 사용 여부를 결정할 수 있습니다.\n",
    "* **런타임을 설정하려면**\n",
    "> **`Colab 메뉴바 → 런타임 → 런타임 유형 변경`**\n",
    "\n",
    "가상 환경이 아닌 작업 환경을 사용하려면 런타임 관리창에서 `로컬 런타임에 연결...`을 클릭해 설정할 수 있습니다. 이 방법은 튜토리얼에서는 다루지 않겠습니다."
   ]
  },
  {
   "cell_type": "markdown",
   "metadata": {
    "colab_type": "text",
    "id": "odRpVNWXHkwf"
   },
   "source": [
    "<h4>3) 런타임 환경 살펴보기</h4>\n",
    "런타임은 PC와 같기 때문에 하위 폴더구조를 가지고 있습니다. 아래의 명령어를 code cell에서 실행하면 현재 가동중인 환경의 폴더들을 확인할 수 있습니다."
   ]
  },
  {
   "cell_type": "code",
   "execution_count": 0,
   "metadata": {
    "colab": {
     "base_uri": "https://localhost:8080/",
     "height": 72
    },
    "colab_type": "code",
    "executionInfo": {
     "elapsed": 2447,
     "status": "ok",
     "timestamp": 1565618695069,
     "user": {
      "displayName": "‍이현준[ 대학원석사과정재학 / 통계학과 ]",
      "photoUrl": "",
      "userId": "15576676570650277584"
     },
     "user_tz": -540
    },
    "id": "3eFlu9zwJSfi",
    "outputId": "eaf2e94a-d0e8-46ef-a285-0c7f248705e9"
   },
   "outputs": [
    {
     "name": "stdout",
     "output_type": "stream",
     "text": [
      "bin\t datalab  home\t lib64\topt   run   swift\t\ttmp    var\n",
      "boot\t dev\t  lib\t media\tproc  sbin  sys\t\t\ttools\n",
      "content  etc\t  lib32  mnt\troot  srv   tensorflow-2.0.0b1\tusr\n"
     ]
    }
   ],
   "source": [
    "!ls .."
   ]
  },
  {
   "cell_type": "markdown",
   "metadata": {
    "colab_type": "text",
    "id": "ycDKNqDVJZSW"
   },
   "source": [
    "시스템에서 사용하는 주요 명령어들은 `/bin` 폴더에 저장되어 있으며, 아래와 같이 살펴볼 수 있습니다."
   ]
  },
  {
   "cell_type": "code",
   "execution_count": 0,
   "metadata": {
    "colab": {},
    "colab_type": "code",
    "id": "ZSwdVMwFJmSd"
   },
   "outputs": [],
   "source": [
    "!ls /bin"
   ]
  },
  {
   "cell_type": "markdown",
   "metadata": {
    "colab_type": "text",
    "id": "C73JZ041JpKo"
   },
   "source": [
    "Python에서 사용할 Package들이 설치된 폴더는 아래의 명령어로 접근할 수 있습니다. code cell에서 `!pip install` 명령어를 사용해 설치한 패키지들은 아래의 경로에 저장됩니다.\n",
    "\n",
    "(\"`!pip install package_name`\" 명령어는 Python 패키지인 '*package_name*'을 컴퓨터에 설치하는 명령어입니다. Colab에는 데이터 과학에 필요한 거의 모든 패키지가 사전에 설치되어 있지만, 만약 설치되지 않은 Python 패키지를 사용하려면 이 명령어를 사용해 설치 후 사용하면 됩니다.)"
   ]
  },
  {
   "cell_type": "code",
   "execution_count": 0,
   "metadata": {
    "colab": {},
    "colab_type": "code",
    "id": "Erg5cGG5KwMs"
   },
   "outputs": [],
   "source": [
    "!ls /usr/local/lib/python3.6/dist-packages"
   ]
  },
  {
   "cell_type": "markdown",
   "metadata": {
    "colab_type": "text",
    "id": "btNuLhfZHpot"
   },
   "source": [
    "<h4>※ Colab에서 제공하는 가상 환경 성능 (아래의 code cell들을 실행해보세요)</h4>"
   ]
  },
  {
   "cell_type": "code",
   "execution_count": 0,
   "metadata": {
    "colab": {},
    "colab_type": "code",
    "id": "i4TlYdp8N2mN"
   },
   "outputs": [],
   "source": [
    "# OS check\n",
    "!cat /etc/issue.net"
   ]
  },
  {
   "cell_type": "code",
   "execution_count": 0,
   "metadata": {
    "colab": {},
    "colab_type": "code",
    "id": "oe5bXjXPOOVK"
   },
   "outputs": [],
   "source": [
    "# CPU spec\n",
    "!head /proc/cpuinfo"
   ]
  },
  {
   "cell_type": "code",
   "execution_count": 0,
   "metadata": {
    "colab": {},
    "colab_type": "code",
    "id": "-8ryKGfwOdUp"
   },
   "outputs": [],
   "source": [
    "# Memory spec\n",
    "!head -n 3 /proc/meminfo"
   ]
  },
  {
   "cell_type": "code",
   "execution_count": 0,
   "metadata": {
    "colab": {},
    "colab_type": "code",
    "id": "wQeyUznTOkbt"
   },
   "outputs": [],
   "source": [
    "# disk spec\n",
    "!df -h"
   ]
  },
  {
   "cell_type": "code",
   "execution_count": 0,
   "metadata": {
    "colab": {},
    "colab_type": "code",
    "id": "OenPcpazOtPq"
   },
   "outputs": [],
   "source": [
    "# GPU spec\n",
    "# 확인하려면 런타임 '하드웨어 가속기'를 GPU로 변경해야합니다.\n",
    "!nvidia-smi"
   ]
  },
  {
   "cell_type": "markdown",
   "metadata": {
    "colab_type": "text",
    "id": "3Qb71RjkKPbu"
   },
   "source": [
    "### 1.4 Colab과 Google Drive 연동하기\n"
   ]
  },
  {
   "cell_type": "markdown",
   "metadata": {
    "colab_type": "text",
    "id": "qNMTJfQ-LCnn"
   },
   "source": [
    "Colab은 기본적으로 가상 환경을 기반으로 합니다. 그러므로 필요한 스크립트나 데이터를 사용하기 위해서는 그 파일들이 저장된 디렉토리에 접근해야합니다.\n",
    "\n",
    "Colab은 Google Drive를 기반으로 하므로, 대부분 필요한 파일은 Google Drive에 업로드해 사용합니다. 여기서는 Colab과 Google Drive를 연동하고, 작업할 디렉토리를 설정하는 방법을 소개하겠습니다."
   ]
  },
  {
   "cell_type": "markdown",
   "metadata": {
    "colab_type": "text",
    "id": "4jJv0iPcPcJj"
   },
   "source": [
    "<h4>1) Google Drive 마운트하기</h4>\n",
    "필요한 파일들이 저장된 디렉토리에 접근하기 위해 먼저 Google Drive를 마운트합니다. 여기서는 가장 간단한 방법으로 소개해드리겠습니다.\n",
    "\n",
    "* **Google Drive를 마운트하려면**\n",
    "> **`왼쪽 창 열기(좌측 상단 '>' 표시) → 파일 → 드라이브 마운트 → 출력되는 코드 실행 → url 클릭`**<br>**`→ 사용하려는 Google 계정 선택 → '허용' → 코드 복사 → 'Enter your...'에 코드 입력 후 Enter`**\n",
    "\n",
    "또는 아래 코드를 직접 실행하셔도 됩니다. (위 과정과 동일한 코드입니다.)\n",
    "\n",
    "코드를 실행시키고 \"**`>`**\" 메뉴바 파일 탭의 새로고침을 누르면 `drive`라는 폴더가 새로 생긴 것을 확인할 수 있을 것입니다."
   ]
  },
  {
   "cell_type": "code",
   "execution_count": 0,
   "metadata": {
    "colab": {},
    "colab_type": "code",
    "id": "SbqdGHzZOgX_"
   },
   "outputs": [],
   "source": [
    "from google.colab import drive\n",
    "drive.mount('/content/drive')"
   ]
  },
  {
   "cell_type": "markdown",
   "metadata": {
    "colab_type": "text",
    "id": "MWW-W0FyPfLQ"
   },
   "source": [
    "<h4>2) 디렉토리(저장소) 변경하기</h4>\n",
    "Google Drive의 특정 폴더에서 작업하고 싶을 경우, 매직명령어인 `%cd`를 사용해 디렉토리를 변경할 수 있습니다. 사용법은 다음과 같습니다.\n",
    "\n",
    "* **디렉토리를 변경하고 싶을 경우**\n",
    "> `%cd 디렉토리주소`\n",
    "\n",
    "아래 code cell의 `your_own_dir`를 drive에서 작업할 폴더 이름으로 바꿔주시면 됩니다."
   ]
  },
  {
   "cell_type": "code",
   "execution_count": 0,
   "metadata": {
    "colab": {},
    "colab_type": "code",
    "id": "VJzk-EomQivL"
   },
   "outputs": [],
   "source": [
    "%cd ./drive/'My Drive'/'your_own_dir'"
   ]
  },
  {
   "cell_type": "markdown",
   "metadata": {
    "colab_type": "text",
    "id": "VYmCDSb_RNbX"
   },
   "source": [
    "※ *매직명령어는 Python 환경에서 시스템 제어 명령이 필요할 때, 또는 Python이 아닌 다른 언어를 사용할 때 쓰는 명령어 문법입니다.\n",
    "<br>Linux 등에서 사용하는 쉘스크립트(Shell Script)를 포함하고 있으며, 사용할 때는 앞에 `%` 기호를 붙여 씁니다.*\n",
    "\n",
    "※ *Drive 마운트는 사용할 때 매 번 인증절차를 거쳐야합니다. 일종의 로그인 과정이라 할 수 있습니다.*"
   ]
  },
  {
   "cell_type": "markdown",
   "metadata": {
    "colab_type": "text",
    "id": "VgwqNreWWnh9"
   },
   "source": [
    "### 참고자료 (Colab과 친해지기)"
   ]
  },
  {
   "cell_type": "markdown",
   "metadata": {
    "colab_type": "text",
    "id": "Elpmw3NkW75w"
   },
   "source": [
    "* [Colab 공식 소개 페이지](https://colab.research.google.com/notebooks/welcome.ipynb) - 튜토리얼에서 소개하지 못한 Colab 관련 내용이 자세하게 소개되어 있습니다.\n",
    "* [Github style의 Markdown 작성 기본 가이드](https://help.github.com/en/articles/basic-writing-and-formatting-syntax) - Markdown 문법에 익숙하지 않다면 참고할 만합니다.\n",
    "* [매직명령어에 대한 추가 설명](https://nbviewer.jupyter.org/github/ipython/ipython/blob/1.x/examples/notebooks/Cell%20Magics.ipynb) - Jupyter Notebook (IPython 환경)에서 사용하는 매직명령어를 소개하고 있습니다.<br>\n",
    "(매직명령어를 사용하면 Jupyter Notebook에서 `R`을 사용할 수 있습니다!)"
   ]
  }
 ],
 "metadata": {
  "accelerator": "GPU",
  "colab": {
   "collapsed_sections": [
    "PiJhboUtq0rp",
    "RSVd4OHFy4RL",
    "3Qb71RjkKPbu"
   ],
   "name": "Tutorial_Kor_Chap1 (Colaboratory).ipynb",
   "provenance": [
    {
     "file_id": "1puyr3xz0IO5HKFnb4mYNrn4DOYv91v83",
     "timestamp": 1565417897229
    }
   ],
   "toc_visible": true,
   "version": "0.3.2"
  },
  "kernelspec": {
   "display_name": "Python 3",
   "language": "python",
   "name": "python3"
  },
  "language_info": {
   "codemirror_mode": {
    "name": "ipython",
    "version": 3
   },
   "file_extension": ".py",
   "mimetype": "text/x-python",
   "name": "python",
   "nbconvert_exporter": "python",
   "pygments_lexer": "ipython3",
   "version": "3.7.3"
  }
 },
 "nbformat": 4,
 "nbformat_minor": 1
}
