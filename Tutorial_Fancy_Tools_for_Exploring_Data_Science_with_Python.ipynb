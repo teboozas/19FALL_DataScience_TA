{
  "nbformat": 4,
  "nbformat_minor": 0,
  "metadata": {
    "colab": {
      "name": "Tutorial_Fancy Tools for Exploring Data Science with Python.ipynb",
      "version": "0.3.2",
      "provenance": [],
      "collapsed_sections": [
        "7Bx8NsHeqZvJ",
        "PiJhboUtq0rp",
        "RSVd4OHFy4RL",
        "3Qb71RjkKPbu",
        "QqjJwnscfPAN",
        "ujj7acFvCs7d",
        "gY_Px1pefWlU",
        "c9PpfS3KfcwI",
        "LLtZCkrIfrRX",
        "h-VrsW1vgF_c",
        "_3xQhxZ1gUH1",
        "E7iG9flqgu91",
        "nOiHfsbBhJh8",
        "AD8FKqGs6aN6",
        "UjDVZflo6Ewq",
        "YJmAfDtbBFcl",
        "22d2nFjzj2Gh",
        "37k0lxeIj8zf",
        "mPlxu6Vr5wq6",
        "KGU63LB-yzAN",
        "XfbDDKy04Hcs",
        "AymIEdZ_qIAw",
        "x0t_FsMil9vt",
        "EDLI5BQy71NP",
        "hMJx7Eqf_KSo",
        "XC23lFfM61YS",
        "m25Jd1hK7KsI",
        "Sn8s6v8pDss_",
        "jJjEbs6HD479",
        "jFM8KeNOD-j9",
        "9X3eAMNVEBah",
        "GROdd8ftEOor",
        "B7JkWqwTIzI7",
        "BxzhnIo1JjCf"
      ],
      "toc_visible": true,
      "include_colab_link": true
    },
    "kernelspec": {
      "name": "python3",
      "display_name": "Python 3"
    }
  },
  "cells": [
    {
      "cell_type": "markdown",
      "metadata": {
        "id": "gIsIvxPDSz36",
        "colab_type": "text"
      },
      "source": [
        "**※ Google Colab에서 바로 열어보시려면 아래 뱃지를 클릭하세요!**\n",
      "\n",
      "\u003ca href=\"https://colab.research.google.com/github/googlecolab/colabtools/blob/master/notebooks/colab-github-demo.ipynb\" target=\"_parent\"\u003e\u003cimg src=\"https://colab.research.google.com/assets/colab-badge.svg\" alt=\"Open In Colab\"/\u003e\u003c/a\u003e\n"
      ]
    },
    {
      "cell_type": "markdown",
      "metadata": {
        "id": "76JOHigzdcWD",
        "colab_type": "text"
      },
      "source": [
        "<h1>Tutorial: Fancy Tools for Exploring Data Science with Python</h1>"
      ]
    },
    {
      "cell_type": "code",
      "metadata": {
        "id": "QK2HEIugK5it",
        "colab_type": "code",
        "colab": {}
      },
      "source": [
        "from IPython.core.interactiveshell import InteractiveShell\n",
        "InteractiveShell.ast_node_interactivity = \"all\""
      ],
      "execution_count": 0,
      "outputs": []
    },
    {
      "cell_type": "markdown",
      "metadata": {
        "id": "OReKRYABTraK",
        "colab_type": "text"
      },
      "source": [
        "시작하기에 앞서\n",
        "\n",
        "* 고려대학교 웹메일(구글계정)로 초대된 Google Drive 공유 폴더의 권한이 부여되었는지 확인해주세요.<br>\n",
        "(폴더명: Python_Tutorial)\n",
        "* Colab은 Google Chrome에 최적화되어 있습니다. 가급적 Chrome 브라우저를 사용해주세요."
      ]
    },
    {
      "cell_type": "markdown",
      "metadata": {
        "id": "CXV1aWvjdzo4",
        "colab_type": "text"
      },
      "source": [
        "## 1. Colaboratory\n"
      ]
    },
    {
      "cell_type": "markdown",
      "metadata": {
        "id": "7Bx8NsHeqZvJ",
        "colab_type": "text"
      },
      "source": [
        "### 1.1 Google Colaboratory(이하 Colab)란?"
      ]
    },
    {
      "cell_type": "markdown",
      "metadata": {
        "id": "SCIA3iP4ENoe",
        "colab_type": "text"
      },
      "source": [
        "**Colab은 Google Drive상에서 실행되는 Jupyter Notebook 개발 환경입니다.**\n",
        "    \n",
        "Jupyter Notebook은 최근 보편적으로 사용하는 대화형 개발 환경으로, 코드 실행 결과를 즉시 확인할 수 있는 동시에 Markdown을 활용해 쉽게 문서화시킬 수 있어 편리합니다. 특히 Python 및 그 라이브러리(R에서의 패키지와 같습니다)와의 호환성이 높아 Python을 활용한 개발과 교육용 환경으로 각광받고 있습니다.\n",
        "    \n",
        "Colab은 Google Drive 위에서 실행되기 때문에 별도의 설치가 필요없으며, Google에서 제공하는 고성능 CPU, GPU를 무료로 사용할 수 있기 때문에 머신러닝과 데이터사이언스 교육 목적에 잘 부합하는 플랫폼이라 할 수 있습니다."
      ]
    },
    {
      "cell_type": "markdown",
      "metadata": {
        "id": "PiJhboUtq0rp",
        "colab_type": "text"
      },
      "source": [
        "### 1.2 Jupyter Notebook의 기본 구조"
      ]
    },
    {
      "cell_type": "markdown",
      "metadata": {
        "id": "wOUba2I6E2Ts",
        "colab_type": "text"
      },
      "source": [
        "먼저 작업 환경인 Jupyter Notebook의 파일 형식과 구성 요소를 간략히 소개합니다.\n",
        "\n",
        "<h4>1) notebook의 파일 형식: .ipynb</h4>\n",
        "\n",
        "Jupyter Notebook을 사용한 문서는 `.ipynb`이라는 형식으로 저장됩니다. 이는 Jupyter Notebook이 기존 IPython project를 계승하였기 때문이며, `.py` 형식으로 저장되는 Python script와는 다릅니다.\n",
        "\n",
        "따라서 `.py` 형식으로 저장된 Script를 Jupyter Notebook으로 불러와 작업하는 것은 가능하지만, 그 반대는 일반적으로 불가능합니다. Jupyter Notebook으로 작업한 코드를 Python script로 저장하고 싶다면 아래 과정을 거쳐 파일을 저장해야합니다.\n",
        "> `Colab 메뉴바` → `파일` → `.py 다운로드`\n",
        "\n",
        "\n",
        "<h4>2) notebook의 구성 요소: cell</h4>\n",
        "\n",
        "notebook(`.ipynb`파일)은 cell 단위로 이루어져 있습니다. cell은 다시 *text cell*과 *code cell*로 나뉘는데, 각각 notebook의 문서화 / code의 작성과 실행을 맡습니다.\n",
        "\n",
        "* **text cell**\n",
        "\n",
        "    text cell은 Markdown 문법을 사용해 notebook을 문서화할 수 있는 cell입니다. 이 설명이 적힌 현재 cell 역시 text cell입니다. Markdown을 사용하면 보다 간편하게 기술 문서를 작성할 수 있어서 많은 개발자들이 튜토리얼과 코드 교육 목적으로 Jupyter Notebook을 많이 활용합니다.\n",
        "    \n",
        "    또한 text cell은 MathJax 엔진 기반의 LaTex 문법을 지원합니다. 문장 중간에 수식을 입력하거나($y=ax+b$), 아래와 같이 수식 블록을 삽입할 수 있습니다.\n",
        "    $$\n",
        "    f(x;\\mu,\\sigma^2)=\\cfrac{1}{\\sqrt{2\\pi \\sigma^2}}\\exp{\\left[ -\\cfrac{(x-\\mu)^2}{2\\sigma^2} \\right]},\\ -\\infty < \\mu < \\infty,\\ \\sigma > 0\n",
        "    $$\n",
        "    \n",
        "    Markdown 문법에 대한 더 많은 내용은 아래 참고자료의 첨부를 확인해주세요.\n",
        "* **code cell**\n",
        "\n",
        "    code cell은 코드를 작성하고 그 실행 결과를 바로 확인할 수 있는 cell입니다.\n",
        "    \n",
        "    특정 code cell에서 실행된 객체와 변수는 다른 code cell에서도 사용할 수 있어 문서의 통일성을 유지해줍니다.\n",
        "    \n",
        "    Colab의 Jupyter Notebook은 현재 <u>Python만을 지원</u>하며, Numpy, Pandas, Tensorflow, Pytorch 등 자주 사용되는 머신러닝/딥러닝 라이브러리를 기본으로 내장하고 있습니다. 이 외 패키지 관리 프롬프트(`pip`)를 사용하면 현존하는 대부분의 Python 라이브러리를 자유롭게 사용할 수 있습니다."
      ]
    },
    {
      "cell_type": "code",
      "metadata": {
        "id": "vu14BRzciPZg",
        "colab_type": "code",
        "colab": {}
      },
      "source": [
        "# code cell의 예시입니다. \"Ctrl+Enter (또는 cmd+Enter)\"로 code cell을 실행해보세요!\n",
        "# code cell 바로 아래에 실행 결과가 출력됨을 확인할 수 있습니다.\n",
        "\n",
        "print(\"hello world!\")"
      ],
      "execution_count": 0,
      "outputs": []
    },
    {
      "cell_type": "markdown",
      "metadata": {
        "id": "RSVd4OHFy4RL",
        "colab_type": "text"
      },
      "source": [
        "### 1.3 Colab으로 Jupyter Notebook 작업 환경 만들기"
      ]
    },
    {
      "cell_type": "markdown",
      "metadata": {
        "id": "OIvsRsxoE7tc",
        "colab_type": "text"
      },
      "source": [
        "여기서는 Colab에서 Jupyter Notebook을 생성하고 여는 방법과, 가상 환경인 런타임(runtime)에 연결하는 법을 소개합니다.\n",
        "\n",
        "<h4>1) `.ipynb` 파일을 Colab에서 새로 만들기 / 열기</h4>\n",
        "먼저 Colab 환경에서 Jupyter Notebook 파일(`.ipynb`)을 실행합니다. 이미 만들어진 파일을 Colab에서 열거나, 새로운 notebook을 Colab에서 만들 수 있습니다.\n",
        "\n",
        "* **Colab에서 새로운 notebook을 만들려면**\n",
        "    > **`Google Drive 접속 → 새로 만들기 → 더보기 → Colaboratory`<br>**\n",
        "    > ※ `Colaboratory`가 보이지 않을 경우 `연결할 앱 더보기`에서 `Colaboratory` 검색하고 연결합니다.\n",
        "    \n",
        "    > **`Colab 메뉴바 → 파일 → 새 Python 3 노트`**<br>\n",
        "    > ※ Python 2는 2020년 이후 유지보수가 중단될 예정으로, 가급적 Python 3를 사용할 것을 권장합니다.\n",
        "    \n",
        "    두 번째 방법으로 만들어진 notebook은 개인 Google Drive의 *Colab Notebooks* 폴더에 저장됩니다.\n",
        "\n",
        "* **Colab에서 기존에 작성된 notebook을 열려면**\n",
        "    > **`Google Drive 접속 → 파일 선택 (→ Colaboratory로 열기)`**\n",
        "    \n",
        "    >**`Colab 메뉴바 → 파일 → 노트 열기`**\n",
        "    \n",
        "    이 메뉴를 활용하면 Google Drive나 Github, 또는 직접 업로드한 `.ipynb` 파일을 열 수 있습니다.\n",
        "\n",
        "<h4>2) 런타임 설정하기</h4>\n",
        "런타임(runtime)은 Colab에서 제공하는 가상 환경을 의미합니다. 이 런타임을 사용해 우리는 Jupyter Notebook을 별도로 설치하지 않고 작업할 수 있게 됩니다.\n",
        "\n",
        "보통 code cell을 실행하면 자동으로 런타임에 연결되지만, 작업 전 미리 런타임을 설정할수도 있습니다. 이 설정에서는 사용할 Python 버전과 하드웨어 가속기 (GPU / TPU) 사용 여부를 결정할 수 있습니다.\n",
        "* **런타임을 설정하려면**\n",
        "> **`Colab 메뉴바 → 런타임 → 런타임 유형 변경`**\n",
        "\n",
        "가상 환경이 아닌 작업 환경을 사용하려면 런타임 관리창에서 `로컬 런타임에 연결...`을 클릭해 설정할 수 있습니다. 이 방법은 튜토리얼에서는 다루지 않겠습니다.\n",
        "\n",
        "<h4>※ Colab에서 제공하는 가상 환경 성능 ('19.07 기준)</h4>\n",
        "\n",
        "* CPU: Intel Xeon (2.3GHz, cache 46080 KB)\n",
        "* RAM: 12GB\n",
        "* GPU: NVIDIA Tesla K80 (12GB)\n",
        "* Disk: 50GB"
      ]
    },
    {
      "cell_type": "markdown",
      "metadata": {
        "id": "3Qb71RjkKPbu",
        "colab_type": "text"
      },
      "source": [
        "### 1.4 Colab과 Google Drive 연동하기\n"
      ]
    },
    {
      "cell_type": "markdown",
      "metadata": {
        "id": "qNMTJfQ-LCnn",
        "colab_type": "text"
      },
      "source": [
        "Colab은 기본적으로 가상 환경을 기반으로 합니다. 그러므로 필요한 스크립트나 데이터를 사용하기 위해서는 그 파일들이 저장된 디렉토리에 접근해야합니다.\n",
        "\n",
        "Colab은 Google Drive를 기반으로 하므로, 대부분 필요한 파일은 Google Drive에 업로드해 사용합니다. 여기서는 Colab과 Google Drive를 연동하고, 작업할 디렉토리를 설정하는 방법을 소개하겠습니다.\n",
        "\n",
        "<h4>1) Google Drive 마운트하기</h4>\n",
        "필요한 파일들이 저장된 디렉토리에 접근하기 위해 먼저 Google Drive를 마운트합니다. 여기서는 가장 간단한 방법으로 소개해드리겠습니다.\n",
        "\n",
        "* **Google Drive를 마운트하려면**\n",
        "> **`왼쪽 창 열기(좌측 상단 '>' 표시) → 파일 → 드라이브 마운트 → 출력되는 코드 실행 → url 클릭`**<br>**`→ 사용하려는 Google 계정 선택 → '허용' → 코드 복사 → 'Enter your...'에 코드 입력 후 Enter`**\n",
        "\n",
        "또는 아래 코드를 직접 실행하셔도 됩니다. (위 과정과 동일한 코드입니다.)\n",
        "\n",
        "코드를 실행시키고 파일 탭의 새로고침을 누르면 `drive`라는 폴더가 새로 생긴 것을 확인할 수 있을 것입니다."
      ]
    },
    {
      "cell_type": "code",
      "metadata": {
        "id": "SbqdGHzZOgX_",
        "colab_type": "code",
        "colab": {}
      },
      "source": [
        "from google.colab import drive\n",
        "drive.mount('/content/drive')"
      ],
      "execution_count": 0,
      "outputs": []
    },
    {
      "cell_type": "markdown",
      "metadata": {
        "id": "MWW-W0FyPfLQ",
        "colab_type": "text"
      },
      "source": [
        "<h4>2) 디렉토리(저장소) 변경하기</h4>\n",
        "Google Drive의 특정 폴더에서 작업하고 싶을 경우, 매직명령어인 `%cd`를 사용해 디렉토리를 변경할 수 있습니다. 사용법은 다음과 같습니다.\n",
        "\n",
        "* **디렉토리를 변경하고 싶을 경우**\n",
        "> `%cd 디렉토리주소`\n",
        "\n",
        "이 튜토리얼에서는 공용 작업폴더인 'Python_Tutorial' 폴더로 디렉토리를 변경해보겠습니다. 아래의 코드를 실행하시면 됩니다."
      ]
    },
    {
      "cell_type": "code",
      "metadata": {
        "id": "VJzk-EomQivL",
        "colab_type": "code",
        "colab": {}
      },
      "source": [
        "%cd ./drive/'Shared drives'/'Python_Tutorial'"
      ],
      "execution_count": 0,
      "outputs": []
    },
    {
      "cell_type": "markdown",
      "metadata": {
        "id": "VYmCDSb_RNbX",
        "colab_type": "text"
      },
      "source": [
        "※ *매직명령어는 Python 환경에서 시스템 제어 명령이 필요할 때, 또는 Python이 아닌 다른 언어를 사용할 때 쓰는 명령어 문법입니다.\n",
        "<br>Linux 등에서 사용하는 쉘스크립트(Shell Script)를 포함하고 있으며, 사용할 때는 앞에 `%` 기호를 붙여 씁니다.*\n",
        "\n",
        "※ *Drive 마운트는 사용할 때 매 번 인증절차를 거쳐야합니다. 일종의 로그인 과정이라 할 수 있습니다.*"
      ]
    },
    {
      "cell_type": "markdown",
      "metadata": {
        "id": "VgwqNreWWnh9",
        "colab_type": "text"
      },
      "source": [
        "### 참고자료 (Colab과 친해지기)"
      ]
    },
    {
      "cell_type": "markdown",
      "metadata": {
        "id": "Elpmw3NkW75w",
        "colab_type": "text"
      },
      "source": [
        "* [Colab 공식 소개 페이지](https://colab.research.google.com/notebooks/welcome.ipynb) - 튜토리얼에서 소개하지 못한 Colab 관련 내용이 자세하게 소개되어 있습니다.\n",
        "* [Github style의 Markdown 작성 기본 가이드](https://help.github.com/en/articles/basic-writing-and-formatting-syntax) - Markdown 문법에 익숙하지 않다면 참고할 만합니다.\n",
        "* [매직명령어에 대한 추가 설명](https://nbviewer.jupyter.org/github/ipython/ipython/blob/1.x/examples/notebooks/Cell%20Magics.ipynb) - Jupyter Notebook (IPython 환경)에서 사용하는 매직명령어를 소개하고 있습니다.<br>\n",
        "(매직명령어를 사용하면 Jupyter Notebook에서 `R`을 사용할 수 있습니다!)"
      ]
    },
    {
      "cell_type": "markdown",
      "metadata": {
        "id": "XtJ_5emycKNn",
        "colab_type": "text"
      },
      "source": [
        "## 2. Python & object-oriented programming(OOP)"
      ]
    },
    {
      "cell_type": "markdown",
      "metadata": {
        "id": "QqjJwnscfPAN",
        "colab_type": "text"
      },
      "source": [
        "### 2.1 Intro: 먼저 코드를 봅시다"
      ]
    },
    {
      "cell_type": "markdown",
      "metadata": {
        "id": "ujj7acFvCs7d",
        "colab_type": "text"
      },
      "source": [
        "#### Python으로 작성된 데이터 사이언스/머신러닝 구현 사례\n",
        "아래는 2018년 Google AI에서 발표한 자연언어처리(natural language process; NLP) 모델인 BERT(Bidirectional Encoder Representations from Transformers)의 오픈소스 Python 코드 일부를 발췌한 것입니다. 우선은 모양과 느낌에 집중하며 코드를 '훓어보시길' 권합니다. 숨겨진 셀을 펼쳐보세요!"
      ]
    },
    {
      "cell_type": "code",
      "metadata": {
        "id": "l1j0Dvt4B70k",
        "colab_type": "code",
        "colab": {}
      },
      "source": [
        "# coding=utf-8\n",
        "# Copyright 2018 The Google AI Language Team Authors.\n",
        "#\n",
        "# Licensed under the Apache License, Version 2.0 (the \"License\");\n",
        "# you may not use this file except in compliance with the License.\n",
        "# You may obtain a copy of the License at\n",
        "#\n",
        "#     http://www.apache.org/licenses/LICENSE-2.0\n",
        "#\n",
        "# Unless required by applicable law or agreed to in writing, software\n",
        "# distributed under the License is distributed on an \"AS IS\" BASIS,\n",
        "# WITHOUT WARRANTIES OR CONDITIONS OF ANY KIND, either express or implied.\n",
        "# See the License for the specific language governing permissions and\n",
        "# limitations under the License.\n",
        "\"\"\"The main BERT model and related functions.\"\"\"\n",
        "\n",
        "from __future__ import absolute_import\n",
        "from __future__ import division\n",
        "from __future__ import print_function\n",
        "\n",
        "import collections\n",
        "import copy\n",
        "import json\n",
        "import math\n",
        "import re\n",
        "import numpy as np\n",
        "import six\n",
        "import tensorflow as tf\n",
        "\n",
        "class BertModel(object):\n",
        "  \"\"\"BERT model (\"Bidirectional Encoder Representations from Transformers\").\n",
        "\n",
        "  Example usage:\n",
        "\n",
        "  ```python\n",
        "  # Already been converted into WordPiece token ids\n",
        "  input_ids = tf.constant([[31, 51, 99], [15, 5, 0]])\n",
        "  input_mask = tf.constant([[1, 1, 1], [1, 1, 0]])\n",
        "  token_type_ids = tf.constant([[0, 0, 1], [0, 2, 0]])\n",
        "\n",
        "  config = modeling.BertConfig(vocab_size=32000, hidden_size=512,\n",
        "    num_hidden_layers=8, num_attention_heads=6, intermediate_size=1024)\n",
        "\n",
        "  model = modeling.BertModel(config=config, is_training=True,\n",
        "    input_ids=input_ids, input_mask=input_mask, token_type_ids=token_type_ids)\n",
        "\n",
        "  label_embeddings = tf.get_variable(...)\n",
        "  pooled_output = model.get_pooled_output()\n",
        "  logits = tf.matmul(pooled_output, label_embeddings)\n",
        "  ...\n",
        "  ```\n",
        "  \"\"\"\n",
        "\n",
        "  def __init__(self,\n",
        "               config,\n",
        "               is_training,\n",
        "               input_ids,\n",
        "               input_mask=None,\n",
        "               token_type_ids=None,\n",
        "               use_one_hot_embeddings=False,\n",
        "               scope=None):\n",
        "    \"\"\"Constructor for BertModel.\n",
        "\n",
        "    Args:\n",
        "      config: `BertConfig` instance.\n",
        "      is_training: bool. true for training model, false for eval model. Controls\n",
        "        whether dropout will be applied.\n",
        "      input_ids: int32 Tensor of shape [batch_size, seq_length].\n",
        "      input_mask: (optional) int32 Tensor of shape [batch_size, seq_length].\n",
        "      token_type_ids: (optional) int32 Tensor of shape [batch_size, seq_length].\n",
        "      use_one_hot_embeddings: (optional) bool. Whether to use one-hot word\n",
        "        embeddings or tf.embedding_lookup() for the word embeddings.\n",
        "      scope: (optional) variable scope. Defaults to \"bert\".\n",
        "\n",
        "    Raises:\n",
        "      ValueError: The config is invalid or one of the input tensor shapes\n",
        "        is invalid.\n",
        "    \"\"\"\n",
        "    config = copy.deepcopy(config)\n",
        "    if not is_training:\n",
        "      config.hidden_dropout_prob = 0.0\n",
        "      config.attention_probs_dropout_prob = 0.0\n",
        "\n",
        "    input_shape = get_shape_list(input_ids, expected_rank=2)\n",
        "    batch_size = input_shape[0]\n",
        "    seq_length = input_shape[1]\n",
        "\n",
        "    if input_mask is None:\n",
        "      input_mask = tf.ones(shape=[batch_size, seq_length], dtype=tf.int32)\n",
        "\n",
        "    if token_type_ids is None:\n",
        "      token_type_ids = tf.zeros(shape=[batch_size, seq_length], dtype=tf.int32)\n",
        "\n",
        "    with tf.variable_scope(scope, default_name=\"bert\"):\n",
        "      with tf.variable_scope(\"embeddings\"):\n",
        "        # Perform embedding lookup on the word ids.\n",
        "        (self.embedding_output, self.embedding_table) = embedding_lookup(\n",
        "            input_ids=input_ids,\n",
        "            vocab_size=config.vocab_size,\n",
        "            embedding_size=config.hidden_size,\n",
        "            initializer_range=config.initializer_range,\n",
        "            word_embedding_name=\"word_embeddings\",\n",
        "            use_one_hot_embeddings=use_one_hot_embeddings)\n",
        "\n",
        "        # Add positional embeddings and token type embeddings, then layer\n",
        "        # normalize and perform dropout.\n",
        "        self.embedding_output = embedding_postprocessor(\n",
        "            input_tensor=self.embedding_output,\n",
        "            use_token_type=True,\n",
        "            token_type_ids=token_type_ids,\n",
        "            token_type_vocab_size=config.type_vocab_size,\n",
        "            token_type_embedding_name=\"token_type_embeddings\",\n",
        "            use_position_embeddings=True,\n",
        "            position_embedding_name=\"position_embeddings\",\n",
        "            initializer_range=config.initializer_range,\n",
        "            max_position_embeddings=config.max_position_embeddings,\n",
        "            dropout_prob=config.hidden_dropout_prob)\n",
        "\n",
        "      with tf.variable_scope(\"encoder\"):\n",
        "        # This converts a 2D mask of shape [batch_size, seq_length] to a 3D\n",
        "        # mask of shape [batch_size, seq_length, seq_length] which is used\n",
        "        # for the attention scores.\n",
        "        attention_mask = create_attention_mask_from_input_mask(\n",
        "            input_ids, input_mask)\n",
        "\n",
        "        # Run the stacked transformer.\n",
        "        # `sequence_output` shape = [batch_size, seq_length, hidden_size].\n",
        "        self.all_encoder_layers = transformer_model(\n",
        "            input_tensor=self.embedding_output,\n",
        "            attention_mask=attention_mask,\n",
        "            hidden_size=config.hidden_size,\n",
        "            num_hidden_layers=config.num_hidden_layers,\n",
        "            num_attention_heads=config.num_attention_heads,\n",
        "            intermediate_size=config.intermediate_size,\n",
        "            intermediate_act_fn=get_activation(config.hidden_act),\n",
        "            hidden_dropout_prob=config.hidden_dropout_prob,\n",
        "            attention_probs_dropout_prob=config.attention_probs_dropout_prob,\n",
        "            initializer_range=config.initializer_range,\n",
        "            do_return_all_layers=True)\n",
        "\n",
        "      self.sequence_output = self.all_encoder_layers[-1]\n",
        "      # The \"pooler\" converts the encoded sequence tensor of shape\n",
        "      # [batch_size, seq_length, hidden_size] to a tensor of shape\n",
        "      # [batch_size, hidden_size]. This is necessary for segment-level\n",
        "      # (or segment-pair-level) classification tasks where we need a fixed\n",
        "      # dimensional representation of the segment.\n",
        "      with tf.variable_scope(\"pooler\"):\n",
        "        # We \"pool\" the model by simply taking the hidden state corresponding\n",
        "        # to the first token. We assume that this has been pre-trained\n",
        "        first_token_tensor = tf.squeeze(self.sequence_output[:, 0:1, :], axis=1)\n",
        "        self.pooled_output = tf.layers.dense(\n",
        "            first_token_tensor,\n",
        "            config.hidden_size,\n",
        "            activation=tf.tanh,\n",
        "            kernel_initializer=create_initializer(config.initializer_range))\n",
        "\n",
        "  def get_pooled_output(self):\n",
        "    return self.pooled_output\n",
        "\n",
        "  def get_sequence_output(self):\n",
        "    \"\"\"Gets final hidden layer of encoder.\n",
        "\n",
        "    Returns:\n",
        "      float Tensor of shape [batch_size, seq_length, hidden_size] corresponding\n",
        "      to the final hidden of the transformer encoder.\n",
        "    \"\"\"\n",
        "    return self.sequence_output\n",
        "\n",
        "  def get_all_encoder_layers(self):\n",
        "    return self.all_encoder_layers\n",
        "\n",
        "  def get_embedding_output(self):\n",
        "    \"\"\"Gets output of the embedding lookup (i.e., input to the transformer).\n",
        "\n",
        "    Returns:\n",
        "      float Tensor of shape [batch_size, seq_length, hidden_size] corresponding\n",
        "      to the output of the embedding layer, after summing the word\n",
        "      embeddings with the positional embeddings and the token type embeddings,\n",
        "      then performing layer normalization. This is the input to the transformer.\n",
        "    \"\"\"\n",
        "    return self.embedding_output\n",
        "\n",
        "  def get_embedding_table(self):\n",
        "    return self.embedding_table\n",
        "\n",
        "\n",
        "def gelu(x):\n",
        "  \"\"\"Gaussian Error Linear Unit.\n",
        "\n",
        "  This is a smoother version of the RELU.\n",
        "  Original paper: https://arxiv.org/abs/1606.08415\n",
        "  Args:\n",
        "    x: float Tensor to perform activation.\n",
        "\n",
        "  Returns:\n",
        "    `x` with the GELU activation applied.\n",
        "  \"\"\"\n",
        "  cdf = 0.5 * (1.0 + tf.tanh(\n",
        "      (np.sqrt(2 / np.pi) * (x + 0.044715 * tf.pow(x, 3)))))\n",
        "  return x * cdf\n",
        "\n",
        "\n",
        "def get_activation(activation_string):\n",
        "  \"\"\"Maps a string to a Python function, e.g., \"relu\" => `tf.nn.relu`.\n",
        "\n",
        "  Args:\n",
        "    activation_string: String name of the activation function.\n",
        "\n",
        "  Returns:\n",
        "    A Python function corresponding to the activation function. If\n",
        "    `activation_string` is None, empty, or \"linear\", this will return None.\n",
        "    If `activation_string` is not a string, it will return `activation_string`.\n",
        "\n",
        "  Raises:\n",
        "    ValueError: The `activation_string` does not correspond to a known\n",
        "      activation.\n",
        "  \"\"\"\n",
        "\n",
        "  # We assume that anything that\"s not a string is already an activation\n",
        "  # function, so we just return it.\n",
        "  if not isinstance(activation_string, six.string_types):\n",
        "    return activation_string\n",
        "\n",
        "  if not activation_string:\n",
        "    return None\n",
        "\n",
        "  act = activation_string.lower()\n",
        "  if act == \"linear\":\n",
        "    return None\n",
        "  elif act == \"relu\":\n",
        "    return tf.nn.relu\n",
        "  elif act == \"gelu\":\n",
        "    return gelu\n",
        "  elif act == \"tanh\":\n",
        "    return tf.tanh\n",
        "  else:\n",
        "    raise ValueError(\"Unsupported activation: %s\" % act)\n"
      ],
      "execution_count": 0,
      "outputs": []
    },
    {
      "cell_type": "markdown",
      "metadata": {
        "id": "jbC6RI_hEaJL",
        "colab_type": "text"
      },
      "source": [
        "#### Python 코드의 특징\n",
        "코드를 보며 다음과 같은 특징을 느끼셨나요?\n",
        "* `from ... import ...`와 `import ... as ...`가 윗 부분에 쌓여있다.\n",
        "* `#`와 `\"\"\" ... \"\"\"`로 뭔가 잔뜩 쓰여있다.\n",
        "* 코드가 정돈된 느낌이 있다.\n",
        "* `class`와 `def`가 코드의 대부분을 차지한다.\n",
        "* `__init__()`와 `self`라는 표현이 자주 눈에 띈다.\n",
        "* 이름에 특정한 패턴이 있다. (`a.b`,  `_c` 등)\n",
        "* 이름과 이름사이는 대부분 `=`로 이어져있다.\n",
        "\n",
        "이 특징들은 사용자나 내용과 무관하게 Python으로 작성된 코드 대부분에게서 나타납니다. 그리고 Python 언어와 Python으로 작성된 프로그래밍 패러다임(paradigm)을 잘 요약하는 것들입니다.\n",
        "\n",
        "우리는 이제부터 이런 특징들이 무엇을 의미하는지, 그 관계는 어떻게 이어져있는지 천천히 살펴보겠습니다. **특히 '객체 지향 프로그래밍'을 중심으로 한 Python 코드의 기본적인 구조를 집중적으로 알아볼 예정입니다.**"
      ]
    },
    {
      "cell_type": "markdown",
      "metadata": {
        "colab_type": "text",
        "id": "BbqiijsUBFWk"
      },
      "source": [
        "### 2.2 Python 기본 원리와 규칙"
      ]
    },
    {
      "cell_type": "markdown",
      "metadata": {
        "id": "gY_Px1pefWlU",
        "colab_type": "text"
      },
      "source": [
        "#### 객체 지향 프로그래밍(object-oriented programming; OOP)"
      ]
    },
    {
      "cell_type": "markdown",
      "metadata": {
        "id": "HLffOVEWge3_",
        "colab_type": "text"
      },
      "source": [
        "**\"Python의 모든 것은 객체이다(Everything is an object in Python)\"**\n",
        "\n",
        "Python은 최초 개발시 순수 객체 지향 프로그래밍(OOP) 구현을 지향하며 개발된 언어입니다. 이런 특징은 Python 곳곳에 녹아있으며, 그러므로 OOP를 이해하지 않고는 Python을 효과적으로 쓸 수 없을 뿐더러 타인의 코드 역시 이해하지 못하게 됩니다.\n",
        "\n",
        "그러므로 Python을 본격적으로 알아보기 전 OOP의 기초적인 내용을 먼저 짚고 넘어가도록 하겠습니다.\n",
        "\n",
        "1. **클래스(class)와 인스턴스(instance)**\n",
        "    \n",
        "    * **클래스 = 형(type) + 속성(attribute) + 메소드(method)**\n",
        "    \n",
        "        * 클래스는 형식과 속성, 메소드를 가지고 있는 그 어떤 것도 될 수 있습니다.\n",
        "        * 형(type)은 클래스의 (추상적) 정의입니다.\n",
        "        \n",
        "        ('삼각형', '원', '사람' 등)\n",
        "        \n",
        "        * 속성(attribute)은 클래스가 가진 특징이나 성질을 표현합니다.\n",
        "        \n",
        "        ('사람' 클래스의 '키', '성별' 등의 속성)\n",
        "        \n",
        "        * 메소드(method)는 클래스의 기능성(functionality), 즉 취할 수 있는 행동이나 기술을 정의한 것입니다.\n",
        "        \n",
        "        ('사람' 클래스의 '먹다', '말하다', '걷다' 등의 기능성)\n",
        "    \n",
        "    * **인스턴스(instance) = 클래스의 실현된 개체**\n",
        "    \n",
        "        * 인스턴스는 특정 클래스에 속하는 실존 개체입니다.\n",
        "        \n",
        "        ('현준'이라는 개체는 '사람' 클래스의 인스턴스)\n",
        "        \n",
        "        * 인스턴스도 속성과 메소드를 가지며, 빈 항목이 없이 완전히 표현되어야 합니다.\n",
        "        \n",
        "        ('현준'의 키는 170cm, 성별은 남성, 말할 수 있음 등)\n",
        "        \n",
        "        \n",
        "2. **객체(object)와 객체 지향 프로그래밍(OOP)**\n",
        "\n",
        "    * **객체 = 인스턴스**\n",
        "    \n",
        "        * 객체란 객체 지향 프로그래밍 과정에서 실현된 클래스, 즉 인스턴스를 의미합니다.\n",
        "    \n",
        "    * **객체 지향 프로그래밍(OOP)이란?**\n",
        "    \n",
        "        * OOP는 객체와 객체간 관계로 프로그램을 완전히 구현할 수 있다는 프로그래밍 패러다임(paradigm)입니다.\n",
        "        * OOP는 클래스를 활용해 중복 코딩을 막고 메모리를 절약하는 효율적 프로그래밍을 지향합니다.\n",
        "    \n",
        "    * **객체 지향 프로그래밍의 구현**\n",
        "    \n",
        "        * OOP의 핵심은 속성(attribute)과 메소드(method)의 정의, 객체(object)간 관계를 <u>간결한 코드</u>로 표현하는 것입니다.\n",
        "        \n",
        "3. **객체 지향 프로그래밍의 대표적인 특징**\n",
        "\n",
        "    * **캡슐화(encapsulation)**\n",
        "        \n",
        "        * 캡슐화는 변수와 함수를 하나의 코드 단위로 묶는 것을 의미합니다.\n",
        "        * 캡슐화는 주로 클래스(class) 정의로 구현하며, 변수는 속성(attribute), 함수는 메소드(method)가 됩니다.\n",
        "        * 따라서 OOP를 지원하는 프로그래밍 언어는 클래스를 정의하고 다루는 기능을 필수적으로 제공합니다.\n",
        "        \n",
        "    * **상속(inheritance)**\n",
        "    \n",
        "        * 상속은 클래스의 속성과 메소드를 다른 클래스가 물려받아 '그대로' 사용할 수 있다는 개념입니다.\n",
        "        * 물려주는 클래스를 부모 클래스(parent class), 물려받는 클래스를 자식 클래스(child class)라 부릅니다.\n",
        "        \n",
        "        ('수영선수' 클래스를 새로 만들 때, '사람' 클래스의 속성과 메소드를 물려받고(상속) 일부를 추가/수정하면 간편합니다.)\n",
        "        * 자식 클래스는 부모 클래스의 역할을 온전히 대신할 수 있습니다.\n",
        "        \n",
        "        ('수영선수'는 '사람'의 속성과 기능성을 모두 가지고 있어 사람 역할을 할 수 있습니다.)\n",
        "        \n",
        "    * **다형성(polymorphism)**\n",
        "        * 다형성은 같은 이름의 속성과 메소드가 동시에 존재하며 서로 다른 의미를 가질 수 있다는 개념입니다.\n",
        "        \n",
        "        ('사람' 클래스의 자식 클래스는 모두 '말하다' 메소드를 가지지만, 국적에 따라 '한국어를 말하다', '영어를 말하다' 등 다양한 의미를 표현할 수 있습니다.)\n",
        "        \n",
        "        * 다형성이 보장된다면 속성과 메소드의 이름을 불필요하게 많이 지정하지 않아도 되는 장점이 있습니다.\n",
        "\n",
        "4. **객체 지향 프로그래밍과 Python**\n",
        "    * Python은 **모든 요소를 객체로 취급하도록 코딩**되어 있습니다.\n",
        "    * 따라서 명령어를 제외한 Python의 모든 것은 형식, 속성, 메소드를 가지고 있으며, 객체 지향 프로그래밍을 구현하기 위한 거의 모든 기능을 제공하고 있습니다.\n",
        "    * 이에 맞게 Python으로 구현된 결과물은 대부분 OOP 패러다임을 따르며, 함수형 프로그래밍 등의 패러다임도 적절히 조화를 이루고 있습니다."
      ]
    },
    {
      "cell_type": "markdown",
      "metadata": {
        "id": "c9PpfS3KfcwI",
        "colab_type": "text"
      },
      "source": [
        "#### 'Python다움(Pythonic)'\n",
        "\n"
      ]
    },
    {
      "cell_type": "markdown",
      "metadata": {
        "id": "pzfbZhYag_4b",
        "colab_type": "text"
      },
      "source": [
        "Python의 기능적 요소는 다른 프로그래밍 언어와 대동소이하지만, 그럼에도 불구 Python이 빠르게 영토를 확장할 수 있는 비결은 'Python다움(Pythonic)'에 있습니다.\n",
        "\n",
        "* **Python은 간결하고 통일된 문법을 추구합니다.**\n",
        "\n",
        "    다른 프로그래밍 언어와 달리 Python은 '아름다운 단 하나의 해답'을 지향합니다. 따라서 Python의 '간결한 모양'의 코드를 작성하도록 엄격한 문법을 규정하고 있습니다.\n",
        "    \n",
        "    예를 들어 Python에서는 코드 블록을 정의할 때 중괄호(`{}`) 등의 구분기호를 사용하지 않고 들여쓰기(indentation)를 사용하며, 그 크기도 통일되게 작성하도록 규정합니다.\n",
        "    \n",
        "* **호환성과 수 많은 패키지에 힘입어 '거의 모든 것'을 구현할 수 있습니다.**\n",
        "\n",
        "    Python의 별명은 'glue language'입니다. 높은 호환성으로 인해 붙은 별명으로, Python은 C, C++, JAVA 등의 언어로 작성된 다른 코드와 유기적으로 결합해 작업할 수 있습니다.\n",
        "    \n",
        "    또한 급속도로 팽창하는 커뮤니티에 매일 새로운 패키지가 축적되고 있으며, 타 언어의 유명 패키지는 대부분 Python으로 재구현이 완료되어 비슷한 결과물을 사용할 수 있습니다.\n",
        "\n",
        "이런 'Python다움'에 힘입어 Python은 데이터 사이언스 분야에서도 점유율을 꾸준히 높혀가고 있으며, 그 경향성은 앞으로 더욱 가속화될 것으로 예상됩니다."
      ]
    },
    {
      "cell_type": "markdown",
      "metadata": {
        "id": "LLtZCkrIfrRX",
        "colab_type": "text"
      },
      "source": [
        "#### Python 문법의 기본 규칙들"
      ]
    },
    {
      "cell_type": "markdown",
      "metadata": {
        "id": "xLbIYnifjZWR",
        "colab_type": "text"
      },
      "source": [
        "Python의 또 다른 별명은 '실행 가능한 의사코드(executable pseudocode)'입니다. 그 만큼 구현 결과물이 (상대적으로) 자연 언어에 가깝게 작성되기 때문입니다.\n",
        "\n",
        "이를 위해 Python에는 규정된 문법과 관습들이 있습니다. 여기서는 코드 독해와 작성에 필요한 몇 가지를 소개하도록 하겠습니다."
      ]
    },
    {
      "cell_type": "markdown",
      "metadata": {
        "id": "zd6vu-7_muN9",
        "colab_type": "text"
      },
      "source": [
        "* **white spacing - 들여쓰기(indentation)와 줄바꿈(end-of-line rule)**\n",
        "\n",
        "    들여쓰기와 줄바꿈은 Python 문법 규칙 중에서 가장 특이한 규칙입니다.\n",
        "    \n",
        "    들여쓰기는 포함 관계의 코드 블록을 만드는 규칙으로, 대부분의 프로그래밍 언어에서 사용하는 중괄호(curly braces, `{}`)를 대체하는 문법입니다. 들여쓰기는 복잡한 포함 관계의 코드를 작성해야할 경우에도 코드의 모양을 깔끔하게 유지해주고 코드 블럭의 구조를 명료하게 보이게 하는 장점이 있습니다.\n",
        "    \n",
        "    줄바꿈은 실행할 코드를 구문(statement)을 구분하는 규칙으로, 다른 프로그래밍 언어의 세미콜론(`;`)을 대체합니다. 줄바꿈 규칙 역시 코드를 더 읽기 쉽게 만들어주는 장점이 있습니다.\n",
        "    \n",
        "    Python 커뮤니티에서는 들여쓰기를 4개의 spacebar를 사용할 것을 권합니다. 다른 갯수의 spacebar나 Tab키를 사용해도 대부분 코드 실행이 가능하지만, 간혹 발생할 `Indentation Error`를 방지하기 위해 spacebar 4개를 사용하는 것이 바람직할 것입니다."
      ]
    },
    {
      "cell_type": "code",
      "metadata": {
        "id": "r57rfyvzIP-g",
        "colab_type": "code",
        "colab": {}
      },
      "source": [
        "# for문을 활용하여 들여쓰기, 줄바꿈 규칙을 알아봅니다.\n",
        "# 2 개 for문의 포함 관계를 표현하기 위해 spacebar 4개 들여쓰기를 사용하였습니다. (6,8째 줄)\n",
        "# print문들의 실행 단위를 구분하기 위해 줄바꿈을 사용하였습니다. (6,8,9,10번째 줄)\n",
        "\n",
        "for i in [1,2,3,4,5]:\n",
        "    print(i)\n",
        "    for j in [1,2,3,4,5]:\n",
        "        print(j)\n",
        "        print(i+j)\n",
        "    print(i)\n",
        "print(\"done looping\")"
      ],
      "execution_count": 0,
      "outputs": []
    },
    {
      "cell_type": "code",
      "metadata": {
        "id": "5wldd_nRLYBS",
        "colab_type": "code",
        "colab": {}
      },
      "source": [
        "# 들여쓰기와 줄바꿈은 괄호 종류 (), {}, [] 내에서는 효력이 없습니다.\n",
        "# 이 규칙을 활용하면 좀 더 보기 좋은 코드를 작성할 수 있습니다.\n",
        "\n",
        "my_list = [1,2,3,4,5,6,7,8,9,10,11,12,13,14,15,16,17,18,19,20,21,22,23,24,25,26,\n",
        "          27,28,29,30]\n",
        "print(my_list)"
      ],
      "execution_count": 0,
      "outputs": []
    },
    {
      "cell_type": "markdown",
      "metadata": {
        "id": "ePFgBkZ5PTlv",
        "colab_type": "text"
      },
      "source": [
        "* **괄호들(brackets)**\n",
        "    \n",
        "    Python에서 괄호들(`()`, `{}`, `[]`)는 다음과 같은 제한적인 용도로 사용됩니다. 아래에 나오는 자료형과 기법들은 뒤에서 자세히 다루도록 하겠습니다.\n",
        "    \n",
        "    * 소괄호(parentheses) - 클래스(class), 함수(function)의 인자(argument) 정의에 사용하거나 튜플(tuple) 자료형 정의에 사용됩니다.\n",
        "    * 중괄호(curly brackets) - 딕셔너리(dictionary), 집합(set) 자료형 정의에 사용됩니다.\n",
        "    * 대괄호(square brackets) - 리스트(list) 자료형 정의에 사용되거나 인덱싱(indexing)/슬라이싱(slicing) 기법에 사용됩니다."
      ]
    },
    {
      "cell_type": "markdown",
      "metadata": {
        "id": "eN0rtq27LyUz",
        "colab_type": "text"
      },
      "source": [
        "* **점 표현법(dot syntax)**\n",
        "\n",
        "    점 표현법은 객체의 포함관계를 표현하기 위한 Python 규칙입니다.\n",
        "    \n",
        "    객체 또는 인스턴스는 각자의 속성, 메소드를 가지는데, Python에서는 이 관계를 다음과 같은 형식으로 표현합니다.\n",
        "    \n",
        "    > 객체이름.속성이름<br>\n",
        "    > 객체이름.메소드이름\n",
        "    \n",
        "    그러므로 포함관계를 가지지 않을 때 객체 이름에 마침표(`.`)를 사용하면 에러가 발생합니다.\n",
        "    \n",
        "    점 표현법은 또한 뒤에서 살펴볼 패키지(package), 모듈(module)과 그에 포함된 객체(object), 메소드(method)의 관계도 표현할 수 있으며, 여러 개의 점으로 이어붙여 사용할 수 있습니다."
      ]
    },
    {
      "cell_type": "code",
      "metadata": {
        "id": "LFpq-GTxNnoR",
        "colab_type": "code",
        "colab": {}
      },
      "source": [
        "# dot syntax가 잘못 적용된 사례를 살펴봅니다.\n",
        "\n",
        "my.name = 1"
      ],
      "execution_count": 0,
      "outputs": []
    },
    {
      "cell_type": "markdown",
      "metadata": {
        "id": "2L-XpvRGOyCI",
        "colab_type": "text"
      },
      "source": [
        "* **객체 이름 붙이기(object naming)**\n",
        "\n",
        "    dot syntax에서 살펴본 것처럼 Python은 객체의 이름을 지을 때에도 규칙이 있습니다. 규칙을 따르지 않아도 코드 실행은 가능하지만 대부분의 프로그래머들은 이 규칙을 적용하고 있습니다.\n",
        "    * 클래스(class)의 이름은 파스칼식(Pascal case)으로 표기하는 명사로 짓는 것이 관례입니다.\n",
        "    > class MyClassDefinition:\n",
        "    * 인스턴스(instance)의 이름은 스네이크식(snake case)으로 표기하는 명사로 짓는 것이 관례입니다.\n",
        "    > my_instance = MyClassDefinition\n",
        "    * 함수(function)의 이름은 스네이크식(snake case)으로 표기하는 동사로 짓는 것이 관례입니다.\n",
        "    > def add_scalar():"
      ]
    },
    {
      "cell_type": "markdown",
      "metadata": {
        "id": "2DrLqGNsu7Ug",
        "colab_type": "text"
      },
      "source": [
        "* **언더스코어(underscore, '`_`')**\n",
        "\n",
        "    Python에서 언더스코어는 특수한 기능들을 가지고 있습니다. 대표적인 기능들만 소개하도록 하겠습니다.\n",
        "    \n",
        "    * '`_`' 자체를 변수로 사용할 수 있으며, 저장기능이 없거나 무시할 수 있는 변수를 지정하려 할 때 사용합니다.\n",
        "    > _ = forget_about_it()\n",
        "    * 한 개의 언더스코어 '`_`'로 시작하는 이름은 OOP의 캡슐화(encapsulation)을 구현할 때 사용합니다. 이 경우는 private한 것으로 취급됩니다.\n",
        "    > _one_underscore = i_am_private()\n",
        "    * 두 개의 언더스코어 '`__`'로 둘러쌓인 이름은 특수 메소드(special method)라 불리며, 클래스의 초기화, 반복연산 등의 특수 기능이 저장되어 있습니다. 대표적으로는 `__init__(self)` 특수 메소드가 있으며, 뒤에서 자세히 다루도록 하겠습니다.\n",
        "    > `__init__(self):`<br>\n",
        "    >     self.introduction = \"I love myself\""
      ]
    },
    {
      "cell_type": "markdown",
      "metadata": {
        "id": "ny1Ie7zalzdz",
        "colab_type": "text"
      },
      "source": [
        "* **주석(annotation)과 독스트링(docstring)**\n",
        "    \n",
        "    좋은 코더를 구별하는 방법은 주석을 쓰는 습관을 관찰하는 것이라 합니다. Python에서도 주석 사용은 매우 중요하며, 기입하려는 내용을 샵(`#`) 기호 뒤에 입력하면 주석을 삽입할 수 있습니다.\n",
        "    \n",
        "    다만 커뮤니티에서는 주석은 가급적 별도의 줄로 삽입하고, 코드 뒤에 덧붙이지 말 것을 권고하고 있습니다.\n",
        "    \n",
        "    또한 Python에는 독스트링(docstring)이라는 독특한 주석 표현이 있습니다. 독스트링은 클래스와 함수의 상세한 사용법을 기입해 속성으로 저장한 것이며, 세 개의 큰 따옴표(`\"\"\"`) 사이에 내용을 적어 저장합니다. 그 속성의 이름은 특수 메소드 `__doc__`으로 지정됩니다."
      ]
    },
    {
      "cell_type": "code",
      "metadata": {
        "id": "vGuHvojKniEy",
        "colab_type": "code",
        "outputId": "510838e7-2533-4ded-95a2-552784a5585f",
        "colab": {
          "base_uri": "https://localhost:8080/",
          "height": 140
        }
      },
      "source": [
        "def add_numbers(a,b):\n",
        "    \"\"\"\n",
        "    This function returns addition of two numbers.\n",
        "    This docstring is for testing.\n",
        "    \n",
        "    args:\n",
        "      a,b : numbers to add-up\n",
        "    \"\"\"\n",
        "    out = a + b\n",
        "    return out\n",
        "\n",
        "# 'add_numbers' 함수의 '__doc__' 속성 내용을 출력해봅니다.\n",
        "# 'print'함수 안의 함수-속성 관계가 점 표현법(dot syntax)로 이어진 점을 눈여겨 보아주세요.\n",
        "# x.__doc__ → 객체(함수)이름.속성이름\n",
        "x = add_numbers\n",
        "print(x.__doc__)"
      ],
      "execution_count": 0,
      "outputs": [
        {
          "output_type": "stream",
          "text": [
            "\n",
            "    This function returns addition of two numbers.\n",
            "    This docstring is for testing.\n",
            "    \n",
            "    args:\n",
            "      a,b : numbers to add-up\n",
            "    \n"
          ],
          "name": "stdout"
        }
      ]
    },
    {
      "cell_type": "markdown",
      "metadata": {
        "id": "R3frjoWfhnom",
        "colab_type": "text"
      },
      "source": [
        "### 2.3 Python의 객체 - 기본형"
      ]
    },
    {
      "cell_type": "markdown",
      "metadata": {
        "id": "h-VrsW1vgF_c",
        "colab_type": "text"
      },
      "source": [
        "#### 클래스와 인스턴스(1): Python의 객체들"
      ]
    },
    {
      "cell_type": "markdown",
      "metadata": {
        "id": "9ev3OxQf7k2Y",
        "colab_type": "text"
      },
      "source": [
        "* **Python의 객체 구분하기 -내/외장 기준**\n",
        "\n",
        "    * **내장형 객체** - Python을 설치하면 기본적으로 내장된 객체들로, 기본 자료형(숫자, 문자, 리스트 등)과 내장 함수(`print()`, `help()` 등)를 포함합니다.\n",
        "    * **외장형 객체** - Python 커뮤니티에 다른 사용자들이 등록한 패키지 및 모듈에 포함된 객체들로, `Numpy` 패키지의 array 객체, `Tensorflow` 패키지의 dense layer 객체 등을 예로 들 수 있습니다.\n",
        "    * **사용자 정의 객체** - Python 사용자가 필요에 의해 정의하는 객체로, `class`문과 `def`문을 사용해 만들 수 있습니다. <u>이 때 필요한 속성과 메소드는 내장형, 외장형, 사용자 정의 객체를 모두 포함</u>할 수 있습니다."
      ]
    },
    {
      "cell_type": "markdown",
      "metadata": {
        "id": "rJop9KLlAPEM",
        "colab_type": "text"
      },
      "source": [
        "* **Python의 객체 구분하기 - 타입(type) 기준**\n",
        "\n",
        "    * **자료형(data type)** - 프로그래밍에 사용할 데이터를 저장/가공하기 위한 객체들로, 일변량 자료형(숫자, 부울 변수 등)과 다변량 자료형(리스트, 튜플, 어레이, 딕셔너리 등)으로 구분할 수 있습니다.\n",
        "\n",
        "    다변량 자료형 객체는 그 안에 포함된 메소드를 자주 사용하게 됩니다. 특히 <u>리스트형(list type) 객체 메소드 문법은 데이터 사이언스를 구현할 때 매우 유용</u>합니다.\n",
        "\n",
        "    * **함수형(function type)** - 프로그래밍에 사용할 기능성(functionality)을 표현하는 객체로, 입력 객체/출력 객체 사이의 관계를 정의하는 객체입니다. 사전에 Python 내부에 정의된 내장함수와 `def`문을 사용해 만드는 사용자 정의 함수가 있습니다.\n",
        "    \n",
        "    함수형 객체는 그 자체로도 사용할 수 있고, 사용자 정의 객체(클래스 및 함수)의 메소드로 활용할 수도 있습니다."
      ]
    },
    {
      "cell_type": "markdown",
      "metadata": {
        "id": "Ag_X6hZtszrT",
        "colab_type": "text"
      },
      "source": [
        "* **객체의 정보를 확인하는 유용한 내장 함수들**\n",
        "\n",
        "    * **`type(객체명)`** - 객체의 type 정보를 출력합니다.\n",
        "    * **`dir(객체명)`** - 객체가 가진 속성과 메소드 목록을 출력합니다.\n",
        "    * **`help(객체명)`** - 객체가 가진 전반적인 정보, 특히 메소드에 대한 자세한 정보를 출력합니다."
      ]
    },
    {
      "cell_type": "code",
      "metadata": {
        "id": "RYx9YKmJtaAW",
        "colab_type": "code",
        "colab": {}
      },
      "source": [
        "# 객체 정보를 출력하는 내장 함수 예제입니다.\n",
        "# 리스트형(list type) 자료형을 예시로 사용하겠습니다.\n",
        "# type() 함수 예제입니다.\n",
        "type([1,2,3,4,5])"
      ],
      "execution_count": 0,
      "outputs": []
    },
    {
      "cell_type": "code",
      "metadata": {
        "id": "SZ2fSNgEuVjb",
        "colab_type": "code",
        "colab": {}
      },
      "source": [
        "# dir() 함수 예제입니다.\n",
        "# 특수 메소드를 제외한 리스트형의 메소드들을 확인할 수 있습니다.\n",
        "dir([1,2,3,4,5])"
      ],
      "execution_count": 0,
      "outputs": []
    },
    {
      "cell_type": "code",
      "metadata": {
        "id": "1Y6zy517uVzd",
        "colab_type": "code",
        "colab": {}
      },
      "source": [
        "# help() 함수 예제입니다.\n",
        "# 리스트형의 특징과 속성, 메소드 사용 방법이 자세하게 출력됩니다.\n",
        "help([1,2,3,4,5])"
      ],
      "execution_count": 0,
      "outputs": []
    },
    {
      "cell_type": "markdown",
      "metadata": {
        "id": "_3xQhxZ1gUH1",
        "colab_type": "text"
      },
      "source": [
        "#### 클래스와 인스턴스(2): 변수(variable)와 할당(assignment)"
      ]
    },
    {
      "cell_type": "markdown",
      "metadata": {
        "id": "KdWje3e7zF-6",
        "colab_type": "text"
      },
      "source": [
        "Python에서는 객체를 직접 다루기 보다는 변수(variable)를 사용해 프로그램을 작성합니다.\n",
        "\n",
        "* Python의 변수는 C언어의 포인터(pointer)와 같습니다. 즉 실제 객체가 저장된 주소가 기록된 공간이 변수입니다.\n",
        "* 변수는 이름과 객체사이를 할당 연산자(assignment opterator)인 `=`로 이어 지정합니다.\n",
        "> variable_name = target_object\n",
        "    \n",
        "    변수 이름은 원하는 대로 자유롭게 지정할 수 있고, 위에서 설명한 이름 규칙을 따라 짓는 것이 관례입니다.\n",
        "\n",
        "* 변수는 함수나 명령어, 그리고 또 다른 할당 연산자로 변경할 수 있습니다. 이 때 할당된 객체도 함께 변경되며 새로운 주소가 할당되어 변수에 재저장됩니다."
      ]
    },
    {
      "cell_type": "code",
      "metadata": {
        "id": "I7CnroMM9MZb",
        "colab_type": "code",
        "colab": {}
      },
      "source": [
        "# 클래스와 인스턴스, 그리고 변수의 관계를 알아보는 예제입니다.\n",
        "# 내장형 함수 `sum`은 클래스입니다.\n",
        "sum"
      ],
      "execution_count": 0,
      "outputs": []
    },
    {
      "cell_type": "code",
      "metadata": {
        "id": "5qXK6izgJa2I",
        "colab_type": "code",
        "colab": {}
      },
      "source": [
        "# 내장형 함수 `sum`에 [1,2,3]을 대입한 것은 인스턴스입니다.\n",
        "sum([1,2,3])"
      ],
      "execution_count": 0,
      "outputs": []
    },
    {
      "cell_type": "code",
      "metadata": {
        "id": "ektQCsh8Jz94",
        "colab_type": "code",
        "colab": {}
      },
      "source": [
        "# x, y는 인스턴스 `sum([1,2,3])`을 할당받은 변수들이며, 서로 같은 주소를 공유합니다.\n",
        "# id() 함수는 객체가 저장된 주소를 출력하는 함수입니다.\n",
        "x = sum([1,2,3])\n",
        "y = sum([1,2,3])\n",
        "print(id(x))\n",
        "print(id(y))\n",
        "print(id(sum([1,2,3])))"
      ],
      "execution_count": 0,
      "outputs": []
    },
    {
      "cell_type": "markdown",
      "metadata": {
        "id": "E7iG9flqgu91",
        "colab_type": "text"
      },
      "source": [
        "#### 속성: Python의 자료형(data type)"
      ]
    },
    {
      "cell_type": "markdown",
      "metadata": {
        "id": "KskMNEOrRd9W",
        "colab_type": "text"
      },
      "source": [
        "Python은 데이터를 저장, 가공하기 위해 다양한 자료형(data type)을 제공하고 있습니다. 이런 자료형은 내장 함수와 클래스의 인스턴스를 만들기 위해서도 사용되고, 동시에 뒤에서 알아볼 사용자 지정 클래스의 속성(attribute)을 정의하기 위해서도 사용됩니다. 이 챕터의 제목을 '속성'으로 시작하는 것도 이런 이유 때문입니다.\n",
        "\n",
        "여기서는 Python의 주요 내장 자료형과, 이에 포함된 주요 속성/메소드를 간단히 살펴보도록 하겠습니다."
      ]
    },
    {
      "cell_type": "markdown",
      "metadata": {
        "id": "3jDSCayGewDY",
        "colab_type": "text"
      },
      "source": [
        "* **일변량 자료형(simple data type)**\n",
        "\n",
        "    Python의 일변량 자료형은 R의 일변량 자료형과 대부분 비슷하나, 부울형 값 표현과 `None`형은 차이가 있습니다.\n",
        "\n",
        "    * **숫자형(numbers)** - 크게 정수형(integer), 실수형(float), 복소수형(complex)으로 구분할 수 있습니다.\n",
        "    > 정수형 변수 : `x = 1`<br>\n",
        "    > 실수형 변수 : `x = 1.0`<br>\n",
        "    > 복소수형 변수 : `x = 1 + 2j` (복소수부는 `j` 또는 `J`를 뒤에 기입합니다.)\n",
        "    * **문자형(string)** - `' '` 또는 `\" \"` 사이에 기입된 값은 문자 자료형으로 저장됩니다.\n",
        "    > 문자형 변수 : `x = \"this is string.\"`\n",
        "    * **불리언(Boolean)** - `True` 또는 `False` 값을 가집니다.\n",
        "    > 불리언 변수 : `x = True` (첫 글자만 대문자로 표기합니다.)\n",
        "    * **`None`(`None` type)** - 일변량 자료형이 아무 값도 가지지 않을 경우(null) Python은 `None`값을 저장합니다.\n",
        "    > `None` 변수 : `x = None` (아무 값도 존재하지 않는 null 상태를 표현합니다.)"
      ]
    },
    {
      "cell_type": "markdown",
      "metadata": {
        "id": "6cPPjzLIhLnL",
        "colab_type": "text"
      },
      "source": [
        "* **다변량 자료형(compound data type)**\n",
        "    \n",
        "    Python은 여러 개의 값을 저장/가공하기 위한 다양한 다변량 자료형을 제공하고 있습니다. 다변량 자료형을 다루는 것은 Python을 활용하는 데이터 사이언스의 핵심입니다.특히 리스트형과 딕셔너리형은 그 활용도가 매우 높습니다.\n",
        "    * **리스트형(list)** - 순서가 있는(ordered) 가변(mutable) 자료형입니다.즉 리스트 안의 값들은 순서가 있으며 사용자가 변경할 수 있습니다.\n",
        "    > 리스트형 변수 : `x = [1,2,3]` (대괄호로 정의)\n",
        "    * **튜플형(tuple)** - 순서가 있는(ordered) 불변(immutable) 자료형입니다. 한 번 인스턴스를 지정하면 사용자가 그 값을 바꿀 수 없습니다.\n",
        "    > 튜플형 변수 : `x = (1,2,3)` 또는 `x = 1,2,3` (소괄호 또는 콤마로 정의)\n",
        "    * **딕셔너리형(dictionary)** - 키(key)와 값(value)의 매핑을 저장하는 자료형입니다. 키는 중복된 값이 없도록 유지됩니다.\n",
        "    > 딕셔너리형 변수 : `x = {'a' : 1, 'b' : 2, 'c' : 3}` (키 : 값 쌍을 중괄호로 정의)\n",
        "    * **집합형(set)** - 순서가 없는(unordered) 가변(mutable) 자료형입니다. 중복된 값이 없도록 유지됩니다.\n",
        "    > 집합형 변수 : `x = {1,2,3}` (중괄호로 정의)\n",
        "\n"
      ]
    },
    {
      "cell_type": "markdown",
      "metadata": {
        "id": "sSmzMf9VqzRE",
        "colab_type": "text"
      },
      "source": [
        "* **자료형의 속성과 메소드**\n",
        "\n",
        "    Python의 자료형은 객체이기 때문에 그 자체로 속성과 메소드가 있으며, 특히 다변량 자료형은 두 가지를 적절히 사용하는 것이 중요합니다.\n",
        "    * 리스트형 변수 - `append()` (새 요소 추가), `extend()` (새 요소들 추가) 등\n",
        "    * 딕셔너리형 변수 - `keys()` (키들을 인스턴스로 출력), `values()` (값들을 인스턴스로 출력) 등\n",
        "    * 집합형 변수 - `union()` (합집합 인스턴스 출력), `intersection()` (교집합 인스턴스 출력) 등"
      ]
    },
    {
      "cell_type": "markdown",
      "metadata": {
        "id": "nOiHfsbBhJh8",
        "colab_type": "text"
      },
      "source": [
        "#### 메소드(1): 연산자(operator)와 흐름 제어(control flow), 그리고 예외 처리(exception)"
      ]
    },
    {
      "cell_type": "markdown",
      "metadata": {
        "id": "zPvlm6C5ElK8",
        "colab_type": "text"
      },
      "source": [
        "함수가 프로그래밍의 꽃이라 불리듯 객체 지향 프로그래밍의 메소드(method) 역시 핵심적인 요소입니다.\n",
        "\n",
        "메소드는 입력과 출력의 관계를 정의하고, 객체의 기능성을 부여합니다. 특히 연산과 제어, 예외 처리는 함수와 메소드를 구성하는 필수 요소입니다. 여기서는 Python의 연산자(operator)와 흐름 제어(control flow)방법, 그리고 예외 처리(exception) 방법에 대해 간략히 살펴보도록 하겠습니다."
      ]
    },
    {
      "cell_type": "markdown",
      "metadata": {
        "id": "bujWOMLGFQWV",
        "colab_type": "text"
      },
      "source": [
        "* **연산자(operator)**\n",
        "\n",
        "    * **산술 연산자(arithmetic operator)**\n",
        "\n",
        "    산술 연산자의 쓰임새는 매우 직관적이며, 일부 기능은 문자형, 리스트형 등 다른 객체들에도 적용할 수 있습니다.\n",
        "    > `a + b` (addition, 두 객체의 합)<br>\n",
        "    > `a - b` (subtraction, 두 객체의 차)<br>\n",
        "    > `a * b` (multiplication, 두 객체의 곱)<br>\n",
        "    > `a / b` (true division, 두 객체의 나눗셈)<br>\n",
        "    > `a // b` (floor division, 몫 연산)<br>\n",
        "    > `a % b` (modulus, 나머지 연산)<br>\n",
        "    > `a ** b` (exponentiation, 거듭제곱 연산)<br>\n",
        "    > `-a` (negation, 부호 변환)\n",
        "    \n",
        "    * **비트 연산자(bitwise operator)**\n",
        "\n",
        "    비트 연산자는 이진수로 표현된 객체들에 대한 연산을 수행합니다. 일부 표현이 다른 프로그래밍 언어에서의 쓰임새와 다름에 신경써야합니다. (`&`, `^` 등)\n",
        "    > `a & b` (bitwise AND)<br>\n",
        "    > `a | b` (bitwise OR)<br>\n",
        "    > `a ^ b` (bitwise XOR)<br>\n",
        "    > `a << b` (bit shift left)<br>\n",
        "    > `a >> b` (bit shift right)<br>\n",
        "    > `~a` (bitwise NOT)\n",
        "    \n",
        "    * **할당 연산자(assignment operator)**\n",
        "    \n",
        "    할당 연산자는 변수 할당과 동시에 산술 연산, 또는 비트 연산을 수행하는 연산자입니다. 연산자 `=` 앞에 산술 연산자와 비트 연산자를 덧붙여 사용하면 됩니다.\n",
        "    > 예시) 이 두 연산자는 같은 기능을 가지고 있습니다<br>\n",
        "    > `a += 2`<br>\n",
        "    > `a = a + 2`\n",
        "\n",
        "    * **비교 연산자(comparison operator)**\n",
        "\n",
        "    비교 연산자는 두 객체의 '값(value)'을 비교하여 불리언(`True` 또는 `False`)을 출력합니다.\n",
        "    > `a == b` (`a`와 `b`의 값이 같은지 확인)<br>\n",
        "    > `a != b` (`a`와 `b`의 값이 같지 않은지 확인)<br>\n",
        "    > `a < b` (`a`값이 `b`값보다 작은지 확인)<br>\n",
        "    > `a > b` (`a`값이 `b`값보다 큰지 확인)<br>\n",
        "    > `a <= b` (`a`값이 `b`값보다 이상인지 확인)<br>\n",
        "    > `a >= b` (`a`값이 `b`값보다 이하인지 확인)<br>\n",
        "\n",
        "    * **불리언 연산자(Boolean operator)**\n",
        "    \n",
        "    불리언 연산자는 두 불리언 값을 비교하여 또 다른 불리언을 출력하는 논리 연산자입니다.\n",
        "    > `a and b` (`a`와 `b`가 모두 `True`인지 확인)<br>\n",
        "    > `a or b` (`a`와 `b` 둘 중에 하나가 `True`인지 확인)<br>\n",
        "    > `not a` (`a`가 `False`인지 확인)\n",
        "\n",
        "    * **동일 객체 확인(identity) 및 포함 관계 확인(membership) 연산자**\n",
        "\n",
        "    두 객체가 동일한 객체인지 확인하는 identity 연산자는 불리언 값을 출력합니다.\n",
        "    > `a is b` (`a` 객체가 `b` 객체와 같은지 확인)<br>\n",
        "    > `a is not b` (`a` 객체가 `b` 객체와 같지 않은지 확인)\n",
        "    \n",
        "    또한 다변량 자료형 객체에 특정 값이 포함되는지 확인하는 membership 연산자 역시 불리언 값을 출력합니다.\n",
        "    > `a in b` (`a`가 `b`에 포함되는지 확인)<br>\n",
        "    > `a not in b` (`a`가 `b`에 포함되지 않는지 확인)\n",
        "\n",
        "    * **연산자 중첩과 상위 관계(precedence)**\n",
        "\n",
        "    Python에서도 여러 개의 연산자를 한 구문에서 사용할 수 있습니다. 그 연산의 우선순위는 상위 관계(precedence)로 지정되어 있습니다.\n",
        "    > 예시: `a > b or c < d and e > f`\n"
      ]
    },
    {
      "cell_type": "markdown",
      "metadata": {
        "id": "QaXK54tzcTN6",
        "colab_type": "text"
      },
      "source": [
        "* **흐름 제어(control flow)**\n",
        "\n",
        "    흐름 제어는 코드 블록의 실행 조건(condition)과 루프(loop)를 구현하는 것을 의미합니다. Python의 흐름 제어 명령문 다른 언어와 비슷하지만, 좀 더 직관적인 표현을 사용합니다.\n",
        "\n",
        "    * **조건문(conditional statement) - `if`, `elif`, `else`**\n",
        "    \n",
        "    조건문은 불리언(Boolean) 값을 입력으로 받고, 불리언이 `True`일 때 조건문에 속하는(포함되는) 코드 블록을 실행합니다. 이 때 포함관계는 앞서 언급한 들여쓰기(indentation)로 구분합니다.\n",
        "\n",
        "    조건문 명령어는 크게 `if`, `elif`, `else`로 나뉩니다. 조건 명령어를 사용하기 위해서는 `True` 또는 `False`를 출력하는 코드를 명령어 뒤에 적은 뒤, 콜론(`:`)으로 줄바꿈 후 들여쓰기로 실행할 코드 블록을 작성합니다.\n",
        "\n",
        "    `elif`문은 Python에서 사용하는 명령어로 다른 언어의 `else if`를 대체합니다.\n",
        "\n",
        "    `else`문은 이전에 판정한 불리언이 모두 `False`일 경우 실행할 코드 블럭을 감싸 사용합니다. Python에서의 `else`문은 루프에서도 사용할 수 있는데, 뒤에서 다룰 `break`문과 반대의 역할을 합니다.\n",
        "\n",
        "    * **루프(loop) - `for ... in ...`**\n",
        "\n",
        "    소위 `for`문 루프는 대부분의 프로그래밍 언어에서 루프를 구현하는 표준입니다. 이는 Python에서도 마찬가지로 `while`문 루프에 비해 자주 사용됩니다.\n",
        "\n",
        "    Python의 `for`문은 변수명과 이터레이터(iterator)라는 객체를 `in`문으로 연결해 사용합니다. 이터레이터는 루프가 가능한 Python의 모든 객체를 의미하며, 대표적으로는 레인지(range)와 리스트(list)가 있습니다.\n",
        "\n",
        "    * **루프(loop) - `while ...`**\n",
        "\n",
        "    `while`문 루프는 특정 조건이 참일 때, 즉 입력된 불리언이 `False`일 때까지 코드 블록을 실행하는 루프입니다. 소위 무한 루프를 구현할 수 있으며, 이를 방지하기 위해 대개 제어문과 함께 사용합니다.\n",
        "\n",
        "    * **루프 제어(loop control) - `break`, `continue`, `else`**\n",
        "\n",
        "    루프를 실행 중에 중단시키거나 코드 블럭을 끝까지 실행 하지 않도록 하는 등의 세부 조정이 필요할 경우 루프 제어문을 사용합니다. 루프 제어는 `if` 등의 조건문과 함께 사용하면 표현이 풍부해집니다.\n",
        "\n",
        "    `break`문은 루프로부터 즉시 빠져나오는 명령어입니다. 더 이상 루프가 실행되지 않습니다.\n",
        "\n",
        "    `continue`문은 루프의 코드 블록을 끝까지 실행하지 않고 다음 이터레이션(iteration)을 시작합니다. 루프 자체는 계속 실행됩니다.\n",
        "\n",
        "    `else`문은 루프에서도 사용할 수 있습니다. `else`에 정의된 코드 블록은 `break`가 발생하지 않고 루프가 끝까지 실행된 뒤에 종료되면 이어서 실행되며, `break`가 발생했다면 실행되지 않습니다.\n"
      ]
    },
    {
      "cell_type": "code",
      "metadata": {
        "id": "-jHMP58PmCVA",
        "colab_type": "code",
        "colab": {}
      },
      "source": [
        "# 조건문을 작성하는 예제입니다.\n",
        "# 조건문은 불리언을 출력하는 문장이 필요하며, 콜론과 들여쓰기로 포함관계를 표현합니다.\n",
        "\n",
        "x = 10\n",
        "\n",
        "if x > 20:\n",
        "    print(\"x is greater than 20\")\n",
        "    print(\"x is a large number\")\n",
        "elif x > 10:\n",
        "    print(\"x is greater than 10\")\n",
        "    print(\"x is a not large number\")\n",
        "else:\n",
        "    print(\"x is less than or equal to 10\")\n",
        "    print(\"x is a small number\")"
      ],
      "execution_count": 0,
      "outputs": []
    },
    {
      "cell_type": "code",
      "metadata": {
        "id": "a1JF1Q6KHKHL",
        "colab_type": "code",
        "colab": {}
      },
      "source": [
        "# '에라토스테네스의 체'를 루프와 루프 제어로 구현한 예제입니다.\n",
        "# 리스트와 리스트의 `append` 메소드, 그리고 `range`함수를 활용해 루프를 작성합니다.\n",
        "\n",
        "# `[]`로 빈 리스트 인스턴스를 변수 `L`에 할당합니다.\n",
        "L = []\n",
        "nmax = 30\n",
        "\n",
        "# `else`문의 들여쓰기 위치를 눈여겨보세요!\n",
        "for n in range(2,nmax):\n",
        "    for factor in L:\n",
        "        if n % factor == 0:\n",
        "            break\n",
        "    else:\n",
        "        L.append(n)\n",
        "\n",
        "print(L)"
      ],
      "execution_count": 0,
      "outputs": []
    },
    {
      "cell_type": "markdown",
      "metadata": {
        "id": "UJMVhz3sI8gO",
        "colab_type": "text"
      },
      "source": [
        "* **예외 처리(exception)**\n",
        "\n",
        "    좋은 프로그램의 조건 중 하나는 에러를 예측할 수 있다는 점일 것입니다. 실행 중 에러가 발생했을 때 그 종류와 발생 위치가 알려지는 것은 디버깅(debugging)을 위해 아주 중요하고, Python의 에러 핸들링 기능은 상당히 강력하다고 합니다.\n",
        "\n",
        "    이런 기능을 합쳐 예외 처리(exception control)라 합니다. Python의 예외 처리 기능은 매우 방대하지만, 여기서는 필요한 내용만 짚고 넘어가겠습니다.\n",
        "\n",
        "    * **에러의 종류 - `Syntax`, `Runtime`, `Semantic`**\n",
        "\n",
        "    `SyntaxError`는 코드를 실행할 때 가장 많이 보게 되지만 가장 쉽게 해결할 수 있는 에러입니다. Python이 지정한 문법 구문이 아닌 경우 발생하며, 들여쓰기나 괄호 위치등이 잘못된 경우가 있습니다.\n",
        "\n",
        "    `RuntimeError`는 문법적으로는 이상이 없지만 잘못된 입력 등이 발생한 경우 나타납니다. 없는 변수 이름을 참조하거나(`NameError`) 연산 불가능한 객체를 연산하거나 (`TypeError`) 산술적으로 불가능한 연산인 경우 (`ZeroDivisionError`)등이 여기에 해당합니다. \n",
        "\n",
        "    `SemanticError`는 결과가 정상적으로 나오지만 기대하던 값이 아닌 경우를 의미합니다. 디버깅이 가장 힘든 경우입니다.\n",
        "\n",
        "    * **예외 처리 - `try`, `except`, `else`, `finally`**\n",
        "\n",
        "    `try`문은 에러가 발생한 경우 코드 블럭 실행을 중단하고 `except`문으로 넘어가도록 하는 연산자입니다. 에러가 발생하지 않으면 `try`문의 코드 블럭만 실행됩니다.\n",
        "\n",
        "    `except`문은 `try`문의 코드 블럭에서 에러가 발생한 경우 실행할 코드 블럭을 정의합니다. 이 때 코드를 실행시킬 에러의 종류를 지정할 수 있으며, 이에 해당하지 않는 에러는 그대로 출력되고 프로그램 실행이 중단됩니다.\n",
        "\n",
        "    `else`문은 예외 처리에서도 사용할 수 있습니다. 루프 제어에서와 마찬가지로 `try`문에서 에러가 나오지 않아 실행이 중단되지 않았을 경우 실행할 코드 블럭을 정의합니다.\n",
        "\n",
        "    `finally`문은 에러 발생 여부와 상관없이 실행할 코드 블럭을 정의할 수 있으나, 활용도가 높지는 않습니다.\n",
        "\n",
        "    * **에러 발생시키기 - `raise`**\n",
        "\n",
        "    `raise`문은 함수나 클래스를 사용자가 정의할 때 의도하지 않은 입력에 대해 에러를 출력하도록 지정할 수 있습니다. 이 때 출력할 메시지도 함께 입력하여 디버깅을 도울 수 있습니다.\n",
        "\n",
        "    * **자동 에러 검사 - `assert`**\n",
        "\n",
        "    `assert`문은 불리언 값으로 에러 여부를 자동으로 검사합니다. 만약 `assert`문이 `False`값을 받으면 `AssertionError`가 발생합니다.\n"
      ]
    },
    {
      "cell_type": "code",
      "metadata": {
        "id": "dCeUnww4RVxG",
        "colab_type": "code",
        "colab": {}
      },
      "source": [
        "# 예외 처리 과정을 순서대로 나타낸 예시입니다.\n",
        "\n",
        "try:\n",
        "    print(\"try something here\")\n",
        "except:\n",
        "    print(\"this happens only if it fails\")\n",
        "else:\n",
        "    print(\"this happens only if it succeeds\")\n",
        "finally:\n",
        "    print(\"this happens no matter what\")"
      ],
      "execution_count": 0,
      "outputs": []
    },
    {
      "cell_type": "code",
      "metadata": {
        "id": "VTDSWBQURwMC",
        "colab_type": "code",
        "colab": {}
      },
      "source": [
        "# `raise`문을 사용해 에러를 발생시킨 경우 예외 처리 과정입니다.\n",
        "\n",
        "try:\n",
        "    print(\"try something here\")\n",
        "    raise RuntimeError\n",
        "    print(\"something bad not happened\")\n",
        "except:\n",
        "    print(\"this happens only if it fails\")\n",
        "else:\n",
        "    print(\"this happens only if it succeeds\")\n",
        "finally:\n",
        "    print(\"this happens no matter what\")"
      ],
      "execution_count": 0,
      "outputs": []
    },
    {
      "cell_type": "code",
      "metadata": {
        "id": "W3RleSq3dJsI",
        "colab_type": "code",
        "colab": {}
      },
      "source": [
        "# `assert`문 사용 예제입니다.\n",
        "\n",
        "assert 1>0, \"this is true\"\n",
        "assert 1<0, \"this is false\""
      ],
      "execution_count": 0,
      "outputs": []
    },
    {
      "cell_type": "markdown",
      "metadata": {
        "id": "AD8FKqGs6aN6",
        "colab_type": "text"
      },
      "source": [
        "#### 메소드(2): `def`문과 사용자 지정 함수"
      ]
    },
    {
      "cell_type": "markdown",
      "metadata": {
        "id": "GUMjMY9UUpTB",
        "colab_type": "text"
      },
      "source": [
        "사용자 지정 함수는 위에서 다룬 연산자, 조건과 루프, 예외 처리를 통해 다양한 자료형과 객체 간의 관계를 사용자가 직접 정의한 것입니다.\n",
        "\n",
        "Python의 사용자 지정 함수는 `def`문을 사용해 만듭니다. 또한 저장하지 않고 임시적으로 사용할 함수도 `lambda`문을 사용해 만들 수 있습니다."
      ]
    },
    {
      "cell_type": "markdown",
      "metadata": {
        "id": "swIYPZ76VQui",
        "colab_type": "text"
      },
      "source": [
        "* **`def`문**\n",
        "\n",
        "    `def`문으로 사용자 지정 함수를 만드는 문법은 다음과 같습니다. 이 때 콜론(`:`)을 반드시 써야하며, 인자(argument)는 지정하지 않아도 됩니다.\n",
        "    > `def 함수이름(인자):`\n",
        "    >     코드 블럭\n",
        "\n",
        "    * **인자(argument)**\n",
        "\n",
        "    인자(argument)는 함수를 사용할 때 사용자가 입력해야 하는 값입니다. 인자를 반드시 지정하지 않아도 되지만 빈 괄호 (`()`)는 반드시 써줘야하며, 그렇지 않으면 `SyntaxError`가 발생합니다.\n",
        "\n",
        "    사전에 인자의 기본값을 설정할 수도 있습니다. 단 이 경우에 괄호 안에서의 기본값 인자들은 기본값이 없는 인자들의 뒤에 배치되어야 합니다. 그렇지 않으면 `SyntaxError`가 발생합니다.\n",
        "\n",
        "    ※ *엄밀하게는 함수의 정의에 사용되는 변수는 파라미터(parameter), 그리고 파라미터에 전달된 실제 값을 인자(argument)라고 합니다. 하지만 많이 혼용되는 용어이고, 키워드 인자와 위치 인자가 널리 사용되기 때문에 여기서는 '인자'로 통일하여 사용하겠습니다.*\n",
        "\n",
        "    * **결과값 반환 - `return`**\n",
        "\n",
        "    `return`문은 함수에서 실행된 결과를 저장해 반환하는 명령어입니다. \n",
        "    \n",
        "    함수는 결과값을 반환하지 않는 경우도 있지만, 필요하다면 `return`문을 사용하면 됩니다. 이 때 `return`문은 단 하나의 결과만 반환하므로, 여러 개의 결과를 반환하는 함수의 경우 다변량 자료형으로 지정해야 합니다. (튜플, 리스트 등)\n",
        "\n",
        "    또한 여러 개의 `return`문을 사용하면 맨 위에 지정된 `return`문만 반환됨에 주의해야 합니다."
      ]
    },
    {
      "cell_type": "code",
      "metadata": {
        "id": "8RdhtK4-abwE",
        "colab_type": "code",
        "colab": {}
      },
      "source": [
        "# '피보나치 수열'을 사용자 정의 함수로 구현한 예제입니다.\n",
        "# `n`은 위치 인자, `a`와 `b`는 키워드 인자입니다.\n",
        "# 여기서는 다변량 자료형의 길이를 출력하는 `len` 함수가 사용되었습니다.\n",
        "\n",
        "def fibonacci(n, a=0, b=1):\n",
        "    L = []\n",
        "    while len(L) < n:\n",
        "        a, b = b, a + b\n",
        "        L.append(a)\n",
        "    return L\n",
        "\n",
        "fibonacci(10)"
      ],
      "execution_count": 0,
      "outputs": []
    },
    {
      "cell_type": "markdown",
      "metadata": {
        "id": "KmEWIeaaJ8oY",
        "colab_type": "text"
      },
      "source": [
        "* **`lambda`문**\n",
        "\n",
        "    `lambda`문은 익명 함수(anonymous function)를 만드는 구문입니다.\n",
        "    > `lambda` 인자들 : 관계식\n",
        "\n",
        "    `lambda`로 만드는 익명 함수는 표현이 간결하고, 다른 구문 사이에 즉석에서 기능성을 부여할 수 있다는 장점이 있습니다.\n",
        "\n",
        "    ※ *람다 표현식(lambda expression)은 OOP와 같은 프로그래밍 패러다임인 함수형 프로그래밍(functional programming)을 구현하는 방식 중 하나입니다.*"
      ]
    },
    {
      "cell_type": "code",
      "metadata": {
        "id": "pCV17xYAhlx4",
        "colab_type": "code",
        "colab": {}
      },
      "source": [
        "# `lambda`문을 활용해 간단한 덧셈 함수를 만들어봅니다.\n",
        "my_add = lambda a, b : a + b\n",
        "my_add(1,2)"
      ],
      "execution_count": 0,
      "outputs": []
    },
    {
      "cell_type": "markdown",
      "metadata": {
        "colab_type": "text",
        "id": "I2AQ2CvSBFSy"
      },
      "source": [
        "### 2.4 Python의 객체 - `class`문과 사용자 정의 클래스"
      ]
    },
    {
      "cell_type": "markdown",
      "metadata": {
        "id": "7WulpRtE43zE",
        "colab_type": "text"
      },
      "source": [
        "지금까지 Python이 기본적으로 제공하는 객체의 타입과, 사용자 정의 클래스의 속성, 메소드를 구성할 수 있는 요소들에 대해 알아보았습니다.\n",
        "\n",
        "이제 공부한 내용을 종합하여 Python을 활용한 객체 지향 프로그래밍을 완성하는 단계인 `class`문에 대해 알아보겠습니다."
      ]
    },
    {
      "cell_type": "markdown",
      "metadata": {
        "id": "UjDVZflo6Ewq",
        "colab_type": "text"
      },
      "source": [
        "#### `class`문과 생성자(constructor)"
      ]
    },
    {
      "cell_type": "markdown",
      "metadata": {
        "id": "iKJnGQeAW9BR",
        "colab_type": "text"
      },
      "source": [
        "* **`class`문**\n",
        "\n",
        "    `class`문의 기본적인 형식은 간단합니다.\n",
        "    > `class 클래스이름(객체):`\n",
        "    >\n",
        "    >     속성 또는 메소드\n",
        "\n",
        "    * **생성자(constructor)와 클래스 초기화**\n",
        "    \n",
        "    생성자는 클래스의 인스턴스, 즉 객체를 생성할 때 객체를 초기화하는 메소드이며, 내장 특수 메소드(special method)인 `__init__(self)`가 클래스의 생성자 역할을 합니다.\n",
        "    > `def __init__(self):` - 생성자 특수 메소드\n",
        "\n",
        "    생성자 메소드는 첫 번째 인자로 자기 자신을 받고, 그 이름은 `self`로 지정하는 것이 관례입니다. 그리고 생성자 메소드의 코드 블럭에서 초기화 된 자료형(data type)들은 객체가 가진 속성(attribute)이 됩니다.\n",
        "\n",
        "    초기화 된 속성으로 다시 메소드를 정의하기 위해서는 다음과 같은 점 표현법(dot syntax)을 사용하게 됩니다. 사용자 정의 클래스를 적극적으로 사용하는 Python 코드에서 정말 많은 부분을 차지하는 표현 방식입니다.\n",
        "    > `self.속성명`\n",
        "\n",
        "    `self` 표기법을 사용할 때 주의할 점은, 인스턴스가 생성되고 나면 `self`의 역할인 초기화가 완료되어 유효하지 않게 된다는 점입니다. 그러므로 생성한 인스턴스를 사용할 때에는 `self` 대신 인스턴스 이름(변수명)을 사용해야 합니다."
      ]
    },
    {
      "cell_type": "markdown",
      "metadata": {
        "id": "KlNZxNN1dq86",
        "colab_type": "text"
      },
      "source": [
        "* **클래스의 기능**\n",
        "\n",
        "    `class`문으로 정의한 사용자 정의 클래스는 두 가지 기능을 가집니다.\n",
        "\n",
        "    * 새 인스턴스 생성\n",
        "    * 포함된 속성, 메소드 참조"
      ]
    },
    {
      "cell_type": "markdown",
      "metadata": {
        "colab_type": "text",
        "id": "YJmAfDtbBFcl"
      },
      "source": [
        "#### 캡슐화, 상속, 다형성의 구현"
      ]
    },
    {
      "cell_type": "markdown",
      "metadata": {
        "id": "lEk3Mp0Nd1iC",
        "colab_type": "text"
      },
      "source": [
        "객체 지향 프로그래밍은 간결하고 효율적인 프로그램을 지향하며, 이를 위해 캡슐화, 상속, 다형성을 구현하는 것을 목표로 합니다.\n",
        "\n",
        "Python의 `class`문은 이 세 가지 요소를 완전히 지원하며, 이들은 Python 코드가 간결하고 확장성이 뛰어나도록 만들어주는 중요한 요소입니다.\n",
        "\n",
        "* **캡슐화(encapsulation)**\n",
        "\n",
        "    * 사용자 정의 클래스는 원하는 자료형과 함수를 하나로 묶어 캡슐화를 구현합니다.\n",
        "    * 언더스코어(`_`)를 이름에 사용하여 속성, 메소드에 대한 접근 수준(scope)을 달리할 수 있습니다.\n",
        "    > `_속성명` : private 변수로 간주한다는 의미입니다.<br>\n",
        "    > `__속성명` : 같은 이름을 사용하는 속성, 메소드의 충돌을 방지하는 안전장치입니다. <br>\n",
        "    > `__속성명__` : Python의 특수 메소드(special method)를 의미합니다.\n",
        "\n",
        "* **상속(inheritance)**\n",
        "\n",
        "    * 정의된 클래스의 속성과 메소드를 그대로 물려 받으려면 인자로 클래스를 받으면 됩니다.\n",
        "    > `class 자식클래스(부모클래스):`\n",
        "    * 또한 Python은 다중 상속(multiple inheritance), 즉 여러 개의 클래스를 동시에 물려받을 수 있는 기능을 제공합니다.\n",
        "    > `class 자식클래스(부모클래스1, 부모클래스2, ...)`\n",
        "\n",
        "* **다형성(polymorphism)**\n",
        "\n",
        "    * 자식 클래스는 부모 클래스가 가진 모든 속성, 메소드를 공유하며, 이를 변경해 사용할 수 있습니다.\n",
        "    * 이 때 메소드 이름을 바꾸지 않고 기능만 변경하는 것을 메소드 오버라이딩(method overriding)이라 하며, OOP 다형성의 전형적인 예시입니다."
      ]
    },
    {
      "cell_type": "code",
      "metadata": {
        "id": "MqX3UTYDiCQV",
        "colab_type": "code",
        "colab": {}
      },
      "source": [
        "# 주교재의 `click counter` 예제입니다.\n",
        "# 부모 클래스를 먼저 정의합니다.\n",
        "\n",
        "class CountingClicker:\n",
        "    def __init__(self, count=0):      # `CountingClicker`의 생성자\n",
        "        self.count = count            # `self`의 속성 `count`를 정의함\n",
        "    def click(self, num_times = 1):   # 생성될 인스턴스(`self`)를 받아 작동하는 함수 정의\n",
        "        self.count += num_times\n",
        "    def read(self):\n",
        "        return self.count\n",
        "    def reset(self):\n",
        "        self.count = 0\n",
        "\n",
        "# `CountingClicker`의 인스턴스 변수 `clicker`를 생성합니다.\n",
        "# 메소드를 사용할 때 `self`를 입력하지 않음을 알 수 있습니다.\n",
        "clicker = CountingClicker()\n",
        "clicker.click()\n",
        "clicker.click()\n",
        "clicker.click()\n",
        "# `clicker`의 속성인 `count`를 출력해봅니다.\n",
        "print(clicker.count)\n",
        "clicker.reset()\n",
        "print(clicker.count)"
      ],
      "execution_count": 0,
      "outputs": []
    },
    {
      "cell_type": "code",
      "metadata": {
        "id": "pMu_tPNSjTK4",
        "colab_type": "code",
        "colab": {}
      },
      "source": [
        "# 부모 클래스를 상속받아 자식 클래스를 정의합니다.\n",
        "# 여기서는 다형성 구현의 예제로 메소드 오버라이딩을 사용합니다.\n",
        "\n",
        "class NoResetClicker(CountingClicker):\n",
        "    def reset(self):\n",
        "        pass\n",
        "\n",
        "# 위에서와 같은 테스트를 해봅니다.\n",
        "clicker2 = NoResetClicker()\n",
        "clicker2.click()\n",
        "clicker2.click()\n",
        "clicker2.click()\n",
        "# `clicker2`의 속성인 `count`를 출력해봅니다.\n",
        "print(clicker2.count)\n",
        "clicker2.reset()\n",
        "print(clicker2.count)"
      ],
      "execution_count": 0,
      "outputs": []
    },
    {
      "cell_type": "code",
      "metadata": {
        "id": "_PrfHP75kZjP",
        "colab_type": "code",
        "colab": {}
      },
      "source": [
        "# 메소드 오버라이딩을 해도 부모 클래스의 메소드는 변하지 않음을 확인합니다.\n",
        "# 같은 이름의 메소드 `reset`을 다른 클래스에서 정의하여 불필요한 함수명을 추가로 만들지 않습니다.\n",
        "\n",
        "clicker3 = CountingClicker()\n",
        "\n",
        "clicker3.click()\n",
        "clicker3.click()\n",
        "clicker3.click()\n",
        "\n",
        "print(clicker3.count)\n",
        "clicker3.reset()\n",
        "print(clicker3.count)"
      ],
      "execution_count": 0,
      "outputs": []
    },
    {
      "cell_type": "markdown",
      "metadata": {
        "id": "BOXEoA4G4MSJ",
        "colab_type": "text"
      },
      "source": [
        "### 2.5 모듈(module)과 패키지(package), 그리고 `import`문"
      ]
    },
    {
      "cell_type": "markdown",
      "metadata": {
        "id": "22d2nFjzj2Gh",
        "colab_type": "text"
      },
      "source": [
        "#### 모듈(module)과 패키지(package)"
      ]
    },
    {
      "cell_type": "markdown",
      "metadata": {
        "id": "Mwq-O7ZbmSMO",
        "colab_type": "text"
      },
      "source": [
        "이제 Python에서 객체를 정의하고, 속성과 메소드를 다루는 기본적인 방법은 모두 알아 보았습니다.\n",
        "\n",
        "프로그래머는 이런 방식으로 필요한 클래스와 함수를 직접 정의해 사용하며, 비슷한 성격의 클래스와 함수를 한 파일에 저장합니다. 그리고 비슷한 성격의 파일을 폴더에 모아 놓습니다. 이를 각각 모듈(module)과 패키지(package)라 부릅니다."
      ]
    },
    {
      "cell_type": "markdown",
      "metadata": {
        "id": "S1d2dnmcm6hT",
        "colab_type": "text"
      },
      "source": [
        "* **모듈(module) = `.py` 파일**\n",
        "\n",
        "    * 모듈은 `.py` 확장자로 저장된 Python script 파일을 의미합니다.\n",
        "    * 모듈에는 프로그래머가 작성한 비슷한 성격의 클래스와 함수, 변수 등을 모아 놓습니다.\n",
        "    * 다른 Python script나 Jupyter Notebook 환경 등에서는 모듈을 불러들여 그 안에 정의된 클래스와 함수, 변수들을 사용할 수 있습니다.\n",
        "\n",
        "* **패키지(package) = `.py` 파일이 모여있는 폴더**\n",
        "\n",
        "    * 패키지는 Python 모듈의 폴더 구조입니다.\n",
        "    * `__init__.py`라는 파일을 폴더에 저장하면 Python 인터프리터는 그 폴더를 패키지로 인식합니다. (Github 등에 등록된 Python 패키지에 `__init__.py`라는 빈 파일이 있는 이유가 이것입니다.)\n",
        "    * 패키지에 포함된 하위 폴더를 서브패키지(subpackage)라 하며, 역시 `__init__.py` 파일을 저장해 패키지로 인식하도록 합니다.\n",
        "    * `__init__.py`에 초기화 명령문을 추가하면 패키지 실행시 필요한 초기 설정들을 저장할 수 있습니다.\n",
        "\n",
        "* **패키지, 모듈과 점 표현법(dot syntax)**\n",
        "\n",
        "    * 점 표현법은 객체의 속성, 메소드 포함 관계와 더불어 객체의 상위 모듈, 패키지의 포함 관계를 나타낼 수 있습니다.\n",
        "    > 예시 : `패키지이름.서브패키지이름.클래스이름.메소드이름`\n",
        "    * 코드에 여러 개의 마침표로 이어진 이름은 이 포함관계를 나타내는 것이므로, 사용법을 알아보기 위해 해당 모듈과 패키지에 대해 알아보면 많은 도움이 됩니다."
      ]
    },
    {
      "cell_type": "markdown",
      "metadata": {
        "id": "37k0lxeIj8zf",
        "colab_type": "text"
      },
      "source": [
        "#### 모듈, 패키지 불러오기 - `import`문"
      ]
    },
    {
      "cell_type": "markdown",
      "metadata": {
        "id": "FUsRbHwvqW7H",
        "colab_type": "text"
      },
      "source": [
        "Python은 `import`문을 사용하여 패키지와 모듈, 그리고 그에 따른 클래스와 메소드를 불러와 사용합니다.\n",
        "\n",
        "Python 프로그래밍에서는 필요한 패키지와 기능을 코드 상단에 미리 import하는 것이 관행입니다."
      ]
    },
    {
      "cell_type": "markdown",
      "metadata": {
        "id": "vjtRwIybqmYQ",
        "colab_type": "text"
      },
      "source": [
        "* **모듈과 패키지 불러오기 - `import ... as ...`**\n",
        "\n",
        "    * `import`문을 바로 사용하면 Python 라이브러리 폴더, 또는 지정된 폴더에 저장된 패키지를 불러옵니다.\n",
        "    * 이 때 `as`문을 추가하여 사용하려는 모듈, 패키지 이름을 지정할 수 있습니다. 유명한 패키지에는 이에 따르는 `as`문의 관행이 있습니다.\n",
        "    > `import numpy as np` - Python 프로그래밍에서 가장 많이 사용하게 되는 `import`문\n",
        "\n",
        "* **포함된 객체, 또는 메소드 불러오기 - `from ... import ...`**\n",
        "\n",
        "    * 패키지나 모듈에 포함된 특정 객체, 메소드만이 필요할 경우 `from`문으로 해당 패키지를 지정할 수 있습니다.\n",
        "    * `__future__`라는 내장 패키지는 현재 Python 버전에서 정식 지원하지 않는 기능을 담고 있으며, `from`문을 사용해 그 기능을 불러와 사용하는 것이 가능합니다.\n",
        "    > 예시 : `from __future__ import print_function`"
      ]
    },
    {
      "cell_type": "markdown",
      "metadata": {
        "colab_type": "text",
        "id": "to4UWWceBFfK"
      },
      "source": [
        "### 2.6 데이터 사이언스를 위한 유용한 기능들"
      ]
    },
    {
      "cell_type": "markdown",
      "metadata": {
        "id": "6hg8OdIFs5jd",
        "colab_type": "text"
      },
      "source": [
        "이제 Python을 활용한 객체 지향 프로그래밍의 기본적인 내용을 넘어서, 데이터 사이언스에 유용한 Python의 몇 가지 개념과 기능들을 소개하도록 하겠습니다."
      ]
    },
    {
      "cell_type": "markdown",
      "metadata": {
        "id": "mPlxu6Vr5wq6",
        "colab_type": "text"
      },
      "source": [
        "#### 시퀀스형(sequence type) 객체 다루기"
      ]
    },
    {
      "cell_type": "markdown",
      "metadata": {
        "id": "XLP4JHQstb9F",
        "colab_type": "text"
      },
      "source": [
        "* **시퀀스형(sequence type)**\n",
        "\n",
        "    * 시퀀스형 객체는 다변량 자료형의 일종으로, 포함된 값의 순서(index)가 있는 객체입니다.\n",
        "    * 대표적으로는 리스트, 튜플, `array()`, `range()`함수로 만들어진 객체가 있으며, 문자형 객체도 시퀀스형입니다.\n",
        "    * 데이터 사이언스의 데이터는 대부분의 경우 시퀀스형으로 주어지기 때문에 이 자료형을 다루는 기술이 중요합니다."
      ]
    },
    {
      "cell_type": "markdown",
      "metadata": {
        "id": "TKrMiW0duVJk",
        "colab_type": "text"
      },
      "source": [
        "* **인덱싱(indexing)**\n",
        "\n",
        "    * 인덱싱은 시퀀스형 객체의 특정 값을 인덱스로 호출하는 기법이며, 변수명 뒤에 대괄호(`[]`)를 사용해 수행합니다.\n",
        "    * Python의 인덱스는 `0`부터 시작하므로, 첫 번째 값을 호출하려면 `[0]`을 사용해야 합니다.\n",
        "    > `my_list = [1,2,3,4,5]`\n",
        "    >\n",
        "    > `print(my_list[3])`\n",
        "    >\n",
        "    > `4`\n",
        "    * 음수 인덱스는 `0`부터 거꾸로 값을 찾아 나갑니다.\n",
        "    > `print(my_list[-3])`\n",
        "    >\n",
        "    > `3`\n",
        "    * 가변형(mutable) 시퀀스의 경우 인덱싱을 사용하여 그 값을 바꿀 수 있습니다.\n",
        "    > `my_list[3] = 7`\n",
        "    >\n",
        "    > `print(my_list[3])`\n",
        "    >\n",
        "    > `7`"
      ]
    },
    {
      "cell_type": "markdown",
      "metadata": {
        "id": "7o_lh_yCw2xr",
        "colab_type": "text"
      },
      "source": [
        "* **슬라이싱(slicing)**\n",
        "\n",
        "    * 슬라이싱은 인덱싱의 확장으로, 시퀀스의 여러 값을 한 번에 호출하는 기법입니다.\n",
        "    * 대괄호 사이에 콜론(`:`)을 삽입하여 슬라이싱의 범위와 간격을 조정할 수 있습니다.\n",
        "    > `my_list2 = [1,2,3,4,5,6,7,8,9,10]`\n",
        "    >\n",
        "    > `print(my_list2[0:5:2])`\n",
        "    >\n",
        "    > `[1,3,5]`\n",
        "    * 슬라이싱의 범위 `[a:b:c]`는 $a\\le \\ <b$에 해당하는 인덱스를 $c$ 간격으로 탐색하라는 의미입니다.\n",
        "\n",
        "\n",
        "    "
      ]
    },
    {
      "cell_type": "markdown",
      "metadata": {
        "id": "oTiJg3EvyMyO",
        "colab_type": "text"
      },
      "source": [
        "* **시퀀스 복제(duplication)**\n",
        "\n",
        "    * 슬라이싱을 활용하면 같은 시퀀스를 복제하여 사용할 수 있습니다.\n",
        "    > `새변수명 = 시퀀스명[:]`\n",
        "    * 클래스와 함수에 시퀀스형을 초기화할 경우 시퀀스 복제를 사용하여 사본으로 자료를 처리하는 것이 바람직합니다."
      ]
    },
    {
      "cell_type": "markdown",
      "metadata": {
        "id": "7JsQB-Hz3ANs",
        "colab_type": "text"
      },
      "source": [
        "* **`len()` 함수**\n",
        "\n",
        "    * `len()` 함수는 시퀀스형 객체의 길이를 출력하는 함수입니다."
      ]
    },
    {
      "cell_type": "markdown",
      "metadata": {
        "id": "KGU63LB-yzAN",
        "colab_type": "text"
      },
      "source": [
        "#### 이터러블(iterable) 객체 다루기"
      ]
    },
    {
      "cell_type": "markdown",
      "metadata": {
        "id": "n9dLu8Ijy5jz",
        "colab_type": "text"
      },
      "source": [
        "* **이터러블(iterable)**\n",
        "\n",
        "    * 이터러블은 루프(loop) 연산이 가능한 객체를 의미합니다.\n",
        "    * 대부분의 시퀀스형은 이터러블 객체이며, 딕셔너리와 집합도 이터러블 객체입니다."
      ]
    },
    {
      "cell_type": "markdown",
      "metadata": {
        "id": "X7vFoyUs0PoP",
        "colab_type": "text"
      },
      "source": [
        "* **`range()` 함수**\n",
        "\n",
        "    * `range()`는 이터러블 객체를 만들어주는 함수입니다.\n",
        "    * 사용하는 방법은 슬라이싱과 같지만, 콜론이 아닌 콤마로 구분합니다. `list()` 등 자료형 생성 함수와 함께 사용할 수 있습니다.\n",
        "    > `my_list3 = list(range(1,10,2))`\n",
        "    >\n",
        "    > `print(my_list3)`\n",
        "    >\n",
        "    > `[1,3,5,7,9]`\n",
        "    * `range()` 객체는 `for`문 루프에서 바로 사용할 수도 있습니다."
      ]
    },
    {
      "cell_type": "markdown",
      "metadata": {
        "id": "hPkhpi4q1oHU",
        "colab_type": "text"
      },
      "source": [
        "* **`enumerate()` 함수**\n",
        "\n",
        "    * `enumerate()` 함수는 인덱스와 값을 동시에 유지하는 이터러블 객체를 생성합니다.\n",
        "    * 인덱스와 이에 따른 값을 동시에 관리하는 이터러블로, 루프에서 인덱스 정보를 추출해야할 때 유용합니다."
      ]
    },
    {
      "cell_type": "markdown",
      "metadata": {
        "id": "sTe4cUzW2wjK",
        "colab_type": "text"
      },
      "source": [
        "* **`zip()` 함수**\n",
        "\n",
        "    * `zip()` 함수는 여러 개의 이터러블 객체를 합쳐서 하나의 이터러블로 만드는 함수입니다.\n",
        "    * 이 때 대상이 되는 이터러블의 길이는 모두 같아야 합니다.\n",
        "    * 여러 개의 이터러블을 한 루프에서 처리해야 할 때 유용한 함수입니다."
      ]
    },
    {
      "cell_type": "markdown",
      "metadata": {
        "id": "XfbDDKy04Hcs",
        "colab_type": "text"
      },
      "source": [
        "#### 이터레이터(iterator)와 제네레이터(generator)"
      ]
    },
    {
      "cell_type": "markdown",
      "metadata": {
        "id": "nkH22xpK5RlZ",
        "colab_type": "text"
      },
      "source": [
        "* **이터레이터(iterator)**\n",
        "\n",
        "    * 이터레이터는 이터러블 객체를 생성하는 클래스를 의미합니다.\n",
        "    * 따라서 모든 이터레이터는 이터러블입니다.\n",
        "    * 이터레이터는 필요할 때만 적정 크기의 이터러블을 생성하기 위해 `next()`와 `iter()` 메소드를 사용합니다."
      ]
    },
    {
      "cell_type": "markdown",
      "metadata": {
        "id": "UZXlRiPr4NJ1",
        "colab_type": "text"
      },
      "source": [
        "* **제네레이터(generator)**\n",
        "\n",
        "    * 제네레이터는 `yield`문을 사용해 정의한 함수형 객체를 의미합니다.\n",
        "    * 제네레이터를 사용해 이터레이터를 정의할 수 있습니다. 그러므로 이터레이터는 제네레이터의 특수한 경우라 할 수 있습니다."
      ]
    },
    {
      "cell_type": "markdown",
      "metadata": {
        "id": "W_xBRDFs6Ry6",
        "colab_type": "text"
      },
      "source": [
        "* **이터러블과 이터레이터, 제네레이터의 관계**\n",
        "\n",
        "    <img src = \"https://mingrammer.com/images/2017-01-25-iter-vs-gen-relationships.png\" width = 700>\n",
        "    \n",
        "    (출처: https://mingrammer.com)"
      ]
    },
    {
      "cell_type": "markdown",
      "metadata": {
        "id": "AymIEdZ_qIAw",
        "colab_type": "text"
      },
      "source": [
        "#### 컴프리헨션(comprehension)"
      ]
    },
    {
      "cell_type": "markdown",
      "metadata": {
        "id": "XkIKWnrS6qTB",
        "colab_type": "text"
      },
      "source": [
        "* 컴프리헨션이란 루프와 조건문을 사용해 컨테이너 객체를 생성하는 문법입니다.\n",
        "* 컨테이너 객체에는 리스트, 딕셔너리, 집합형 등이 있습니다.\n",
        "    > `even_numbers = [x for x in range(5) if x % 2 == 0]` - 짝수를 포함하는 리스트형 객체를 생성합니다."
      ]
    },
    {
      "cell_type": "markdown",
      "metadata": {
        "id": "x0t_FsMil9vt",
        "colab_type": "text"
      },
      "source": [
        "#### `args`와 `kwargs`"
      ]
    },
    {
      "cell_type": "markdown",
      "metadata": {
        "id": "GLzM10iH8pZI",
        "colab_type": "text"
      },
      "source": [
        "* `args`와 `kwargs`는 함수에 정해지지 않은 갯수의 인자를 할당할 때 쓰는 문법입니다.\n",
        "* `kwargs`는 키워드 인자를, `args`는 키워드가 없는 위치 인자를 의미합니다.\n",
        "* `args`는 한 개의`*`, `kwargs`는 두 개의 `**`로 표현합니다.\n",
        "> `def my_function(*args, **kwargs)` \n",
        "* 보통 `args` 자리에는 리스트형을, `kwargs` 자리에는 딕셔너리 형을 대입합니다.\n",
        "\n",
        "※ 참고 : `*`와 `**`는 언패킹(unpaking) 연산자로도 쓰이며, 각각 리스트/튜플의 값, 딕셔너리의 키워드를 언패킹할 때 쓰입니다."
      ]
    },
    {
      "cell_type": "markdown",
      "metadata": {
        "id": "EDLI5BQy71NP",
        "colab_type": "text"
      },
      "source": [
        "#### 불리언(Boolean) 생성하기"
      ]
    },
    {
      "cell_type": "markdown",
      "metadata": {
        "id": "mpPV0VJc76N6",
        "colab_type": "text"
      },
      "source": [
        "* 불리언 객체는 `True`, `False`를 직접 할당하여 정의할수도 있지만, 객체의 값에 불리언 연산을 적용하여 할당할 수도 있습니다.\n",
        "* 아래는 `False` 값을 할당하는 자료형의 대표적 예시입니다.\n",
        "> `0` (정수형)\n",
        ">\n",
        "> `0.0` (실수형)\n",
        ">\n",
        "> `[]` (리스트형)\n",
        ">\n",
        "> `\"\"` (문자형)"
      ]
    },
    {
      "cell_type": "markdown",
      "metadata": {
        "id": "hMJx7Eqf_KSo",
        "colab_type": "text"
      },
      "source": [
        "#### `OrderedDict` 자료형"
      ]
    },
    {
      "cell_type": "markdown",
      "metadata": {
        "id": "bCH3fgBz-iAh",
        "colab_type": "text"
      },
      "source": [
        "* `OrderedDict`은 `collections` 패키지에 포함된 자료형으로, 딕셔너리에 순서를 부여하는 자료형입니다.\n",
        "> `from collections import OrderedDict`\n",
        "* 따라서 `OrderedDict`은 이터러블 객체이며, 루프 연산이 가능합니다."
      ]
    },
    {
      "cell_type": "markdown",
      "metadata": {
        "id": "XC23lFfM61YS",
        "colab_type": "text"
      },
      "source": [
        "#### 변수 타입 설정하기"
      ]
    },
    {
      "cell_type": "markdown",
      "metadata": {
        "id": "lo7VRTpl_Mhs",
        "colab_type": "text"
      },
      "source": [
        "* Python은 기본적으로 동적 타이핑(dynamic typing)을 원칙으로 하기에 객체의 자료형을 따로 정으하지 않아도 됩니다.\n",
        "* 만약 자료형을 특정해야 할 경우에는 아래와 같은 방법으로 설정할 수 있습니다.\n",
        "\n",
        "    * 함수의 자료형은 `->`로 지정합니다.\n",
        "    > 예시 : `def my_func2(argument) -> float:`\n",
        "    * 함수 인자의 자료형은 `:`로 지정합니다.\n",
        "    > 예시 : `def my_func3(arg1 : int, arg2 : float):`\n",
        "    * 그리고 `typing` 패키지의 자료형 지정 명령어를 불러와 지정할 수 있습니다."
      ]
    },
    {
      "cell_type": "markdown",
      "metadata": {
        "id": "m25Jd1hK7KsI",
        "colab_type": "text"
      },
      "source": [
        "### 2.7 Outro: 다시 코드를 봅시다"
      ]
    },
    {
      "cell_type": "markdown",
      "metadata": {
        "id": "FpeVHUOZAWVD",
        "colab_type": "text"
      },
      "source": [
        "이제 다시 Intro로 돌아가 코드를 한 번 더 읽어봅시다. 코드의 의미를 완전히 이해하기엔 부족하지만, 앞선 질문들에 대한 대답이 충분히 가능한 것을 느끼실 수 있을 것입니다.\n",
        "* `from ... import ...`와 `import ... as ...`가 윗 부분에 쌓여있다. **→ 패키지, 모듈과 `import`문**\n",
        "* `#`와 `\"\"\" ... \"\"\"`로 뭔가 잔뜩 쓰여있다. **→ 주석 처리와 독스트링(docstring)**\n",
        "* 코드가 정돈된 느낌이 있다. **→ white spacing과 Pythonic 코드**\n",
        "* `class`와 `def`가 코드의 대부분을 차지한다. **→ Python의 객체 지향 프로그래밍**\n",
        "* `__init__()`와 `self`라는 표현이 자주 눈에 띈다. **→ 사용자 정의 클래스의 생성자**\n",
        "* 이름에 특정한 패턴이 있다. (`a.b`,  `_c` 등) **→ 점 표현법(dot syntax)과 private method**\n",
        "* 이름과 이름사이는 대부분 `=`로 이어져있다. **→ 변수와 할당**"
      ]
    },
    {
      "cell_type": "markdown",
      "metadata": {
        "id": "Br42bvTMiCXq",
        "colab_type": "text"
      },
      "source": [
        "### 참고자료 (Python & object-oriented programming(OOP))"
      ]
    },
    {
      "cell_type": "markdown",
      "metadata": {
        "id": "YKvHUd1NiHDw",
        "colab_type": "text"
      },
      "source": [
        "* [Python 공식 documentation (한국어, 3.6.9버전)](https://docs.python.org/ko/3.6/index.html) - 자습서를 포함한 Python 관련 공식 기술문서를 열람할 수 있습니다.\n",
        "* [점프 투 파이썬 WikiDocs](https://wikidocs.net/book/1) - Python 교재 중 인지도가 높은 책이며, WikiDocs로 무료 배포되어 있습니다.\n",
        "* [a Whirlwind Tour of Python](https://jakevdp.github.io/WhirlwindTourOfPython/) - 명저인 Python data science handbook의 저자가 쓴 Python 입문서입니다.\n"
      ]
    },
    {
      "cell_type": "markdown",
      "metadata": {
        "id": "pGV4WU16cdq-",
        "colab_type": "text"
      },
      "source": [
        "## 3. Useuful Packages of Python"
      ]
    },
    {
      "cell_type": "markdown",
      "metadata": {
        "id": "Sn8s6v8pDss_",
        "colab_type": "text"
      },
      "source": [
        "### 3.1 Intro: SciPy ecosystem"
      ]
    },
    {
      "cell_type": "markdown",
      "metadata": {
        "id": "p0p7qeGaEcEC",
        "colab_type": "text"
      },
      "source": [
        "SciPy ecosystem은 `scipy.org`에서 관리하는 Python의 과학 계산 패키지 생태계입니다.\n",
        "\n",
        "유명한 패키지들인 Numpy, Scipy, Pandas, Scikit-learn, Matplotlib 모두 SciPy ecosystem에 속해있으며, 주기적인 업데이트를 통해 그 활용 영역을 끊임없이 넓혀가고 있습니다."
      ]
    },
    {
      "cell_type": "markdown",
      "metadata": {
        "id": "jJjEbs6HD479",
        "colab_type": "text"
      },
      "source": [
        "### 3.2 NumPy"
      ]
    },
    {
      "cell_type": "markdown",
      "metadata": {
        "id": "WvBWGWrpE7mq",
        "colab_type": "text"
      },
      "source": [
        "`NumPy`는 Python의 수치 계산을 위해 고안된 패키지이며, 현재는 하위 자료형인 `numpy array`의 범용성으로 인해 필수 패키지로 사용되고 있습니다.\n",
        "\n",
        "* `ndarray` 자료형은 기본 자료형이 표현하지 못하는 고차원(high-dimensional) 자료 표현이 가능하며, 빠른 계산 속도를 보장합니다.\n",
        "* 또한 `range`함수와 리스트 컴프리헨션 등의 기본형 문법을 지원합니다.\n",
        "* `ndarray`를 효과적으로 다루기 위한 기본적인 선형대수 메소드를 포함하고 있습니다. (dot product, eigenvalue decomposition 등)"
      ]
    },
    {
      "cell_type": "code",
      "metadata": {
        "id": "fPqqYEJuF2V4",
        "colab_type": "code",
        "colab": {}
      },
      "source": [
        "# 표준적인 임포트 형식은 아래와 같습니다.\n",
        "import numpy as np\n",
        "dir(np)"
      ],
      "execution_count": 0,
      "outputs": []
    },
    {
      "cell_type": "markdown",
      "metadata": {
        "id": "jFM8KeNOD-j9",
        "colab_type": "text"
      },
      "source": [
        "### 3.3 Pandas"
      ]
    },
    {
      "cell_type": "markdown",
      "metadata": {
        "id": "YGsj-HQPGLKO",
        "colab_type": "text"
      },
      "source": [
        "`Pandas`는 labeled Column-oriented data를 지원하기 위한 Python 패키지입니다.\n",
        "* `Pandas`는 `DataFrame`이라는 자료형을 제공하며, 이는 R에서의 data frame과 동일한 성질 및 기능성을 가지고 있습니다.\n",
        "* `DataFrame` 자료형에 내장된 메소드를 활용해 전처리 및 기초 통계량 계산 등의 작업을 쉽게 수행할 수 있습니다."
      ]
    },
    {
      "cell_type": "code",
      "metadata": {
        "id": "c2mdxVCPGoLx",
        "colab_type": "code",
        "colab": {}
      },
      "source": [
        "# 표준적인 임포트 형식은 아래와 같습니다.\n",
        "import pandas as pd\n",
        "dir(pd)"
      ],
      "execution_count": 0,
      "outputs": []
    },
    {
      "cell_type": "markdown",
      "metadata": {
        "id": "9X3eAMNVEBah",
        "colab_type": "text"
      },
      "source": [
        "### 3.4 Matplotlib"
      ]
    },
    {
      "cell_type": "markdown",
      "metadata": {
        "id": "bgEwnUFEGv14",
        "colab_type": "text"
      },
      "source": [
        "`Matplotlib`은 데이터의 시각화를 위한 패키지로, MATLAB 스타일의 그래픽을 구현하기 위해 만들어진 패키지입니다.\n",
        "* `Matplotlib`은 `NumPy` 자료형과의 호환성이 뛰어난 장점이 있습니다.\n",
        "* 또한 R의 `ggplot` 스타일의 그래픽을 구현할 수 있어서 R 사용자들에게 충분한 호환성을 제공합니다."
      ]
    },
    {
      "cell_type": "code",
      "metadata": {
        "id": "VQ6IUUJKHUsl",
        "colab_type": "code",
        "colab": {}
      },
      "source": [
        "# 표준적인 임포트 형식은 아래와 같습니다.\n",
        "import matplotlib.pyplot as plt\n",
        "dir(plt)"
      ],
      "execution_count": 0,
      "outputs": []
    },
    {
      "cell_type": "markdown",
      "metadata": {
        "id": "GROdd8ftEOor",
        "colab_type": "text"
      },
      "source": [
        "### 3.5 Scikit-learn"
      ]
    },
    {
      "cell_type": "markdown",
      "metadata": {
        "id": "S9uv2t07HfcL",
        "colab_type": "text"
      },
      "source": [
        "`Scikit-learn`은 Python의 기계학습 구현을 위한 패키지로, 회귀(regression)와 분류(classification) 문제를 해결하기 위한 대부분의 방법론이 포함되어 있습니다.\n",
        "* `Scikit-learn`은 패키지 자체를 임포트하기 보다는 그 안에 구현된 방법론을 하나씩 임포트하여 사용합니다.\n",
        "* 지도 학습과 비지도학습, 모델 평가(evaluation), 전처리(preprocessing)기능을 대부분 포함하고 있습니다.\n",
        "\n",
        "    * 지도학습 - 선형 회귀, SVM, Naive Bayes, KNN 등\n",
        "    * 비지도학습 - PCA, K means clustering 등\n",
        "    * 모델 평가 - MSE, MAE, V-measure 등"
      ]
    },
    {
      "cell_type": "code",
      "metadata": {
        "id": "eV1NrLTQIaWj",
        "colab_type": "code",
        "colab": {}
      },
      "source": [
        "from sklearn import neighbors\n",
        "knn = neighbors.KNeighborsClassifier"
      ],
      "execution_count": 0,
      "outputs": []
    },
    {
      "cell_type": "markdown",
      "metadata": {
        "id": "k3sIZf3ywgz9",
        "colab_type": "text"
      },
      "source": [
        "### 참고자료 (Useful Packages of Python)\n",
        "\n",
        "* [SciPy Ecosystem Cookbook](https://scipy-cookbook.readthedocs.io/) - SciPy Ecosystem의 주요 라이브러리 (NumPy, SciPy, Matplotlib, Pandas) 공식 Cookbook을 열람할 수 있습니다.\n",
        "* [Python Data Science Handbook](https://jakevdp.github.io/PythonDataScienceHandbook/) - NumPy, Pandas, Matplotlib, Scikit-learn을 사용하는 방법을 개괄하는 책으로, e-book으로 무료 배포되어 있습니다. 또한 모든 코드는 Github과 Colab을 활용해 실습할 수 있도록 공개되어 있어 좋은 참고자료가 될 것입니다."
      ]
    },
    {
      "cell_type": "markdown",
      "metadata": {
        "id": "ilk3v9B_c1Wt",
        "colab_type": "text"
      },
      "source": [
        "## 4. Github과 Colab(Jupyter Notebook) 같이 쓰기"
      ]
    },
    {
      "cell_type": "markdown",
      "metadata": {
        "id": "B7JkWqwTIzI7",
        "colab_type": "text"
      },
      "source": [
        "### 4.1 Github repository clone하기"
      ]
    },
    {
      "cell_type": "markdown",
      "metadata": {
        "id": "ytyaDKMgI7ci",
        "colab_type": "text"
      },
      "source": [
        "Python 프로그래머들은 작성한 코드와 데이터셋을 대부분 Github의 repository에 보관 및 배포합니다.\n",
        "\n",
        "Google Colab은 Jupyter Notebook 환경에서 제공하는 clone 명령어를 지원하며, repository를 clone하면 그 안에 포함된 패키지와 모듈, 데이터를 내 디렉토리와 같이 사용할 수 있습니다."
      ]
    },
    {
      "cell_type": "code",
      "metadata": {
        "id": "f1xirrmpJRyU",
        "colab_type": "code",
        "outputId": "1afc539d-7058-46d7-b5dc-06a65dc65fb3",
        "colab": {
          "base_uri": "https://localhost:8080/",
          "height": 158
        }
      },
      "source": [
        "# 주교재 저자의 Github repository를 clone하는 예시입니다.\n",
        "# 'data-science-from-scratch'라는 폴더가 Colab에 새로 생성된 것을 확인할 수 있습니다.\n",
        "\n",
        "%cd /content\n",
        "!git clone https://github.com/joelgrus/data-science-from-scratch"
      ],
      "execution_count": 0,
      "outputs": [
        {
          "output_type": "stream",
          "text": [
            "/content\n",
            "Cloning into 'data-science-from-scratch'...\n",
            "remote: Enumerating objects: 25, done.\u001b[K\n",
            "remote: Counting objects: 100% (25/25), done.\u001b[K\n",
            "remote: Compressing objects: 100% (16/16), done.\u001b[K\n",
            "remote: Total 380 (delta 9), reused 18 (delta 7), pack-reused 355\u001b[K\n",
            "Receiving objects: 100% (380/380), 764.10 KiB | 12.32 MiB/s, done.\n",
            "Resolving deltas: 100% (197/197), done.\n"
          ],
          "name": "stdout"
        }
      ]
    },
    {
      "cell_type": "markdown",
      "metadata": {
        "id": "BxzhnIo1JjCf",
        "colab_type": "text"
      },
      "source": [
        "### 4.2 Github에 저장된 `.ipynb` 파일 오픈하기"
      ]
    },
    {
      "cell_type": "markdown",
      "metadata": {
        "id": "_w5A8IyxJpBC",
        "colab_type": "text"
      },
      "source": [
        "Github과 Colab은 직접 연동하여 사용할수도 있습니다.\n",
        "\n",
        "Github repository에 저장된 `.ipynb`코드를 url을 통해 불러올 수 있고, 실습 모드에서 바로 코드 실행이 가능하여 학습에 대단히 유리합니다.\n",
        "\n",
        "실행 방법은 Colab을 오픈하여 Github 탭에서 바로 url을 입력하거나, '파일'의 '노트 열기' 명령어로 실행할수도 있습니다.\n",
        "\n",
        "실습을 위해 DQN이 구현된 repository를 방문하고, 코드를 실행해보도록 하겠습니다.\n",
        "(출처 - https://github.com/Curt-Park/rainbow-is-all-you-need)"
      ]
    },
    {
      "cell_type": "code",
      "metadata": {
        "id": "7TvEBppvLg44",
        "colab_type": "code",
        "colab": {}
      },
      "source": [
        "!git clone https://github.com/Curt-Park/rainbow-is-all-you-need"
      ],
      "execution_count": 0,
      "outputs": []
    }
  ]
}
